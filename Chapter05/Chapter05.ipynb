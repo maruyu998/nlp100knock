{
 "cells": [
  {
   "cell_type": "markdown",
   "metadata": {},
   "source": [
    "# 第5章: 係り受け解析\n",
    "夏目漱石の小説『吾輩は猫である』の文章（neko.txt）をCaboChaを使って係り受け解析し，その結果をneko.txt.cabochaというファイルに保存せよ．このファイルを用いて，以下の問に対応するプログラムを実装せよ．"
   ]
  },
  {
   "cell_type": "code",
   "execution_count": 1,
   "metadata": {},
   "outputs": [
    {
     "name": "stdout",
     "output_type": "stream",
     "text": [
      "Will not apply HSTS. The HSTS database must be a regular and non-world-writable file.\n",
      "ERROR: could not open HSTS store at '/home/yukimaru/.wget-hsts'. HSTS will be disabled.\n",
      "--2020-04-08 17:03:50--  https://nlp100.github.io/data/neko.txt\n",
      "Resolving nlp100.github.io (nlp100.github.io)... 185.199.109.153, 185.199.110.153, 185.199.111.153, ...\n",
      "Connecting to nlp100.github.io (nlp100.github.io)|185.199.109.153|:443... connected.\n",
      "HTTP request sent, awaiting response... 200 OK\n",
      "Length: 965825 (943K) [text/plain]\n",
      "Saving to: ‘neko.txt’\n",
      "\n",
      "neko.txt            100%[===================>] 943.19K  1.10MB/s    in 0.8s    \n",
      "\n",
      "2020-04-08 17:03:52 (1.10 MB/s) - ‘neko.txt’ saved [965825/965825]\n",
      "\n"
     ]
    }
   ],
   "source": [
    "!rm neko.txt\n",
    "!wget https://nlp100.github.io/data/neko.txt"
   ]
  },
  {
   "cell_type": "code",
   "execution_count": 2,
   "metadata": {},
   "outputs": [],
   "source": [
    "import CaboCha"
   ]
  },
  {
   "cell_type": "code",
   "execution_count": 3,
   "metadata": {},
   "outputs": [],
   "source": [
    "with open('neko.txt') as infile, open('neko.txt.cabocha','w') as outfile:\n",
    "    cabocha = CaboCha.Parser()\n",
    "    for line in infile:\n",
    "        outfile.write(cabocha.parse(line).toString(CaboCha.FORMAT_LATTICE))"
   ]
  },
  {
   "cell_type": "code",
   "execution_count": 4,
   "metadata": {},
   "outputs": [
    {
     "name": "stdout",
     "output_type": "stream",
     "text": [
      "* 0 -1D 0/0 0.000000\n",
      "一\t名詞,数,*,*,*,*,一,イチ,イチ,,\n",
      "EOS\n",
      "EOS\n",
      "* 0 2D 0/0 -0.764522\n",
      "　\t記号,空白,*,*,*,*,　,　,　,,\n",
      "* 1 2D 0/1 -0.764522\n",
      "吾輩\t名詞,代名詞,一般,*,*,*,吾輩,ワガハイ,ワガハイ,,\n",
      "は\t助詞,係助詞,*,*,*,*,は,ハ,ワ,,\n",
      "* 2 -1D 0/2 0.000000\n",
      "猫\t名詞,一般,*,*,*,*,猫,ネコ,ネコ,,\n",
      "で\t助動詞,*,*,*,特殊・ダ,連用形,だ,デ,デ,,\n",
      "ある\t助動詞,*,*,*,五段・ラ行アル,基本形,ある,アル,アル,,\n",
      "。\t記号,句点,*,*,*,*,。,。,。,,\n",
      "EOS\n",
      "* 0 2D 0/1 -1.911675\n",
      "名前\t名詞,一般,*,*,*,*,名前,ナマエ,ナマエ,,\n",
      "は\t助詞,係助詞,*,*,*,*,は,ハ,ワ,,\n",
      "* 1 2D 0/0 -1.911675\n",
      "まだ\t副詞,助詞類接続,*,*,*,*,まだ,マダ,マダ,,\n",
      "* 2 -1D 0/0 0.000000\n",
      "無い\t形容詞,自立,*,*,形容詞・アウオ段,基本形,無い,ナイ,ナイ,ない/無い,\n",
      "。\t記号,句点,*,*,*,*,。,。,。,,\n",
      "EOS\n",
      "EOS\n",
      "* 0 1D 1/2 1.058678\n",
      "　\t記号,空白,*,*,*,*,　,　,　,,\n",
      "どこ\t名詞,代名詞,一般,*,*,*,どこ,ドコ,ドコ,,\n",
      "で\t助詞,格助詞,一般,*,*,*,で,デ,デ,,\n",
      "* 1 4D 0/2 -1.453749\n",
      "生れ\t動詞,自立,*,*,一段,連用形,生れる,ウマレ,ウマレ,うまれ/生まれ/生れ,\n",
      "た\t助動詞,*,*,*,特殊・タ,基本形,た,タ,タ,,\n",
      "か\t助詞,副助詞／並立助詞／終助詞,*,*,*,*,か,カ,カ,,\n",
      "* 2 4D 0/0 -1.453749\n",
      "とんと\t副詞,一般,*,*,*,*,とんと,トント,トント,,\n"
     ]
    }
   ],
   "source": [
    "%%bash\n",
    "head -n35 neko.txt.cabocha"
   ]
  },
  {
   "cell_type": "code",
   "execution_count": 5,
   "metadata": {},
   "outputs": [],
   "source": [
    "def get_sentence_line(f):\n",
    "    sentence_line = []\n",
    "    for line in f:\n",
    "        line = line.rstrip()\n",
    "        if line == \"EOS\": \n",
    "            yield sentence_line\n",
    "            sentence_line = []\n",
    "        else: sentence_line.append(line)\n",
    "    yield sentence_line\n",
    "          \n",
    "def get_chunk_line(sentence_line):\n",
    "    chunk_line = []\n",
    "    for word_line in sentence_line:\n",
    "        if word_line[0] == \"*\":\n",
    "            yield chunk_line\n",
    "            chunk_line = []\n",
    "        chunk_line.append(word_line)\n",
    "    yield chunk_line"
   ]
  },
  {
   "cell_type": "markdown",
   "metadata": {},
   "source": [
    "## 40. 係り受け解析結果の読み込み（形態素）\n",
    "形態素を表すクラスMorphを実装せよ．このクラスは表層形（surface），基本形（base），品詞（pos），品詞細分類1（pos1）をメンバ変数に持つこととする．さらに，CaboChaの解析結果（neko.txt.cabocha）を読み込み，各文をMorphオブジェクトのリストとして表現し，3文目の形態素列を表示せよ．"
   ]
  },
  {
   "cell_type": "markdown",
   "metadata": {},
   "source": [
    "参考 # [\"pos\",\"pos1\",\"pos2\",\"pos3\",\"conjt\",\"conjf\",\"base\",\"ruby\",\"pron\",\"?\",\"?\"]"
   ]
  },
  {
   "cell_type": "code",
   "execution_count": 6,
   "metadata": {},
   "outputs": [
    {
     "name": "stdout",
     "output_type": "stream",
     "text": [
      "Python 3.8.0\n"
     ]
    }
   ],
   "source": [
    "# ※代入式(:=)はpython3.8から使用可能\n",
    "!python -V"
   ]
  },
  {
   "cell_type": "code",
   "execution_count": 7,
   "metadata": {},
   "outputs": [],
   "source": [
    "class Morph:\n",
    "    def __init__(self,line):\n",
    "        self.make_morph(line)\n",
    "    \n",
    "    def make_morph(self,line):\n",
    "        self.surface, left = line.split('\\t')\n",
    "        self.pos, self.pos1, _,_,_,_, self.base, = left.split(\",\")[:7]\n",
    "    \n",
    "    def get_all(self):\n",
    "        return {\"surface\":self.surface, \"base\":self.base, \"pos\":self.pos, \"pos1\":self.pos1}"
   ]
  },
  {
   "cell_type": "code",
   "execution_count": 8,
   "metadata": {},
   "outputs": [
    {
     "name": "stdout",
     "output_type": "stream",
     "text": [
      "{'surface': '\\u3000', 'base': '\\u3000', 'pos': '記号', 'pos1': '空白'}\n",
      "{'surface': '吾輩', 'base': '吾輩', 'pos': '名詞', 'pos1': '代名詞'}\n",
      "{'surface': 'は', 'base': 'は', 'pos': '助詞', 'pos1': '係助詞'}\n",
      "{'surface': '猫', 'base': '猫', 'pos': '名詞', 'pos1': '一般'}\n",
      "{'surface': 'で', 'base': 'だ', 'pos': '助動詞', 'pos1': '*'}\n",
      "{'surface': 'ある', 'base': 'ある', 'pos': '助動詞', 'pos1': '*'}\n",
      "{'surface': '。', 'base': '。', 'pos': '記号', 'pos1': '句点'}\n"
     ]
    }
   ],
   "source": [
    "with open('neko.txt.cabocha') as f:\n",
    "    sentences = []\n",
    "    for i,sentence_line in enumerate(get_sentence_line(f)):\n",
    "        chunks = []\n",
    "        for chunk_line in get_chunk_line(sentence_line):\n",
    "            if chunk_line == []: continue\n",
    "            chunk_line.pop(0)\n",
    "            for word_line in chunk_line:\n",
    "                chunks.append(Morph(word_line))\n",
    "        sentences.append(chunks)\n",
    "        if len(sentences)>=3: break\n",
    "\n",
    "print(*[morph.get_all() for morph in sentences[-1]],sep=\"\\n\")"
   ]
  },
  {
   "cell_type": "markdown",
   "metadata": {},
   "source": [
    "## 41. 係り受け解析結果の読み込み（文節・係り受け）\n",
    "40に加えて，文節を表すクラスChunkを実装せよ．このクラスは形態素（Morphオブジェクト）のリスト（morphs），係り先文節インデックス番号（dst），係り元文節インデックス番号のリスト（srcs）をメンバ変数に持つこととする．さらに，入力テキストのCaboChaの解析結果を読み込み，１文をChunkオブジェクトのリストとして表現し，8文目の文節の文字列と係り先を表示せよ．第5章の残りの問題では，ここで作ったプログラムを活用せよ．"
   ]
  },
  {
   "cell_type": "markdown",
   "metadata": {},
   "source": [
    "> \\* 0 6D 0/1 -2.457381\n",
    "\n",
    "\\* chunk_num かかり先id(-1は無し)D 主辞/機能語 係り関係のスコア"
   ]
  },
  {
   "cell_type": "code",
   "execution_count": 9,
   "metadata": {},
   "outputs": [],
   "source": [
    "class Chunk:\n",
    "    def __init__(self, first):\n",
    "        self.id = int(first.split(' ')[1])\n",
    "        self.dst = int(first.split(' ')[2].rstrip(\"D\"))\n",
    "        self.srcs = []\n",
    "        self.morphs = []\n",
    "        self.dst_m = None\n",
    "        self.srcs_m = []\n",
    "    \n",
    "    def __call__(self,i):\n",
    "        return self.morphs[i]\n",
    "    \n",
    "    def __len__(self):\n",
    "        return len(self.morphs)\n",
    "    \n",
    "    def add_morph(self, line):\n",
    "        morph = Morph(line)\n",
    "        self.morphs.append(morph)\n",
    "        \n",
    "    def find(self,*,surface=None,base=None,pos=None,pos1=None,index=\"no\"):\n",
    "        morphs = {i:m for i,m in enumerate(self.morphs)}\n",
    "        if surface: morphs = {i:m for i,m in morphs.items() if m.surface==surface}\n",
    "        if base:    morphs = {i:m for i,m in morphs.items() if m.base   ==base}\n",
    "        if pos:     morphs = {i:m for i,m in morphs.items() if m.pos    ==pos}\n",
    "        if pos1:    morphs = {i:m for i,m in morphs.items() if m.pos1   ==pos1}\n",
    "        if index==\"no\": return list(morphs.values())\n",
    "        if index==\"only\": return list(morphs.keys())\n",
    "        return morphs\n",
    "\n",
    "    def get_plane(self):\n",
    "        return \"\".join([morph.surface for morph in self.morphs])\n",
    "      \n",
    "    def get_plane_without_mark(self):\n",
    "        return \"\".join([morph.surface for morph in self.morphs if morph.pos!=\"記号\"])"
   ]
  },
  {
   "cell_type": "code",
   "execution_count": 10,
   "metadata": {},
   "outputs": [],
   "source": [
    "def parse_f(f, stop=None):\n",
    "    for i,sentence_line in enumerate(get_sentence_line(f),1):\n",
    "        chunks = {}\n",
    "        for chunk_line in get_chunk_line(sentence_line):\n",
    "            if chunk_line == []: continue\n",
    "            chunk = Chunk(chunk_line.pop(0))\n",
    "            for word_line in chunk_line:\n",
    "                chunk.add_morph(word_line)\n",
    "            chunks[chunk.id] = chunk\n",
    "        for chunk in chunks.values():\n",
    "            if chunk.dst!=-1: \n",
    "                chunk.dst_m = chunks[chunk.dst]\n",
    "                chunk.dst_m.srcs.append(chunk.id)\n",
    "                chunk.dst_m.srcs_m.append(chunks[chunk.id])\n",
    "        yield chunks\n",
    "        if stop is not None and i >= stop: return\n",
    "    yield chunks"
   ]
  },
  {
   "cell_type": "code",
   "execution_count": 11,
   "metadata": {},
   "outputs": [],
   "source": [
    "def parse_neko(stop=None):\n",
    "    with open('neko.txt.cabocha') as f:\n",
    "        for sentence in parse_f(f, stop):\n",
    "            yield sentence"
   ]
  },
  {
   "cell_type": "code",
   "execution_count": 12,
   "metadata": {},
   "outputs": [
    {
     "name": "stdout",
     "output_type": "stream",
     "text": [
      "0 吾輩は \t-> 5\n",
      "1 ここで \t-> 2\n",
      "2 始めて \t-> 3\n",
      "3 人間という \t-> 4\n",
      "4 ものを \t-> 5\n",
      "5 見た。 \t-> -1\n"
     ]
    }
   ],
   "source": [
    "sentences = [s for s in parse_neko(8)]\n",
    "print(*[\"{} {} \\t-> {}\".format(chunk.id,chunk.get_plane(),chunk.dst) for chunk in sentences[7].values()],sep=\"\\n\")"
   ]
  },
  {
   "cell_type": "markdown",
   "metadata": {},
   "source": [
    "## 42. 係り元と係り先の文節の表示\n",
    "係り元の文節と係り先の文節のテキストをタブ区切り形式ですべて抽出せよ．ただし，句読点などの記号は出力しないようにせよ."
   ]
  },
  {
   "cell_type": "code",
   "execution_count": 13,
   "metadata": {},
   "outputs": [
    {
     "name": "stdout",
     "output_type": "stream",
     "text": [
      "0 吾輩は \t-> 5 見た\n",
      "1 ここで \t-> 2 始めて\n",
      "2 始めて \t-> 3 人間という\n",
      "3 人間という \t-> 4 ものを\n",
      "4 ものを \t-> 5 見た\n",
      "5 見た \t-> -1 \n"
     ]
    }
   ],
   "source": [
    "sentence = [s for s in parse_neko(8)][7]\n",
    "print(*[\"{} {} \\t-> {} {}\".format(chunk.id,chunk.get_plane_without_mark(),chunk.dst,(chunk.dst_m.get_plane_without_mark() if chunk.dst!=-1 else \"\")) \n",
    "        for chunk in sentence.values()],sep=\"\\n\")"
   ]
  },
  {
   "cell_type": "markdown",
   "metadata": {},
   "source": [
    "## 43. 名詞を含む文節が動詞を含む文節に係るものを抽出\n",
    "名詞を含む文節が，動詞を含む文節に係るとき，これらをタブ区切り形式で抽出せよ．ただし，句読点などの記号は出力しないようにせよ．"
   ]
  },
  {
   "cell_type": "code",
   "execution_count": 14,
   "metadata": {},
   "outputs": [
    {
     "name": "stdout",
     "output_type": "stream",
     "text": [
      "0 どこで \t-> 1 生れたか\n",
      "3 見当が \t-> 4 つかぬ\n",
      "3 所で \t-> 5 泣いていた\n",
      "4 ニャーニャー \t-> 5 泣いていた\n",
      "6 事だけは \t-> 7 記憶している\n",
      "0 吾輩は \t-> 5 見た\n",
      "1 ここで \t-> 2 始めて\n",
      "4 ものを \t-> 5 見た\n",
      "3 我々を \t-> 4 捕えて\n"
     ]
    }
   ],
   "source": [
    "for sentence in parse_neko(10):\n",
    "    l = [\"{} {} \\t-> {} {}\".format(chunk.id,chunk.get_plane_without_mark(),chunk.dst,chunk.dst_m.get_plane_without_mark())\n",
    "            for chunk in sentence.values() if chunk.dst!=-1 and len(chunk.find(pos=\"名詞\"))>0 and len(chunk.dst_m.find(pos=\"動詞\"))>0]\n",
    "    if len(l)>0: print(*l,sep=\"\\n\")"
   ]
  },
  {
   "cell_type": "markdown",
   "metadata": {},
   "source": [
    "## 44. 係り受け木の可視化\n",
    "与えられた文の係り受け木を有向グラフとして可視化せよ．可視化には，係り受け木を[DOT言語](http://ja.wikipedia.org/wiki/DOT%E8%A8%80%E8%AA%9E)に変換し，[Graphviz](http://www.graphviz.org/)を用いるとよい．また，Pythonから有向グラフを直接的に可視化するには，[pydot](https://code.google.com/p/pydot/)を使うとよい．"
   ]
  },
  {
   "cell_type": "code",
   "execution_count": 15,
   "metadata": {},
   "outputs": [
    {
     "name": "stdout",
     "output_type": "stream",
     "text": [
      "digraph G {\n",
      "\t\"与えられた\" -> \"文の\";\n",
      "\t\"文の\" -> \"係り\";\n",
      "\t\"係り\" -> \"受け木を\";\n",
      "\t\"受け木を\" -> \"可視化せよ\";\n",
      "\t\"有向グラフとして\" -> \"可視化せよ\";\n",
      "}\n"
     ]
    },
    {
     "data": {
      "image/png": "[encoded data removed]",
      "text/plain": [
       "<IPython.core.display.Image object>"
      ]
     },
     "metadata": {},
     "output_type": "display_data"
    }
   ],
   "source": [
    "import pydot\n",
    "from IPython.display import Image, display\n",
    "\n",
    "def row_to_cabocha(text):\n",
    "    cabocha = CaboCha.Parser()\n",
    "    return cabocha.parse(text).toString(CaboCha.FORMAT_LATTICE).rstrip().split(\"\\n\")\n",
    "\n",
    "def convert_to_dot(text):\n",
    "    ss = row_to_cabocha(text)\n",
    "    dot_lang = []\n",
    "    for sentence in parse_f(ss):\n",
    "        if not sentence: continue\n",
    "        dot_lang.append(\"digraph G {\")\n",
    "        for chunk in sentence.values():\n",
    "            if chunk.dst != -1:\n",
    "                dot_lang.append('\\t\"{}\" -> \"{}\";'.format(chunk.get_plane_without_mark(),chunk.dst_m.get_plane_without_mark()))\n",
    "        dot_lang.append(\"}\")\n",
    "    return \"\\n\".join(dot_lang)\n",
    "\n",
    "def print_graph(dot):\n",
    "    graphs = pydot.graph_from_dot_data(dot)\n",
    "    for graph in graphs:\n",
    "        display(Image(graph.create(format=\"png\")))\n",
    "\n",
    "dot_lang = convert_to_dot(\"与えられた文の係り受け木を有向グラフとして可視化せよ．\")\n",
    "print(dot_lang)\n",
    "print_graph(dot_lang)"
   ]
  },
  {
   "cell_type": "markdown",
   "metadata": {},
   "source": [
    "## 45. 動詞の格パターンの抽出\n",
    "今回用いている文章をコーパスと見なし，日本語の述語が取りうる格を調査したい． 動詞を述語，動詞に係っている文節の助詞を格と考え，述語と格をタブ区切り形式で出力せよ． ただし，出力は以下の仕様を満たすようにせよ．\n",
    "+ 動詞を含む文節において，最左の動詞の基本形を述語とする\n",
    "+ 述語に係る助詞を格とする\n",
    "+ 述語に係る助詞（文節）が複数あるときは，すべての助詞をスペース区切りで辞書順に並べる\n",
    "\n",
    "「吾輩はここで始めて人間というものを見た」という例文（neko.txt.cabochaの8文目）を考える． この文は「始める」と「見る」の２つの動詞を含み，「始める」に係る文節は「ここで」，「見る」に係る文節は「吾輩は」と「ものを」と解析された場合は，次のような出力になるはずである．\n",
    "> 始める  で \\\n",
    "> 見る    は を\n",
    "\n",
    "このプログラムの出力をファイルに保存し，以下の事項をUNIXコマンドを用いて確認せよ．\n",
    "+ コーパス中で頻出する述語と格パターンの組み合わせ\n",
    "+ 「する」「見る」「与える」という動詞の格パターン（コーパス中で出現頻度の高い順に並べよ）"
   ]
  },
  {
   "cell_type": "code",
   "execution_count": 16,
   "metadata": {},
   "outputs": [
    {
     "name": "stdout",
     "output_type": "stream",
     "text": [
      "生れる\tで\n",
      "つく\tか が\n",
      "泣く\tで\n",
      "する\tだけ\n",
      "始める\tで\n",
      "見る\tは を\n"
     ]
    }
   ],
   "source": [
    "for sentence in parse_neko(8):\n",
    "    for chunk in sentence.values():\n",
    "        if not (vs:=chunk.find(pos=\"動詞\")): continue\n",
    "        verb = vs[0]\n",
    "        sms = [sm.find(pos=\"助詞\")[0] for sm in chunk.srcs_m if sm.find(pos=\"助詞\")] # 1文節にひとつの助詞と仮定\n",
    "        if len(sms): print(\"{}\\t{}\".format(verb.base,\" \".join([m.base for m in sms])))"
   ]
  },
  {
   "cell_type": "code",
   "execution_count": 17,
   "metadata": {},
   "outputs": [],
   "source": [
    "with open('case_pattern.txt','w') as f:\n",
    "    for sentence in parse_neko():\n",
    "        for chunk in sentence.values():\n",
    "            if not (vs:=chunk.find(pos=\"動詞\")): continue\n",
    "            verb = vs[0]\n",
    "            sms = [sm.find(pos=\"助詞\")[0] for sm in chunk.srcs_m if sm.find(pos=\"助詞\")] # 1文節にひとつの助詞と仮定\n",
    "            if len(sms): f.write(\"{}\\t{}\\n\".format(verb.base,\" \".join([m.base for m in sms])))"
   ]
  },
  {
   "cell_type": "code",
   "execution_count": 18,
   "metadata": {},
   "outputs": [
    {
     "name": "stdout",
     "output_type": "stream",
     "text": [
      "    579 云う\tと\n",
      "    439 する\tを\n",
      "    258 思う\tと\n",
      "    209 なる\tに\n",
      "    196 ある\tが\n"
     ]
    }
   ],
   "source": [
    "%%bash\n",
    "sort case_pattern.txt | uniq -c | sort -rn | head -n5"
   ]
  },
  {
   "cell_type": "code",
   "execution_count": 19,
   "metadata": {},
   "outputs": [
    {
     "name": "stdout",
     "output_type": "stream",
     "text": [
      "    439 する\tを\n",
      "    186 する\tに\n",
      "    136 する\tと\n",
      "    120 する\tが\n",
      "    101 する\tて を\n",
      "\n",
      "    175 見る\tて\n",
      "     90 見る\tを\n",
      "     26 見る\tて て\n",
      "     20 見る\tから\n",
      "     15 見る\tと\n",
      "\n",
      "      4 与える\tに を\n",
      "      1 与える\tば を\n",
      "      1 与える\tは て に を に\n",
      "      1 与える\tは て に を\n",
      "      1 与える\tに に対して も\n"
     ]
    }
   ],
   "source": [
    "%%bash\n",
    "grep \"^する\" case_pattern.txt | sort | uniq -c | sort -rn | head -n5\n",
    "echo \n",
    "grep \"^見る\" case_pattern.txt | sort | uniq -c | sort -rn | head -n5\n",
    "echo \n",
    "grep \"^与える\" case_pattern.txt | sort | uniq -c | sort -rn | head -n5"
   ]
  },
  {
   "cell_type": "markdown",
   "metadata": {},
   "source": [
    "## 46. 動詞の格フレーム情報の抽出\n",
    "45のプログラムを改変し，述語と格パターンに続けて項（述語に係っている文節そのもの）をタブ区切り形式で出力せよ．45の仕様に加えて，以下の仕様を満たすようにせよ．\n",
    "+ 項は述語に係っている文節の単語列とする（末尾の助詞を取り除く必要はない）\n",
    "+ 述語に係る文節が複数あるときは，助詞と同一の基準・順序でスペース区切りで並べる\n",
    "\n",
    "「吾輩はここで始めて人間というものを見た」という例文（neko.txt.cabochaの8文目）を考える． この文は「始める」と「見る」の２つの動詞を含み，「始める」に係る文節は「ここで」，「見る」に係る文節は「吾輩は」と「ものを」と解析された場合は，次のような出力になるはずである．\n",
    "> 始める  で      ここで \\\n",
    "> 見る    は を   吾輩は ものを"
   ]
  },
  {
   "cell_type": "code",
   "execution_count": 20,
   "metadata": {},
   "outputs": [
    {
     "name": "stdout",
     "output_type": "stream",
     "text": [
      "生れる\tで\tどこで\n",
      "つく\tか が\t生れたか 見当が\n",
      "泣く\tで\t所で\n",
      "する\tは\t事だけは\n",
      "始める\tで\tここで\n",
      "見る\tは を\t吾輩は ものを\n"
     ]
    }
   ],
   "source": [
    "for sentence in parse_neko(8):\n",
    "    for chunk in sentence.values():\n",
    "        if not (vs:=chunk.find(pos=\"動詞\")): continue\n",
    "        verb = vs[0]\n",
    "        sms = [sm for sm in chunk.srcs_m if sm.find(pos=\"助詞\")] # 1文節にひとつの助詞と仮定\n",
    "        if len(sms): print(\"{}\\t{}\\t{}\".format(verb.base,\" \".join([m(-1).base for m in sms]),\" \".join([m.get_plane_without_mark() for m in sms])))"
   ]
  },
  {
   "cell_type": "markdown",
   "metadata": {},
   "source": [
    "## 47. 機能動詞構文のマイニング\n",
    "動詞のヲ格にサ変接続名詞が入っている場合のみに着目したい．46のプログラムを以下の仕様を満たすように改変せよ．\n",
    "+ 「サ変接続名詞+を（助詞）」で構成される文節が動詞に係る場合のみを対象とする\n",
    "+ 述語は「サ変接続名詞+を+動詞の基本形」とし，文節中に複数の動詞があるときは，最左の動詞を用いる\n",
    "+ 述語に係る助詞（文節）が複数あるときは，すべての助詞をスペース区切りで辞書順に並べる\n",
    "+ 述語に係る文節が複数ある場合は，すべての項をスペース区切りで並べる（助詞の並び順と揃えよ）\n",
    "\n",
    "例えば「別段くるにも及ばんさと、主人は手紙に返事をする。」という文から，以下の出力が得られるはずである．\n",
    "> 返事をする      と に は        及ばんさと 手紙に 主人は\n",
    "\n",
    "このプログラムの出力をファイルに保存し，以下の事項をUNIXコマンドを用いて確認せよ．\n",
    "+ コーパス中で頻出する述語（サ変接続名詞+を+動詞）\n",
    "+ コーパス中で頻出する述語と助詞パターン"
   ]
  },
  {
   "cell_type": "code",
   "execution_count": 21,
   "metadata": {},
   "outputs": [
    {
     "name": "stdout",
     "output_type": "stream",
     "text": [
      "返事をする\tと は に を\t及ばんさと 主人は 手紙に\n",
      "決心をする\tと を\tあるこうと\n",
      "返報をしてやる\tんで を\t偸んで\n",
      "昼寝をする\tを\tよく\n",
      "昼寝をする\tが を\t彼が\n"
     ]
    }
   ],
   "source": [
    "def tmp():\n",
    "    for s in parse_f(row_to_cabocha(\"別段くるにも及ばんさと、主人は手紙に返事をする。\")): yield s\n",
    "    for s in parse_neko(100): yield s\n",
    "for sentence in tmp():\n",
    "    for chunk in sentence.values():\n",
    "        if not (vs:=chunk.find(pos=\"動詞\")): continue\n",
    "        verb = vs[0]\n",
    "        sms = [sm for sm in chunk.srcs_m if (i:=sm.find(pos=\"助詞\",base=\"を\",index=\"only\")) and i[-1]!=0 and sm(i[-1]-1).pos1==\"サ変接続\"] # 「○を○○、」等に対応\n",
    "        for m in sms:\n",
    "            print(\"{}\\t{}\\t{}\".format(m.get_plane_without_mark()+verb.base,\n",
    "                                  \" \".join([m.find(pos=\"助詞\")[-1].base for m in [sm for sm in chunk.srcs_m if sm.find(pos=\"助詞\")]]),\n",
    "                                  \" \".join([sm.get_plane_without_mark() for sm in chunk.srcs_m if sm is not m])))"
   ]
  },
  {
   "cell_type": "markdown",
   "metadata": {},
   "source": [
    "## 48. 名詞から根へのパスの抽出\n",
    "文中のすべての名詞を含む文節に対し，その文節から構文木の根に至るパスを抽出せよ． ただし，構文木上のパスは以下の仕様を満たすものとする．\n",
    "+ 各文節は（表層形の）形態素列で表現する\n",
    "+ パスの開始文節から終了文節に至るまで，各文節の表現を” -> “で連結する\n",
    "\n",
    "「吾輩はここで始めて人間というものを見た」という文（neko.txt.cabochaの8文目）から，次のような出力が得られるはずである．\n",
    "> 吾輩は -> 見た \\\n",
    "> ここで -> 始めて -> 人間という -> ものを -> 見た \\\n",
    "> 人間という -> ものを -> 見た \\\n",
    "> ものを -> 見た"
   ]
  },
  {
   "cell_type": "code",
   "execution_count": 22,
   "metadata": {},
   "outputs": [
    {
     "name": "stdout",
     "output_type": "stream",
     "text": [
      "一\n",
      "吾輩は -> 猫である\n",
      "猫である\n",
      "名前は -> 無い\n",
      "どこで -> 生れたか -> つかぬ\n",
      "見当が -> つかぬ\n",
      "何でも -> 薄暗い -> 所で -> 泣いていた -> 事だけは -> 記憶している\n",
      "所で -> 泣いていた -> 事だけは -> 記憶している\n",
      "ニャーニャー -> 泣いていた -> 事だけは -> 記憶している\n",
      "事だけは -> 記憶している\n",
      "記憶している\n",
      "吾輩は -> 見た\n",
      "ここで -> 始めて -> 人間という -> ものを -> 見た\n",
      "人間という -> ものを -> 見た\n",
      "ものを -> 見た\n"
     ]
    }
   ],
   "source": [
    "for sentence in parse_neko(8):\n",
    "    for chunk in sentence.values():\n",
    "        if not chunk.find(pos=\"名詞\"): continue\n",
    "        stack = [chunk]\n",
    "        while (chunk:=chunk.dst_m): stack.append(chunk)\n",
    "        print(\" -> \".join([c.get_plane_without_mark() for c in stack]))"
   ]
  },
  {
   "cell_type": "markdown",
   "metadata": {},
   "source": [
    "## 49. 名詞間の係り受けパスの抽出\n",
    "文中のすべての名詞句のペアを結ぶ最短係り受けパスを抽出せよ．ただし，名詞句ペアの文節番号がiとj（i<j）のとき，係り受けパスは以下の仕様を満たすものとする．\n",
    "+ 問題48と同様に，パスは開始文節から終了文節に至るまでの各文節の表現（表層形の形態素列）を” -> “で連結して表現する\n",
    "+ 文節iとjに含まれる名詞句はそれぞれ，XとYに置換する\n",
    "\n",
    "また，係り受けパスの形状は，以下の2通りが考えられる．\n",
    "+ 文節$i$から構文木の根に至る経路上に文節jが存在する場合: 文節iから文節jのパスを表示\n",
    "+ 上記以外で，文節iと文節jから構文木の根に至る経路上で共通の文節kで交わる場合: 文節iから文節kに至る直前のパスと文節jから文節kに至る直前までのパス，文節kの内容を” | “で連結して表示\n",
    "\n",
    "例えば，「吾輩はここで始めて人間というものを見た。」という文（neko.txt.cabochaの8文目）から，次のような出力が得られるはずである．\n",
    "> Xは | Yで -> 始めて -> 人間という -> ものを | 見た \\\n",
    "> Xは | Yという -> ものを | 見た \\\n",
    "> Xは | Yを | 見た \\\n",
    "> Xで -> 始めて -> Y \\\n",
    "> Xで -> 始めて -> 人間という -> Y \\\n",
    "> Xという -> Y"
   ]
  },
  {
   "cell_type": "code",
   "execution_count": 23,
   "metadata": {},
   "outputs": [
    {
     "data": {
      "image/png": "[encoded data removed]",
      "text/plain": [
       "<IPython.core.display.Image object>"
      ]
     },
     "metadata": {},
     "output_type": "display_data"
    }
   ],
   "source": [
    "print_graph(convert_to_dot(\"吾輩はここで始めて人間というものを見た。\"))"
   ]
  },
  {
   "cell_type": "code",
   "execution_count": 24,
   "metadata": {},
   "outputs": [],
   "source": [
    "def get_stack(chunk,*,stop:Chunk=None,stop_list:list=[]):\n",
    "    ret = [chunk]\n",
    "    stop_ids = [c.id for c in stop_list]\n",
    "    while (chunk:=chunk.dst_m): \n",
    "        ret.append(chunk)\n",
    "        if stop!=None and chunk.id==stop.id: break\n",
    "        if chunk.id in stop_ids: break\n",
    "    return ret\n",
    "def get_link_text(stack,*,X:Chunk=None,Y:Chunk=None):\n",
    "    ret = []\n",
    "    for chunk in stack:\n",
    "        if   X is not None and chunk.id==X.id: ret.append(\"\".join([\"X\" if m.pos==\"名詞\" else m.surface for m in chunk.morphs if m.pos!=\"記号\"]))\n",
    "        elif Y is not None and chunk.id==Y.id: ret.append(\"\".join([\"Y\" if m.pos==\"名詞\" else m.surface for m in chunk.morphs if m.pos!=\"記号\"]))\n",
    "        else: ret.append(chunk.get_plane_without_mark())\n",
    "    return \" -> \".join(ret)"
   ]
  },
  {
   "cell_type": "code",
   "execution_count": 25,
   "metadata": {},
   "outputs": [
    {
     "name": "stdout",
     "output_type": "stream",
     "text": [
      "Xは -> Yである\n",
      "Xで -> 生れたか|Yが|つかぬ\n",
      "Xでも -> 薄暗い -> Yで\n",
      "Xでも -> 薄暗い -> 所で|Y|泣いていた\n",
      "Xでも -> 薄暗い -> 所で -> 泣いていた -> Yだけは\n",
      "Xでも -> 薄暗い -> 所で -> 泣いていた -> 事だけは -> Yしている\n",
      "Xで|Y|泣いていた\n",
      "Xで -> 泣いていた -> Yだけは\n",
      "Xで -> 泣いていた -> 事だけは -> Yしている\n",
      "X -> 泣いていた -> Yだけは\n",
      "X -> 泣いていた -> 事だけは -> Yしている\n",
      "Xだけは -> Yしている\n",
      "Xは|Yで -> 始めて -> 人間という -> ものを|見た\n",
      "Xは|Yという -> ものを|見た\n",
      "Xは|Yを|見た\n",
      "Xで -> 始めて -> Yという\n",
      "Xで -> 始めて -> 人間という -> Yを\n",
      "Xという -> Yを\n"
     ]
    }
   ],
   "source": [
    "for sentence in parse_neko(8):\n",
    "    nouns = [chunk for chunk in sentence.values() if chunk.find(pos=\"名詞\")]\n",
    "    for i in range(len(nouns)):\n",
    "        for j in range(i+1,len(nouns)):\n",
    "            stack_i = get_stack(nouns[i],stop=nouns[j])\n",
    "            if stack_i[-1] == nouns[j]:\n",
    "                print(get_link_text(stack_i,X=nouns[i],Y=nouns[j]))\n",
    "            else:\n",
    "                stack_j = get_stack(nouns[j],stop_list=stack_i)\n",
    "                stack_i = get_stack(nouns[i],stop_list=stack_j)\n",
    "                print(\"{}|{}|{}\".format(get_link_text(stack_i[:-1],X=nouns[i]), get_link_text(stack_j[:-1],Y=nouns[j]), get_link_text([stack_i[-1]])))"
   ]
  },
  {
   "cell_type": "code",
   "execution_count": null,
   "metadata": {},
   "outputs": [],
   "source": []
  },
  {
   "cell_type": "code",
   "execution_count": null,
   "metadata": {},
   "outputs": [],
   "source": []
  }
 ],
 "metadata": {
  "kernelspec": {
   "display_name": "Python 3",
   "language": "python",
   "name": "python3"
  },
  "language_info": {
   "codemirror_mode": {
    "name": "ipython",
    "version": 3
   },
   "file_extension": ".py",
   "mimetype": "text/x-python",
   "name": "python",
   "nbconvert_exporter": "python",
   "pygments_lexer": "ipython3",
   "version": "3.8.0"
  }
 },
 "nbformat": 4,
 "nbformat_minor": 4
}
