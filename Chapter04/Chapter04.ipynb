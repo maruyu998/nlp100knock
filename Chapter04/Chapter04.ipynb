{
 "cells": [
  {
   "cell_type": "markdown",
   "metadata": {},
   "source": [
    "# 第4章: 形態素解析\n",
    "夏目漱石の小説『吾輩は猫である』の文章（neko.txt）をMeCabを使って形態素解析し，その結果をneko.txt.mecabというファイルに保存せよ．このファイルを用いて，以下の問に対応するプログラムを実装せよ．"
   ]
  },
  {
   "cell_type": "code",
   "execution_count": 1,
   "metadata": {},
   "outputs": [
    {
     "name": "stdout",
     "output_type": "stream",
     "text": [
      "Will not apply HSTS. The HSTS database must be a regular and non-world-writable file.\n",
      "ERROR: could not open HSTS store at '/home/yukimaru/.wget-hsts'. HSTS will be disabled.\n",
      "--2020-04-06 13:14:58--  https://nlp100.github.io/data/neko.txt\n",
      "Resolving nlp100.github.io (nlp100.github.io)... 185.199.109.153, 185.199.108.153, 185.199.110.153, ...\n",
      "Connecting to nlp100.github.io (nlp100.github.io)|185.199.109.153|:443... connected.\n",
      "HTTP request sent, awaiting response... 200 OK\n",
      "Length: 965825 (943K) [text/plain]\n",
      "Saving to: ‘neko.txt’\n",
      "\n",
      "neko.txt            100%[===================>] 943.19K  1.08MB/s    in 0.9s    \n",
      "\n",
      "2020-04-06 13:14:59 (1.08 MB/s) - ‘neko.txt’ saved [965825/965825]\n",
      "\n"
     ]
    }
   ],
   "source": [
    "!wget https://nlp100.github.io/data/neko.txt"
   ]
  },
  {
   "cell_type": "code",
   "execution_count": 1,
   "metadata": {},
   "outputs": [],
   "source": [
    "from natto import MeCab\n",
    "nm = MeCab(\"-d /usr/local/lib/mecab/dic/naist-jdic\")\n",
    "with open('neko.txt') as infile, open('neko.txt.mecab', 'w') as outfile:\n",
    "    outfile.write(nm.parse(infile.read()))"
   ]
  },
  {
   "cell_type": "markdown",
   "metadata": {},
   "source": [
    "## 30. 形態素解析結果の読み込み\n",
    "形態素解析結果（neko.txt.mecab）を読み込むプログラムを実装せよ．ただし，各形態素は表層形（surface），基本形（base），品詞（pos），品詞細分類1（pos1）をキーとするマッピング型に格納し，1文を形態素（マッピング型）のリストとして表現せよ．第4章の残りの問題では，ここで作ったプログラムを活用せよ．"
   ]
  },
  {
   "cell_type": "code",
   "execution_count": 2,
   "metadata": {},
   "outputs": [
    {
     "name": "stdout",
     "output_type": "stream",
     "text": [
      "一\t名詞,数,*,*,*,*,一,イチ,イチ,,\n",
      "　\t記号,空白,*,*,*,*,　,　,　,,\n",
      "吾輩\t名詞,代名詞,一般,*,*,*,吾輩,ワガハイ,ワガハイ,,\n",
      "は\t助詞,係助詞,*,*,*,*,は,ハ,ワ,,\n"
     ]
    }
   ],
   "source": [
    "%%bash\n",
    "head -4 neko.txt.mecab"
   ]
  },
  {
   "cell_type": "markdown",
   "metadata": {},
   "source": [
    "参考: 表層形\\t品詞,品詞細分類1,品詞細分類2,品詞細分類3,活用型,活用形,原形,読み,発音"
   ]
  },
  {
   "cell_type": "code",
   "execution_count": 3,
   "metadata": {},
   "outputs": [],
   "source": [
    "def getMorphemeWord(line,param=None):\n",
    "    row = [\"pos\",\"pos1\",\"pos2\",\"pos3\",\"conjt\",\"conjf\",\"base\",\"ruby\",\"pron\"]\n",
    "    surface, left = line.split('\\t')\n",
    "    dic = {\"surface\": surface}\n",
    "    for k,v in zip(row,left.split(\",\")): dic[k] = v\n",
    "    if param is None: return dic\n",
    "    else: return {i:dic[i] for i in param}\n",
    "def getMorphemeSentence(fname,param=None):\n",
    "    with open(fname) as f:\n",
    "        res = []\n",
    "        for line in f:\n",
    "            if line==\"EOS\": return res\n",
    "            r = getMorphemeWord(line)\n",
    "            if param is None: res.append(r)\n",
    "            else: res.append({i:r[i] for i in param})\n",
    "            if r['pos1']==\"句点\": yield res; res = []\n",
    "morph = lambda param: getMorphemeSentence('neko.txt.mecab',param)"
   ]
  },
  {
   "cell_type": "code",
   "execution_count": 5,
   "metadata": {},
   "outputs": [
    {
     "name": "stdout",
     "output_type": "stream",
     "text": [
      "[{'surface': '一', 'base': '一', 'pos': '名詞', 'pos1': '数'}, {'surface': '\\u3000', 'base': '\\u3000', 'pos': '記号', 'pos1': '空白'}, {'surface': '吾輩', 'base': '吾輩', 'pos': '名詞', 'pos1': '代名詞'}, {'surface': 'は', 'base': 'は', 'pos': '助詞', 'pos1': '係助詞'}, {'surface': '猫', 'base': '猫', 'pos': '名詞', 'pos1': '一般'}, {'surface': 'で', 'base': 'だ', 'pos': '助動詞', 'pos1': '*'}, {'surface': 'ある', 'base': 'ある', 'pos': '助動詞', 'pos1': '*'}, {'surface': '。', 'base': '。', 'pos': '記号', 'pos1': '句点'}]\n",
      "[{'surface': '名前', 'base': '名前', 'pos': '名詞', 'pos1': '一般'}, {'surface': 'は', 'base': 'は', 'pos': '助詞', 'pos1': '係助詞'}, {'surface': 'まだ', 'base': 'まだ', 'pos': '副詞', 'pos1': '助詞類接続'}, {'surface': '無い', 'base': '無い', 'pos': '形容詞', 'pos1': '自立'}, {'surface': '。', 'base': '。', 'pos': '記号', 'pos1': '句点'}]\n",
      "[{'surface': '\\u3000', 'base': '\\u3000', 'pos': '記号', 'pos1': '空白'}, {'surface': 'どこ', 'base': 'どこ', 'pos': '名詞', 'pos1': '代名詞'}, {'surface': 'で', 'base': 'で', 'pos': '助詞', 'pos1': '格助詞'}, {'surface': '生れ', 'base': '生れる', 'pos': '動詞', 'pos1': '自立'}, {'surface': 'た', 'base': 'た', 'pos': '助動詞', 'pos1': '*'}, {'surface': 'か', 'base': 'か', 'pos': '助詞', 'pos1': '副助詞／並立助詞／終助詞'}, {'surface': 'とんと', 'base': 'とんと', 'pos': '副詞', 'pos1': '一般'}, {'surface': '見当', 'base': '見当', 'pos': '名詞', 'pos1': 'サ変接続'}, {'surface': 'が', 'base': 'が', 'pos': '助詞', 'pos1': '格助詞'}, {'surface': 'つか', 'base': 'つく', 'pos': '動詞', 'pos1': '自立'}, {'surface': 'ぬ', 'base': 'ぬ', 'pos': '助動詞', 'pos1': '*'}, {'surface': '。', 'base': '。', 'pos': '記号', 'pos1': '句点'}]\n"
     ]
    }
   ],
   "source": [
    "for i,res in enumerate(morph([\"surface\",\"base\",\"pos\",\"pos1\"])):\n",
    "    print(res)\n",
    "    if i>1: break"
   ]
  },
  {
   "cell_type": "markdown",
   "metadata": {},
   "source": [
    "## 31. 動詞\n",
    "動詞の表層形をすべて抽出せよ．"
   ]
  },
  {
   "cell_type": "code",
   "execution_count": 6,
   "metadata": {},
   "outputs": [
    {
     "name": "stdout",
     "output_type": "stream",
     "text": [
      "破る, がたつく, 憤, 迂, 解せ, 張れ, 抛, こしらえ, 飛び込ん, 突っ立っ, 切り抜か, おっしゃれ, あえ, 縮ま, 律す, 解さ, 書きゃ, "
     ]
    }
   ],
   "source": [
    "res = set()\n",
    "for sen in morph([\"surface\",\"pos\"]):\n",
    "    res |= set(m[\"surface\"] for m in sen if m['pos']==\"動詞\")\n",
    "\n",
    "for i,elm in enumerate(res):\n",
    "    print(elm, end=\", \")\n",
    "    if i>15: break"
   ]
  },
  {
   "cell_type": "markdown",
   "metadata": {},
   "source": [
    "## 32. 動詞の原形\n",
    "動詞の原形をすべて抽出せよ．"
   ]
  },
  {
   "cell_type": "code",
   "execution_count": 7,
   "metadata": {},
   "outputs": [
    {
     "name": "stdout",
     "output_type": "stream",
     "text": [
      "たつ, 破る, あこがれる, がたつく, 引ける, 持ち切る, 振い落す, 突く, 突き戻す, 心得る, 律す, かこつ, 応じる, 引き揚げる, 崩れる, 疲らす, とく, "
     ]
    }
   ],
   "source": [
    "res = set()\n",
    "for i,sen in enumerate(morph([\"base\",\"pos\"])):\n",
    "    res |= set(m[\"base\"] for m in sen if m['pos']==\"動詞\")\n",
    "\n",
    "for i,elm in enumerate(res):\n",
    "    print(elm, end=\", \")\n",
    "    if i>15: break"
   ]
  },
  {
   "cell_type": "markdown",
   "metadata": {},
   "source": [
    "## 33. 「AのB」\n",
    "2つの名詞が「の」で連結されている名詞句を抽出せよ．"
   ]
  },
  {
   "cell_type": "markdown",
   "metadata": {},
   "source": [
    "参考\n",
    "> 彼\t名詞,代名詞,一般,*,*,*,彼,カレ,カレ \\\n",
    "> の\t助詞,連体化,*,*,*,*,の,ノ,ノ \\\n",
    "> 掌\t名詞,一般,*,*,*,*,掌,テノヒラ,テノヒラ"
   ]
  },
  {
   "cell_type": "code",
   "execution_count": 8,
   "metadata": {},
   "outputs": [
    {
     "name": "stdout",
     "output_type": "stream",
     "text": [
      "色の精細, 未来の考, この間の枝, 環視の裡, 当時のまま, 自覚の一助, 夏の半, 天道の主宰, 相貌の末, 渋柿の甘干し, 実の弟, 毛の字, 俺の汁粉, 近来の快事, 近頃の赤ん坊, 口の内, 現象の一つ, "
     ]
    }
   ],
   "source": [
    "nos = set()\n",
    "with open('neko.txt.mecab') as f:\n",
    "    phrs = [None, getMorphemeWord(f.readline(),[\"surface\",\"base\",\"pos\",\"pos1\"]), getMorphemeWord(f.readline(),[\"surface\",\"base\",\"pos\",\"pos1\"])]\n",
    "    for i, line in enumerate(f):\n",
    "        if line==\"EOS\": continue\n",
    "        phrs.pop(0)\n",
    "        phrs.append(getMorphemeWord(line,[\"surface\",\"base\",\"pos\",\"pos1\"]))\n",
    "        if     phrs[0]['pos'] == phrs[2]['pos'] ==\"名詞\" and phrs[1]['surface']==\"の\" and phrs[1][\"pos1\"]==\"連体化\":\n",
    "            nos.add(\"\".join([p['surface'] for p in phrs]))\n",
    "            \n",
    "for i,elm in enumerate(nos):\n",
    "    print(elm, end=\", \")\n",
    "    if i>15: break"
   ]
  },
  {
   "cell_type": "markdown",
   "metadata": {},
   "source": [
    "## 34. 名詞の連接\n",
    "名詞の連接（連続して出現する名詞）を最長一致で抽出せよ．"
   ]
  },
  {
   "cell_type": "code",
   "execution_count": 9,
   "metadata": {},
   "outputs": [
    {
     "name": "stdout",
     "output_type": "stream",
     "text": [
      "冷水浴, 幾缶, 一輪, 二丁目, 桐畠, 五杯目, 発作的所為, 日本女子裁縫最高等大学院校長, 曰く火, 君の, 二十五六, 当人大分説, 聟入, ——御酒, 充分垣, 候為め, その後今日, 江戸趣味, 強勢, 幾皿, 一不敬, 一飯君恩, "
     ]
    }
   ],
   "source": [
    "nos = set()\n",
    "phrs = []\n",
    "with open('neko.txt.mecab') as f:\n",
    "    for i, line in enumerate(f):\n",
    "        if line==\"EOS\": continue\n",
    "        res = getMorphemeWord(line,[\"surface\",\"base\",\"pos\",\"pos1\"])\n",
    "        if res['pos']==\"名詞\": phrs.append(res)\n",
    "        elif len(phrs)>1 : nos.add(\"\".join([r['surface'] for r in phrs])); phrs = []\n",
    "        else: phrs = []\n",
    "            \n",
    "for i,elm in enumerate(nos):\n",
    "    print(elm, end=\", \")\n",
    "    if i>20: break"
   ]
  },
  {
   "cell_type": "markdown",
   "metadata": {},
   "source": [
    "## 35. 単語の出現頻度\n",
    "文章中に出現する単語とその出現頻度を求め，出現頻度の高い順に並べよ．"
   ]
  },
  {
   "cell_type": "code",
   "execution_count": 10,
   "metadata": {},
   "outputs": [
    {
     "name": "stdout",
     "output_type": "stream",
     "text": [
      "{'の': 9198, '。': 7486, 'て': 6777, '、': 6772, 'は': 6418, 'に': 6177, 'を': 6047, 'だ': 5967, 'と': 5486, 'が': 5338}\n"
     ]
    }
   ],
   "source": [
    "words = {}\n",
    "with open('neko.txt.mecab') as f:\n",
    "    for i, line in enumerate(f):\n",
    "        if line==\"EOS\": continue\n",
    "        key = getMorphemeWord(line,[\"base\"])[\"base\"]\n",
    "        words.setdefault(key,0)\n",
    "        words[key]+=1\n",
    "tens = dict(sorted(words.items(),key=lambda d:d[1], reverse=True)[:10])\n",
    "print(tens)"
   ]
  },
  {
   "cell_type": "markdown",
   "metadata": {},
   "source": [
    "## 36. 頻度上位10語\n",
    "出現頻度が高い10語とその出現頻度をグラフ（例えば棒グラフなど）で表示せよ．"
   ]
  },
  {
   "cell_type": "code",
   "execution_count": 15,
   "metadata": {},
   "outputs": [
    {
     "data": {
      "text/plain": [
       "<BarContainer object of 10 artists>"
      ]
     },
     "execution_count": 15,
     "metadata": {},
     "output_type": "execute_result"
    },
    {
     "data": {
      "image/png": "[encoded data removed]",
      "text/plain": [
       "<Figure size 432x288 with 1 Axes>"
      ]
     },
     "metadata": {
      "needs_background": "light"
     },
     "output_type": "display_data"
    }
   ],
   "source": [
    "import matplotlib.pyplot as plt\n",
    "import japanize_matplotlib\n",
    "plt.bar(tens.keys(), tens.values())"
   ]
  },
  {
   "cell_type": "markdown",
   "metadata": {},
   "source": [
    "## 37. 「猫」と共起頻度の高い上位10語\n",
    "「猫」とよく共起する（共起頻度が高い）10語とその出現頻度をグラフ（例えば棒グラフなど）で表示せよ．"
   ]
  },
  {
   "cell_type": "code",
   "execution_count": 12,
   "metadata": {},
   "outputs": [
    {
     "name": "stdout",
     "output_type": "stream",
     "text": [
      "{'の': 397, 'は': 283, '、': 265, 'に': 248, 'だ': 243, 'を': 239, 'て': 233, '。': 219, 'と': 210, 'が': 185}\n"
     ]
    },
    {
     "data": {
      "text/plain": [
       "<BarContainer object of 10 artists>"
      ]
     },
     "execution_count": 12,
     "metadata": {},
     "output_type": "execute_result"
    },
    {
     "data": {
      "image/png": "[encoded data removed]",
      "text/plain": [
       "<Figure size 432x288 with 1 Axes>"
      ]
     },
     "metadata": {
      "needs_background": "light"
     },
     "output_type": "display_data"
    }
   ],
   "source": [
    "words_cat = {}\n",
    "for res in morph([\"base\"]):\n",
    "    if \"猫\" in [w[\"base\"] for w in res]:\n",
    "        for w in res:\n",
    "          if w['base'] == \"猫\": continue\n",
    "          words_cat.setdefault(w['base'],0)\n",
    "          words_cat[w['base']]+=1\n",
    "tens = dict(sorted(words_cat.items(),key=lambda d:d[1], reverse=True)[:10])\n",
    "print(tens)\n",
    "plt.bar(tens.keys(), tens.values())"
   ]
  },
  {
   "cell_type": "markdown",
   "metadata": {},
   "source": [
    "## 38. ヒストグラム\n",
    "単語の出現頻度のヒストグラム（横軸に出現頻度，縦軸に出現頻度をとる単語の種類数を棒グラフで表したもの）を描け．"
   ]
  },
  {
   "cell_type": "code",
   "execution_count": 13,
   "metadata": {},
   "outputs": [
    {
     "data": {
      "image/png": "[encoded data removed]",
      "text/plain": [
       "<Figure size 432x288 with 1 Axes>"
      ]
     },
     "metadata": {
      "needs_background": "light"
     },
     "output_type": "display_data"
    }
   ],
   "source": [
    "words = {}\n",
    "with open('neko.txt.mecab') as f:\n",
    "    for i, line in enumerate(f):\n",
    "        if line==\"EOS\": continue\n",
    "        key = getMorphemeWord(line,[\"base\"])[\"base\"]\n",
    "        words.setdefault(key,0)\n",
    "        words[key]+=1\n",
    "words = dict(sorted(words.items(),key=lambda d:d[1], reverse=True))\n",
    "plt.hist(words.values(),range(1,40))\n",
    "plt.show()"
   ]
  },
  {
   "cell_type": "markdown",
   "metadata": {},
   "source": [
    "## 39. Zipfの法則\n",
    "単語の出現頻度順位を横軸，その出現頻度を縦軸として，両対数グラフをプロットせよ．"
   ]
  },
  {
   "cell_type": "code",
   "execution_count": 14,
   "metadata": {},
   "outputs": [
    {
     "data": {
      "image/png": "[encoded data removed]",
      "text/plain": [
       "<Figure size 432x288 with 1 Axes>"
      ]
     },
     "metadata": {
      "needs_background": "light"
     },
     "output_type": "display_data"
    }
   ],
   "source": [
    "plt.plot(range(len(words)),words.values())\n",
    "plt.xscale('log')\n",
    "plt.yscale('log')\n",
    "plt.show()"
   ]
  }
 ],
 "metadata": {
  "kernelspec": {
   "display_name": "Python 3",
   "language": "python",
   "name": "python3"
  },
  "language_info": {
   "codemirror_mode": {
    "name": "ipython",
    "version": 3
   },
   "file_extension": ".py",
   "mimetype": "text/x-python",
   "name": "python",
   "nbconvert_exporter": "python",
   "pygments_lexer": "ipython3",
   "version": "3.7.4"
  }
 },
 "nbformat": 4,
 "nbformat_minor": 4
}
