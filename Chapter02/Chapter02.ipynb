{
 "cells": [
  {
   "cell_type": "markdown",
   "metadata": {},
   "source": [
    "# 第2章: UNIXコマンド"
   ]
  },
  {
   "cell_type": "code",
   "execution_count": 1,
   "metadata": {},
   "outputs": [
    {
     "name": "stdout",
     "output_type": "stream",
     "text": [
      "Will not apply HSTS. The HSTS database must be a regular and non-world-writable file.\n",
      "ERROR: could not open HSTS store at '/home/yukimaru/.wget-hsts'. HSTS will be disabled.\n",
      "--2020-04-12 11:56:17--  https://nlp100.github.io/data/popular-names.txt\n",
      "Resolving nlp100.github.io (nlp100.github.io)... 185.199.109.153, 185.199.110.153, 185.199.111.153, ...\n",
      "Connecting to nlp100.github.io (nlp100.github.io)|185.199.109.153|:443... connected.\n",
      "HTTP request sent, awaiting response... 200 OK\n",
      "Length: 55026 (54K) [text/plain]\n",
      "Saving to: ‘popular-names.txt’\n",
      "\n",
      "popular-names.txt   100%[===================>]  53.74K  --.-KB/s    in 0.09s   \n",
      "\n",
      "2020-04-12 11:56:18 (599 KB/s) - ‘popular-names.txt’ saved [55026/55026]\n",
      "\n"
     ]
    }
   ],
   "source": [
    "!wget https://nlp100.github.io/data/popular-names.txt"
   ]
  },
  {
   "cell_type": "markdown",
   "metadata": {},
   "source": [
    "## 10. 行数のカウント\n",
    "行数をカウントせよ．確認にはwcコマンドを用いよ．"
   ]
  },
  {
   "cell_type": "code",
   "execution_count": 2,
   "metadata": {},
   "outputs": [],
   "source": [
    "with open('e10.py', 'w') as f:\n",
    "    f.write(\"\"\"\\\n",
    "#!/usr/bin/env python3\n",
    "import sys\n",
    "for i,_ in enumerate(sys.stdin,1): pass\n",
    "print(i)\n",
    "\"\"\")"
   ]
  },
  {
   "cell_type": "code",
   "execution_count": 3,
   "metadata": {},
   "outputs": [
    {
     "name": "stdout",
     "output_type": "stream",
     "text": [
      "2780\n",
      "OK\n"
     ]
    }
   ],
   "source": [
    "%%bash\n",
    "fname=\"popular-names.txt\"\n",
    "check=\"cat $fname| wc -l\"\n",
    "eval $check\n",
    "res=`diff <(./e10.py < $fname) <(eval $check)`\n",
    "if [ \"$res\" = \"\" ]; then echo \"OK\"; else echo $res; fi"
   ]
  },
  {
   "cell_type": "markdown",
   "metadata": {},
   "source": [
    "## 11. タブをスペースに置換\n",
    "タブ1文字につきスペース1文字に置換せよ．確認にはsedコマンド，trコマンド，もしくはexpandコマンドを用いよ．"
   ]
  },
  {
   "cell_type": "code",
   "execution_count": 4,
   "metadata": {},
   "outputs": [],
   "source": [
    "with open('e11.py', 'w') as f:\n",
    "    f.write(\"\"\"\\\n",
    "#!/usr/bin/env python3\n",
    "import sys\n",
    "for line in sys.stdin:\n",
    "    sys.stdout.write(line.replace('\\t',' '))\n",
    "\"\"\")"
   ]
  },
  {
   "cell_type": "code",
   "execution_count": 5,
   "metadata": {},
   "outputs": [
    {
     "name": "stdout",
     "output_type": "stream",
     "text": [
      "OK\n"
     ]
    }
   ],
   "source": [
    "%%bash\n",
    "fname=\"popular-names.txt\"\n",
    "check=\"sed -e 's/\\t/ /g' $fname\"\n",
    "res=`diff <(./e11.py < $fname) <(eval $check)`\n",
    "if [ \"$res\" = \"\" ]; then echo \"OK\"; else echo $res; fi"
   ]
  },
  {
   "cell_type": "markdown",
   "metadata": {},
   "source": [
    "## 12. 1列目をcol1.txtに，2列目をcol2.txtに保存\n",
    "各行の1列目だけを抜き出したものをcol1.txtに，2列目だけを抜き出したものをcol2.txtとしてファイルに保存せよ．確認にはcutコマンドを用いよ．"
   ]
  },
  {
   "cell_type": "code",
   "execution_count": 6,
   "metadata": {},
   "outputs": [],
   "source": [
    "with open('popular-names.txt') as fr, open('col1.txt','w') as f1, open('col2.txt','w') as f2:\n",
    "    for l in fr: \n",
    "        s = l.split('\\t')\n",
    "        f1.write(s[0]+\"\\n\"); f2.write(s[1]+\"\\n\")"
   ]
  },
  {
   "cell_type": "code",
   "execution_count": 7,
   "metadata": {},
   "outputs": [
    {
     "name": "stdout",
     "output_type": "stream",
     "text": [
      "OK1\n",
      "OK2\n"
     ]
    }
   ],
   "source": [
    "%%bash\n",
    "res=`diff col1.txt <(cut -f1 popular-names.txt)`\n",
    "if [ \"$res\" = \"\" ]; then echo \"OK1\"; else echo $res; fi\n",
    "res=`diff col2.txt <(cut -f2 popular-names.txt)`\n",
    "if [ \"$res\" = \"\" ]; then echo \"OK2\"; else echo $res; fi"
   ]
  },
  {
   "cell_type": "markdown",
   "metadata": {},
   "source": [
    "## 13. col1.txtとcol2.txtをマージ\n",
    "12で作ったcol1.txtとcol2.txtを結合し，元のファイルの1列目と2列目をタブ区切りで並べたテキストファイルを作成せよ．確認にはpasteコマンドを用いよ．"
   ]
  },
  {
   "cell_type": "code",
   "execution_count": 8,
   "metadata": {},
   "outputs": [],
   "source": [
    "with open('col1.txt') as f1, open('col2.txt') as f2, open('marged.txt','w') as fr:\n",
    "    for l1,l2 in zip(f1,f2):\n",
    "        fr.write(l1.rstrip()+'\\t'+l2)"
   ]
  },
  {
   "cell_type": "code",
   "execution_count": 9,
   "metadata": {},
   "outputs": [
    {
     "name": "stdout",
     "output_type": "stream",
     "text": [
      "OK\n"
     ]
    }
   ],
   "source": [
    "%%bash\n",
    "res=`diff marged.txt <(paste col1.txt col2.txt)`\n",
    "if [ \"$res\" = \"\" ]; then echo \"OK\"; else echo $res; fi"
   ]
  },
  {
   "cell_type": "markdown",
   "metadata": {},
   "source": [
    "## 14. 先頭からN行を出力\n",
    "自然数Nをコマンドライン引数などの手段で受け取り，入力のうち先頭のN行だけを表示せよ．確認にはheadコマンドを用いよ．"
   ]
  },
  {
   "cell_type": "code",
   "execution_count": 10,
   "metadata": {},
   "outputs": [],
   "source": [
    "with open('e14.py', 'w') as f:\n",
    "    f.write(\"\"\"\\\n",
    "#!/usr/bin/env python3\n",
    "import sys\n",
    "N=int(sys.argv[1])\n",
    "for i,line in enumerate(sys.stdin,1):\n",
    "    sys.stdout.write(line)\n",
    "    if i>=N: break\\\n",
    "\"\"\")"
   ]
  },
  {
   "cell_type": "code",
   "execution_count": 11,
   "metadata": {},
   "outputs": [
    {
     "name": "stdout",
     "output_type": "stream",
     "text": [
      "OK\n"
     ]
    }
   ],
   "source": [
    "%%bash\n",
    "fname=\"popular-names.txt\"\n",
    "N=5\n",
    "check=\"head -n$N $fname\"\n",
    "res=`diff <(./e14.py $N< $fname) <(eval $check)`\n",
    "if [ \"$res\" = \"\" ]; then echo \"OK\"; else echo $res; fi"
   ]
  },
  {
   "cell_type": "markdown",
   "metadata": {},
   "source": [
    "## 15. 末尾のN行を出力\n",
    "自然数Nをコマンドライン引数などの手段で受け取り，入力のうち末尾のN行だけを表示せよ．確認にはtailコマンドを用いよ．"
   ]
  },
  {
   "cell_type": "code",
   "execution_count": 12,
   "metadata": {},
   "outputs": [],
   "source": [
    "with open('e15.py', 'w') as f:\n",
    "    f.write(\"\"\"\\\n",
    "#!/usr/bin/env python3\n",
    "import sys\n",
    "N=int(sys.argv[1])\n",
    "l=max([len(sys.stdin.readline()) for _ in range(N)])\n",
    "end=sys.stdin.seek(0,2)\n",
    "tmp=[]; i=0\n",
    "while len(tmp)<N+1:\n",
    "    sys.stdin.seek(end-l*(N+i))\n",
    "    tmp = sys.stdin.readlines()\n",
    "    i+=1\n",
    "for l in tmp[-N:]: sys.stdout.write(l)\\\n",
    "\"\"\")"
   ]
  },
  {
   "cell_type": "code",
   "execution_count": 13,
   "metadata": {},
   "outputs": [
    {
     "name": "stdout",
     "output_type": "stream",
     "text": [
      "OK\n"
     ]
    }
   ],
   "source": [
    "%%bash\n",
    "fname=\"popular-names.txt\"\n",
    "N=5\n",
    "check=\"tail -n$N $fname\"\n",
    "res=`diff <(./e15.py $N< $fname) <(eval $check)`\n",
    "if [ \"$res\" = \"\" ]; then echo \"OK\"; else echo $res; fi"
   ]
  },
  {
   "cell_type": "markdown",
   "metadata": {},
   "source": [
    "## 16. ファイルをN分割する\n",
    "自然数Nをコマンドライン引数などの手段で受け取り，入力のファイルを行単位でN分割せよ．同様の処理をsplitコマンドで実現せよ．"
   ]
  },
  {
   "cell_type": "code",
   "execution_count": 14,
   "metadata": {},
   "outputs": [],
   "source": [
    "with open('e16.py', 'w') as f:\n",
    "    f.write(\"\"\"\\\n",
    "#!/usr/bin/env python3\n",
    "import sys, os\n",
    "N=int(sys.argv[1])\n",
    "C=int(sys.argv[2])\n",
    "os.makedirs('tmp', exist_ok=True)\n",
    "for f in [open(\"tmp/split{:02}.txt\".format(i),\"w\") for i in range(N)]:\n",
    "    for i,line in enumerate(sys.stdin,1):\n",
    "        f.write(line)\n",
    "        if i>=C: break\\\n",
    "\"\"\")"
   ]
  },
  {
   "cell_type": "code",
   "execution_count": 15,
   "metadata": {},
   "outputs": [
    {
     "name": "stdout",
     "output_type": "stream",
     "text": [
      "OK00\n",
      "OK01\n",
      "OK02\n",
      "OK03\n",
      "OK04\n",
      "OK05\n"
     ]
    }
   ],
   "source": [
    "%%bash\n",
    "fname=\"popular-names.txt\"\n",
    "N=6\n",
    "l=`./e10.py < $fname`\n",
    "len=$[($l/$N)+($l%$N==0?0:1)]\n",
    "rm -rf tmp\n",
    "./e16.py $N $len <$fname\n",
    "split -l$len popular-names.txt tmp/split-c -d --additional-suffix=.txt\n",
    "for i in `seq -f \"%02g\" 0 $[N-1]`; do\n",
    "    res=`diff tmp/split$i.txt tmp/split-c$i.txt`;\n",
    "    if [ \"$res\" = \"\" ]; then echo \"OK$i\"; else echo $res; fi\n",
    "done\n",
    "rm -rf tmp"
   ]
  },
  {
   "cell_type": "markdown",
   "metadata": {},
   "source": [
    "## 17. １列目の文字列の異なり\n",
    "1列目の文字列の種類（異なる文字列の集合）を求めよ．確認にはcut, sort, uniqコマンドを用いよ．"
   ]
  },
  {
   "cell_type": "code",
   "execution_count": 16,
   "metadata": {},
   "outputs": [],
   "source": [
    "with open('e17.py', 'w') as f:\n",
    "    f.write(\"\"\"\\\n",
    "#!/usr/bin/env python3\n",
    "import sys\n",
    "names = set()\n",
    "for line in sys.stdin:\n",
    "    names.add(line.split(\"\\\\t\")[0])\n",
    "names = sorted(names)\n",
    "for name in names:\n",
    "    sys.stdout.write(name+'\\\\n')\\\n",
    "\"\"\")"
   ]
  },
  {
   "cell_type": "code",
   "execution_count": 17,
   "metadata": {},
   "outputs": [
    {
     "name": "stdout",
     "output_type": "stream",
     "text": [
      "OK\n"
     ]
    }
   ],
   "source": [
    "%%bash\n",
    "fname=\"popular-names.txt\"\n",
    "check=\"cut -f1 $fname | sort | uniq\"\n",
    "res=`diff <(./e17.py < $fname) <(eval $check)`\n",
    "if [ \"$res\" = \"\" ]; then echo \"OK\"; else echo $res; fi"
   ]
  },
  {
   "cell_type": "markdown",
   "metadata": {},
   "source": [
    "## 18. 各行を3コラム目の数値の降順にソート\n",
    "各行を3コラム目の数値の逆順で整列せよ（注意: 各行の内容は変更せずに並び替えよ）．確認にはsortコマンドを用いよ（この問題はコマンドで実行した時の結果と合わなくてもよい）．"
   ]
  },
  {
   "cell_type": "code",
   "execution_count": 18,
   "metadata": {},
   "outputs": [],
   "source": [
    "with open('e18.py', 'w') as f:\n",
    "    f.write(\"\"\"\\\n",
    "#!/usr/bin/env python3\n",
    "import sys\n",
    "lis = []\n",
    "for line in sys.stdin:\n",
    "    lis.append(line)\n",
    "lis = sorted(lis, key=lambda l:int(l.split()[2]),reverse=True)\n",
    "for line in lis:\n",
    "    sys.stdout.write(line)\n",
    "    sys.stdout.flush()\\\n",
    "\"\"\")"
   ]
  },
  {
   "cell_type": "code",
   "execution_count": 19,
   "metadata": {},
   "outputs": [
    {
     "name": "stdout",
     "output_type": "stream",
     "text": [
      "OK\n"
     ]
    }
   ],
   "source": [
    "%%bash\n",
    "fname=\"popular-names.txt\"\n",
    "check=\"sort -k3 -r -n -s $fname\"\n",
    "res=`diff <(./e18.py < $fname) <(eval $check)`\n",
    "if [ \"$res\" = \"\" ]; then echo \"OK\"; else echo \"$res\"; fi"
   ]
  },
  {
   "cell_type": "markdown",
   "metadata": {},
   "source": [
    "## 19. 各行の1コラム目の文字列の出現頻度を求め，出現頻度の高い順に並べる\n",
    "各行の1列目の文字列の出現頻度を求め，その高い順に並べて表示せよ．確認にはcut, uniq, sortコマンドを用いよ．"
   ]
  },
  {
   "cell_type": "code",
   "execution_count": 20,
   "metadata": {},
   "outputs": [],
   "source": [
    "with open('e19.py', 'w') as f:\n",
    "    f.write(\"\"\"\\\n",
    "#!/usr/bin/env python3\n",
    "import sys\n",
    "dic = {}\n",
    "for line in sys.stdin:\n",
    "    key = line.split('\\t')[0]\n",
    "    dic.setdefault(key,0)\n",
    "    dic[key]+=1\n",
    "ldic = sorted(dic.items(), key=lambda x:x[0], reverse=True)\n",
    "ldic = sorted(ldic, key=lambda x:x[1], reverse=True)\n",
    "for name,count in ldic:\n",
    "    print(name)\\\n",
    "\"\"\")"
   ]
  },
  {
   "cell_type": "code",
   "execution_count": 21,
   "metadata": {},
   "outputs": [
    {
     "name": "stdout",
     "output_type": "stream",
     "text": [
      "OK\n"
     ]
    }
   ],
   "source": [
    "%%bash\n",
    "fname=\"popular-names.txt\"\n",
    "check=\"cut -f1 $fname | sort | uniq -c | sort -r | cut -b9-\"\n",
    "res=`diff <(./e19.py < $fname) <(eval $check)`\n",
    "if [ \"$res\" = \"\" ]; then echo \"OK\"; else echo \"$res\"; fi"
   ]
  }
 ],
 "metadata": {
  "kernelspec": {
   "display_name": "Python 3",
   "language": "python",
   "name": "python3"
  },
  "language_info": {
   "codemirror_mode": {
    "name": "ipython",
    "version": 3
   },
   "file_extension": ".py",
   "mimetype": "text/x-python",
   "name": "python",
   "nbconvert_exporter": "python",
   "pygments_lexer": "ipython3",
   "version": "3.8.0"
  }
 },
 "nbformat": 4,
 "nbformat_minor": 4
}
