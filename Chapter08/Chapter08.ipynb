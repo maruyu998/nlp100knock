{
 "cells": [
  {
   "cell_type": "markdown",
   "metadata": {},
   "source": [
    "# 第8章: ニューラルネット\n",
    "第6章で取り組んだニュース記事のカテゴリ分類を題材として，ニューラルネットワークでカテゴリ分類モデルを実装する．なお，この章ではPyTorch, TensorFlow, Chainerなどの機械学習プラットフォームを活用せよ．"
   ]
  },
  {
   "cell_type": "markdown",
   "metadata": {},
   "source": [
    "## 70. 単語ベクトルの和による特徴量\n",
    "問題50で構築した学習データ，検証データ，評価データを行列・ベクトルに変換したい．例えば，学習データについて，すべての事例の特徴ベクトルを並べた行列Xと正解ラベルを並べた行列（ベクトル）Yを作成したい．\n",
    "$$\n",
    "    X = \\left(\n",
    "    \\begin{array}{c}\n",
    "      x_1 \\\\\n",
    "      x_2 \\\\\n",
    "      \\vdots \\\\\n",
    "      x_n\n",
    "    \\end{array}\n",
    "  \\right) \\in \\mathbb{R}^{n\\times d},\n",
    "    Y = \\left(\n",
    "    \\begin{array}{c}\n",
    "      y_1 \\\\\n",
    "      y_2 \\\\\n",
    "      \\vdots \\\\\n",
    "      y_n\n",
    "    \\end{array}\n",
    "  \\right) \\in \\mathbb{N}^{n}\n",
    "$$\n",
    "ここで，nは学習データの事例数であり，$x_i\\in\\mathbb{R^d}$と$y_i\\in\\mathbb{N}$はそれぞれ，$i\\in\\{1,…,n\\}$番目の事例の特徴量ベクトルと正解ラベルを表す． なお，今回は「ビジネス」「科学技術」「エンターテイメント」「健康」の4カテゴリ分類である．$\\mathbb{N_4}$で4未満の自然数（0を含む）を表すことにすれば，任意の事例の正解ラベル$y_i$は$y_i\\in\\mathbb{N_4}$で表現できる． 以降では，ラベルの種類数をLで表す（今回の分類タスクではL=4である）．\n",
    "$i$番目の事例の特徴ベクトル$x_i$は，次式で求める．\n",
    "$$ x_i=\\frac{1}{T_i}\\sum_{t=1}^{T_i}emb(w_{i,t})$$\n",
    "ここで，i番目の事例はTi個の（記事見出しの）単語列$(w_{i,1},w_{i,2},…,w_{i,T_i})$から構成され，$emb(w)\\in \\mathbb{R}^d$は単語wに対応する単語ベクトル（次元数はd）である．すなわち，i番目の事例の記事見出しを，その見出しに含まれる単語のベクトルの平均で表現したものが$x_i$である．今回は単語ベクトルとして，問題60でダウンロードしたものを用いればよい．300次元の単語ベクトルを用いたので，d=300である．\n",
    "i番目の事例のラベル$y_i$は，次のように定義する．\n",
    "\n",
    "\\begin{eqnarray}\n",
    "    y_i=\\left\\{ \\begin{array}{ll}\n",
    "    0 & (記事x_iが「ビジネス」カテゴリの場合) \\\\\n",
    "    1 & (記事x_iが「科学技術」カテゴリの場合) \\\\\n",
    "    2 & (記事x_iが「エンターテインメント」カテゴリの場合) \\\\\n",
    "    3 & (記事x_iが「健康」カテゴリの場合) \\\\\n",
    "    \\end{array} \\right.\n",
    "\\end{eqnarray}\n",
    "\n",
    "なお，カテゴリ名とラベルの番号が一対一で対応付いていれば，上式の通りの対応付けでなくてもよい．\n",
    "\n",
    "以上の仕様に基づき，以下の行列・ベクトルを作成し，ファイルに保存せよ．\n",
    "\n",
    "- 学習データの特徴量行列: $X_{train}\\in \\mathbb{R}^{N_t\\times d}$\n",
    "- 学習データのラベルベクトル: $Y_{train}\\in \\mathbb{N}^{N_t}$\n",
    "- 検証データの特徴量行列: $X_{valid}\\in \\mathbb{R}^{N_v\\times{d}}$\n",
    "- 検証データのラベルベクトル: $Y_{valid}\\in \\mathbb{N}^{N_v}$\n",
    "- 評価データの特徴量行列: $X_{test}\\in \\mathbb{R}^{N_e \\times{d}}$\n",
    "- 評価データのラベルベクトル: $Y_{test}\\in \\mathbb{N}^{N_e}$\n",
    "\n",
    "なお，$N_t$,$N_v$,$N_e$はそれぞれ，学習データの事例数，検証データの事例数，評価データの事例数である．"
   ]
  },
  {
   "cell_type": "code",
   "execution_count": 1,
   "metadata": {},
   "outputs": [
    {
     "name": "stderr",
     "output_type": "stream",
     "text": [
      "unable to import 'smart_open.gcs', disabling that module\n"
     ]
    }
   ],
   "source": [
    "from gensim.models import KeyedVectors\n",
    "w2v = KeyedVectors.load_word2vec_format('../Chapter07/GoogleNews-vectors-negative300.bin', binary=True)"
   ]
  },
  {
   "cell_type": "code",
   "execution_count": 2,
   "metadata": {},
   "outputs": [],
   "source": [
    "import pandas as pd\n",
    "news = pd.read_csv('../Chapter06/newsCorpora.csv', sep=\"\\t\", header=None, names=[\"ID\",\"TITLE\",\"URL\",\"PUBLISHER\",\"CATEGORY\",\"STORY\",\"HOSTNAME\",\"TIMESTAMP\"],index_col=\"ID\")\n",
    "news = news.query('PUBLISHER in [\"Reuters\",\"Huffington Post\",\"Businessweek\", \"Contactmusic.com\", \"Daily Mail\"]')\n",
    "news = news.sample(frac=1,random_state=0)\n",
    "news = news[[\"TITLE\",\"CATEGORY\"]]"
   ]
  },
  {
   "cell_type": "code",
   "execution_count": 3,
   "metadata": {},
   "outputs": [],
   "source": [
    "import spacy\n",
    "nlp = spacy.load('en_core_web_sm')\n",
    "def genword(title):\n",
    "    for word in nlp(title): yield word.lemma_\n",
    "\n",
    "from stemming.porter2 import stem\n",
    "def word2vec(word):\n",
    "    if word in w2v: return w2v[word]\n",
    "    if stem(word) in w2v: return w2v[stem(word)]\n",
    "    return None\n",
    "\n",
    "import numpy as np\n",
    "def summation(li):\n",
    "    return np.average([vec for vec in li if vec is not None],axis=0)"
   ]
  },
  {
   "cell_type": "markdown",
   "metadata": {},
   "source": [
    "(b = business, t = science and technology, e = entertainment, m = health)"
   ]
  },
  {
   "cell_type": "code",
   "execution_count": 4,
   "metadata": {},
   "outputs": [],
   "source": [
    "news['TITLE'] = news['TITLE'].apply(lambda title:summation([word2vec(word) for word in genword(title)]))\n",
    "news['CATEGORY'] = news['CATEGORY'].apply(lambda cate:'btem'.find(cate))"
   ]
  },
  {
   "cell_type": "code",
   "execution_count": 5,
   "metadata": {},
   "outputs": [],
   "source": [
    "convert = lambda values,dtype:np.array([elm.astype(np.float) for elm in values],dtype=dtype)"
   ]
  },
  {
   "cell_type": "code",
   "execution_count": 6,
   "metadata": {},
   "outputs": [],
   "source": [
    "news_X = convert(news['TITLE'].values,dtype=float)\n",
    "news_Y = convert(news['CATEGORY'].values,dtype=int)"
   ]
  },
  {
   "cell_type": "code",
   "execution_count": 7,
   "metadata": {},
   "outputs": [],
   "source": [
    "from sklearn.model_selection import train_test_split\n",
    "test_valid_X, train_X, test_valid_Y, train_Y = train_test_split(news_X, news_Y, test_size=0.8, random_state=0)\n",
    "test_X, valid_X, test_Y, valid_Y = train_test_split(test_valid_X, test_valid_Y, test_size=0.5, random_state=0)"
   ]
  },
  {
   "cell_type": "code",
   "execution_count": 8,
   "metadata": {},
   "outputs": [],
   "source": [
    "import pickle\n",
    "for mode in [\"train\",\"test\",\"valid\"]:\n",
    "    with open(f\"{mode}_X.pickle\", 'wb') as f: pickle.dump(eval(f\"{mode}_X\"), f)\n",
    "    with open(f\"{mode}_Y.pickle\", 'wb') as f: pickle.dump(eval(f\"{mode}_Y\"), f)"
   ]
  },
  {
   "cell_type": "markdown",
   "metadata": {},
   "source": [
    "## 71. 単層ニューラルネットワークによる予測\n",
    "問題70で保存した行列を読み込み，学習データについて以下の計算を実行せよ．\n",
    "$$\n",
    "    \\hat{y}_1 = softmax(x_i W), \\\\\n",
    "    \\hat{Y} = softmax(X_{[1:4]}W)\n",
    "$$\n",
    "ただし，softmaxはソフトマックス関数，$X_{[1:4]}\\in\\mathbb{R}^{4\\times d}$は特徴ベクトル$x_1,x_2,x_3,x_4$を縦に並べた行列である．\n",
    "\n",
    "$$\n",
    "X_{[1:4]}= \\left(\n",
    "    \\begin{array}{c}\n",
    "      x_1 \\\\\n",
    "      x_2 \\\\\n",
    "      x_3 \\\\\n",
    "      x_4\n",
    "    \\end{array}\n",
    "  \\right)\n",
    "$$\n",
    "\n",
    "行列$W\\in R^{d\\times L}$は単層ニューラルネットワークの重み行列で，ここではランダムな値で初期化すればよい（問題73以降で学習して求める）．なお，$\\hat{y}_1\\in\\mathbb{N}^L$は未学習の行列Wで事例$x_1$を分類したときに，各カテゴリに属する確率を表すベクトルである． 同様に，$\\hat{Y}\\in\\mathbb{N}^{n\\times L}$は，学習データの事例$x_1,x_2,x_3,x_4$について，各カテゴリに属する確率を行列として表現している．"
   ]
  },
  {
   "cell_type": "code",
   "execution_count": 9,
   "metadata": {},
   "outputs": [
    {
     "name": "stdout",
     "output_type": "stream",
     "text": [
      "train_X was filled\n",
      "train_Y was filled\n",
      "test_X was filled\n",
      "test_Y was filled\n",
      "valid_X was filled\n",
      "valid_Y was filled\n"
     ]
    }
   ],
   "source": [
    "for mode in [\"train\",\"test\",\"valid\"]:\n",
    "    with open(f\"{mode}_X.pickle\", 'rb') as f: exec(f\"{mode}_X = pickle.load(f); print('{mode}_X was filled')\")\n",
    "    with open(f\"{mode}_Y.pickle\", 'rb') as f: exec(f\"{mode}_Y = pickle.load(f); print('{mode}_Y was filled')\")"
   ]
  },
  {
   "cell_type": "code",
   "execution_count": 10,
   "metadata": {},
   "outputs": [],
   "source": [
    "d = 300; l = 4\n",
    "W = np.random.randn(d,l)"
   ]
  },
  {
   "cell_type": "code",
   "execution_count": 11,
   "metadata": {},
   "outputs": [],
   "source": [
    "def softmax(x):\n",
    "    if x.ndim == 1: x = x[None,:]\n",
    "    e_x = np.exp(x.T - np.max(x,axis=1).T).T\n",
    "    return (e_x.T / e_x.sum(axis=1).T).T"
   ]
  },
  {
   "cell_type": "code",
   "execution_count": 12,
   "metadata": {},
   "outputs": [
    {
     "data": {
      "text/plain": [
       "array([[0.11211628, 0.32845638, 0.52268685, 0.03674049]])"
      ]
     },
     "execution_count": 12,
     "metadata": {},
     "output_type": "execute_result"
    }
   ],
   "source": [
    "softmax(np.dot(train_X[0],W))"
   ]
  },
  {
   "cell_type": "code",
   "execution_count": 13,
   "metadata": {},
   "outputs": [
    {
     "data": {
      "text/plain": [
       "array([[0.11211628, 0.32845638, 0.52268685, 0.03674049],\n",
       "       [0.45342302, 0.09824919, 0.42111959, 0.02720821],\n",
       "       [0.39886844, 0.18633846, 0.12494852, 0.28984458],\n",
       "       [0.5770489 , 0.04235514, 0.36679768, 0.01379828]])"
      ]
     },
     "execution_count": 13,
     "metadata": {},
     "output_type": "execute_result"
    }
   ],
   "source": [
    "softmax(np.dot(train_X[:4],W))"
   ]
  },
  {
   "cell_type": "markdown",
   "metadata": {},
   "source": [
    "## 72. 損失と勾配の計算\n",
    "学習データの事例x1と事例集合x1,x2,x3,x4に対して，クロスエントロピー損失と，行列Wに対する勾配を計算せよ．なお，ある事例xiに対して損失は次式で計算される．\n",
    "\n",
    "$l_i=−\\log p(y_i|x_i)$, $j:=y_i$, $a:=xW$, $o_j=p(y_i)=softmax((xW)_{y_i})=softmax(a_j)$, \n",
    "\n",
    "ただし，事例集合に対するクロスエントロピー損失は，その集合に含まれる各事例の損失の平均とする．"
   ]
  },
  {
   "cell_type": "code",
   "execution_count": 14,
   "metadata": {},
   "outputs": [],
   "source": [
    "class Linear:\n",
    "    def __init__(self, input_size, output_size):\n",
    "        self.input_size = input_size\n",
    "        self.W = np.random.randn(input_size, output_size)\n",
    "        self.dW = np.zeros((input_size, output_size),dtype=float)\n",
    "        self.x = None\n",
    "        \n",
    "    def forward(self, x):\n",
    "        self.x = x\n",
    "        out = np.dot(self.x, self.W)\n",
    "        if np.isnan(out).any() or np.isinf(out).any(): raise Exception(out, self.x, self.W)\n",
    "        return out\n",
    "    \n",
    "    def backward(self, dout):\n",
    "        dx = np.dot(dout, self.W.T)\n",
    "        dW = np.outer(self.x.T, dout)\n",
    "        self.dW = dW\n",
    "        return np.resize(dx,self.input_size)\n",
    "    \n",
    "    def update(self, lr):\n",
    "        self.W -= lr * self.dW"
   ]
  },
  {
   "cell_type": "code",
   "execution_count": 15,
   "metadata": {},
   "outputs": [],
   "source": [
    "class Loss:\n",
    "    def __init__(self, y_size):\n",
    "        self.y_size = y_size\n",
    "    def forward(self, pred_y, y):\n",
    "        self.y = y\n",
    "        self.out = pred_y[0][y]\n",
    "        out = -np.log(np.max([self.out,1e-6]))\n",
    "        if np.isnan(out).any() or np.isinf(out).any(): raise Exception(out, self.out)\n",
    "        return out\n",
    "    def backward(self):\n",
    "        ret = np.zeros(self.y_size)\n",
    "        ret[y] = -1/np.max([self.out,1e-6])\n",
    "        return ret"
   ]
  },
  {
   "cell_type": "markdown",
   "metadata": {},
   "source": [
    "+ grad softmax"
   ]
  },
  {
   "cell_type": "markdown",
   "metadata": {},
   "source": [
    "$\\displaystyle o_i=softmax(a_i)=\\frac{\\exp(a_i)}{\\sum_k{\\exp(a_k)}}$"
   ]
  },
  {
   "cell_type": "markdown",
   "metadata": {},
   "source": [
    "$\\displaystyle \\frac{\\partial{o_i}}{\\partial a_i}=\\frac{\\exp(a_i)\\sum_k(\\exp(a_k))-\\exp(a_i)\\exp(a_i)}{(\\sum_k{\\exp(a_k)})^2}=o_i-o_io_i=o_i(1-o_i)$"
   ]
  },
  {
   "cell_type": "markdown",
   "metadata": {},
   "source": [
    "$\\displaystyle \\frac{\\partial{o_i}}{\\partial a_{j(\\neq i)}}=\\frac{-\\exp(a_i)\\exp(a_j)}{(\\sum_k{\\exp(a_k)})^2}=-o_io_j$"
   ]
  },
  {
   "cell_type": "markdown",
   "metadata": {},
   "source": [
    "$\\therefore \\displaystyle \\frac{\\partial{o_i}}{\\partial a_j}=\\frac{\\partial}{\\partial a_j}softmax(a_i)=o_i(\\delta_{ij}-o_j)$"
   ]
  },
  {
   "cell_type": "code",
   "execution_count": 16,
   "metadata": {},
   "outputs": [],
   "source": [
    "class Softmax: # backwardは完全にこの問題に合わせたもの\n",
    "    def forward(self, x):\n",
    "        if x.ndim == 1: x = x[None,:]\n",
    "        e_x = np.exp(x.T - np.max(x,axis=1).T).T\n",
    "        self.out = (e_x.T / e_x.sum(axis=1).T).T\n",
    "        if np.isnan(self.out).any() or np.isinf(self.out).any(): raise Exception(self.out)\n",
    "        return self.out\n",
    "    \n",
    "    def backward(self, dout):\n",
    "        y = np.where(dout != 0)[0]\n",
    "        p = np.empty_like(dout)\n",
    "        p[y] = 1\n",
    "        return dout[y] * (p - self.out)\n",
    "    def update(self, lr):\n",
    "        pass"
   ]
  },
  {
   "cell_type": "markdown",
   "metadata": {},
   "source": [
    "+ まとめて"
   ]
  },
  {
   "cell_type": "markdown",
   "metadata": {},
   "source": [
    "$\\displaystyle \\frac{\\partial{l_i}}{\\partial W_{kl}}=\\frac{\\partial(-\\log o_j)}{\\partial W_{kl}}=-\\frac{1}{o_j}\\frac{\\partial}{\\partial W_{kl}}softmax(a_j)$"
   ]
  },
  {
   "cell_type": "markdown",
   "metadata": {},
   "source": [
    "$\\displaystyle =-\\frac{1}{o_j}\\sum_n\\frac{\\partial}{\\partial a_n}softmax(a_j)\\frac{\\partial a_n}{\\partial W_{kl}}$"
   ]
  },
  {
   "cell_type": "markdown",
   "metadata": {},
   "source": [
    "$\\displaystyle =-\\frac{1}{o_j}\\sum_n{o_j(\\delta_{jn}-o_n)}\\frac{\\partial a_n}{\\partial W_{kl}} = -\\sum_n{(\\delta_{jn}-o_n)}\\frac{\\partial a_n}{\\partial W_{kl}}$"
   ]
  },
  {
   "cell_type": "markdown",
   "metadata": {},
   "source": [
    "$\\displaystyle = -\\sum_n{(\\delta_{jn}-o_n)}\\delta_{nl}x_k$"
   ]
  },
  {
   "cell_type": "markdown",
   "metadata": {},
   "source": [
    "$\\displaystyle = -(\\delta_{jl}-o_l)x_k$"
   ]
  },
  {
   "cell_type": "code",
   "execution_count": 17,
   "metadata": {},
   "outputs": [],
   "source": [
    "class MyModel:\n",
    "    def __init__(self, dim=300, l=4):\n",
    "        self.layers = [\n",
    "            Linear(input_size=dim, output_size=l),\n",
    "            Softmax()\n",
    "        ]\n",
    "        self.losslayer = Loss(y_size=l)\n",
    "        \n",
    "    def predict(self, x):\n",
    "        for layer in self.layers:\n",
    "            x = layer.forward(x)\n",
    "        return x\n",
    "    \n",
    "    def forward(self, x, y):\n",
    "        pred_y = self.predict(x)\n",
    "        loss = self.losslayer.forward(pred_y, y)\n",
    "        return loss\n",
    "    \n",
    "    def backward(self):\n",
    "        dout = self.losslayer.backward()\n",
    "        for layer in reversed(self.layers):\n",
    "            dout = layer.backward(dout)\n",
    "        return dout\n",
    "    \n",
    "    def update(self, lr):\n",
    "        for layer in self.layers:\n",
    "            layer.update(lr)"
   ]
  },
  {
   "cell_type": "code",
   "execution_count": 18,
   "metadata": {},
   "outputs": [],
   "source": [
    "def grad(pred_y:np.ndarray, y:int, x:np.ndarray):\n",
    "    grad_W = np.empty_like(W) # d*l\n",
    "    for i in range(len(l)):\n",
    "        grad_W[:,i] = ((int)(y==i)-pred_y[i])*x[:]\n",
    "    return grad_W"
   ]
  },
  {
   "cell_type": "code",
   "execution_count": 19,
   "metadata": {},
   "outputs": [],
   "source": [
    "model = MyModel(dim=300, l=4)"
   ]
  },
  {
   "cell_type": "code",
   "execution_count": 20,
   "metadata": {},
   "outputs": [
    {
     "data": {
      "text/plain": [
       "array([[0.38021665, 0.11805815, 0.35667805, 0.14504714],\n",
       "       [0.46557304, 0.1026168 , 0.32559059, 0.10621958],\n",
       "       [0.52169199, 0.12184181, 0.26712265, 0.08934354],\n",
       "       [0.77428984, 0.05464248, 0.12055478, 0.0505129 ]])"
      ]
     },
     "execution_count": 20,
     "metadata": {},
     "output_type": "execute_result"
    }
   ],
   "source": [
    "model.predict(train_X[:4])"
   ]
  },
  {
   "cell_type": "markdown",
   "metadata": {},
   "source": [
    "## 73. 確率的勾配降下法による学習\n",
    "確率的勾配降下法（SGD: Stochastic Gradient Descent）を用いて，行列Wを学習せよ．なお，学習は適当な基準で終了させればよい（例えば「100エポックで終了」など）．"
   ]
  },
  {
   "cell_type": "code",
   "execution_count": 21,
   "metadata": {},
   "outputs": [],
   "source": [
    "class SGD:\n",
    "    def __init__(self, model, lr=0.01):\n",
    "        self.model = model\n",
    "        self.lr = lr\n",
    "        \n",
    "    def update(self):\n",
    "        model.update(self.lr)"
   ]
  },
  {
   "cell_type": "code",
   "execution_count": 22,
   "metadata": {},
   "outputs": [],
   "source": [
    "def accuracy(model,mode):\n",
    "    pred_Y = model.predict(eval(f\"{mode}_X\"))\n",
    "    y = eval(f\"{mode}_Y\")\n",
    "    a = [(bool)(t==p) for t,p in zip(pred_Y.argmax(axis=1),y)]\n",
    "    return sum(a)/len(a)"
   ]
  },
  {
   "cell_type": "code",
   "execution_count": 23,
   "metadata": {},
   "outputs": [
    {
     "name": "stdout",
     "output_type": "stream",
     "text": [
      "accuracy: 85.00749625187406%\n",
      "accuracy: 84.40779610194903%\n",
      "accuracy: 85.83208395802099%\n",
      "accuracy: 85.83208395802099%\n",
      "accuracy: 86.28185907046478%\n",
      "accuracy: 85.83208395802099%\n",
      "accuracy: 85.68215892053973%\n",
      "accuracy: 85.75712143928035%\n",
      "accuracy: 86.05697151424287%\n",
      "accuracy: 86.05697151424287%\n"
     ]
    }
   ],
   "source": [
    "model = MyModel(dim=300, l=4)\n",
    "optimizer = SGD(model)\n",
    "for i in range(10):\n",
    "    for j,(x,y) in enumerate(zip(train_X,train_Y)):\n",
    "        loss = model.forward(x, y)\n",
    "        model.backward()\n",
    "        optimizer.update()\n",
    "    print(f\"accuracy: {accuracy(model,'valid')*100}%\")"
   ]
  },
  {
   "cell_type": "markdown",
   "metadata": {},
   "source": [
    "+ pytorchで書いてみる"
   ]
  },
  {
   "cell_type": "code",
   "execution_count": 24,
   "metadata": {},
   "outputs": [],
   "source": [
    "import torch"
   ]
  },
  {
   "cell_type": "code",
   "execution_count": 25,
   "metadata": {},
   "outputs": [],
   "source": [
    "for mode in [\"train\",\"test\",\"valid\"]:\n",
    "    exec(f\"{mode}_X = torch.tensor({mode}_X)\")\n",
    "    exec(f\"{mode}_Y = torch.tensor({mode}_Y)\")"
   ]
  },
  {
   "cell_type": "code",
   "execution_count": 26,
   "metadata": {},
   "outputs": [],
   "source": [
    "import torch.nn as nn\n",
    "import torch.nn.functional as F\n",
    "\n",
    "class Model(nn.Module):\n",
    "    def __init__(self):\n",
    "        super(Model, self).__init__()\n",
    "        self.linear = nn.Linear(300, 4, False).double()\n",
    "        self.loss = nn.CrossEntropyLoss()\n",
    "    \n",
    "    def predict(self, x):\n",
    "        return F.softmax(self.linear(x),dim=1)\n",
    "        \n",
    "    def forward(self, x, y):\n",
    "        return self.loss(self.linear(x), y)"
   ]
  },
  {
   "cell_type": "code",
   "execution_count": 27,
   "metadata": {},
   "outputs": [],
   "source": [
    "import copy\n",
    "class DataLoader:\n",
    "    def __init__(self, *, mode, shuffle=False, batch_size=1):\n",
    "        if mode not in [\"train\",\"test\",\"valid\"]: raise Exception(\"invalid mode\")\n",
    "        self.X, self.Y = eval(f\"{mode}_X\"), eval(f\"{mode}_Y\")\n",
    "        if shuffle: \n",
    "            index = np.random.shuffle(list(range(len(self.X))))\n",
    "            self.X = self.X[index][0]\n",
    "            self.Y = self.Y[index][0]\n",
    "        self.batch_size = batch_size\n",
    "        self.pointer = 0\n",
    "        self.size = len(self.X)\n",
    "    \n",
    "    def reset(self):\n",
    "        self.pointer = 0\n",
    "        return self\n",
    "    \n",
    "    def generator(self):\n",
    "        b = self.batch_size\n",
    "        p = self.pointer\n",
    "        if p >= self.size: return\n",
    "        if p+b >= self.size: b = self.size - p\n",
    "        self.pointer += b\n",
    "        yield [self.X[p:p+b],self.Y[p:p+b]]\n",
    "    \n",
    "    def __call__(self):\n",
    "        return self.generator()"
   ]
  },
  {
   "cell_type": "code",
   "execution_count": 28,
   "metadata": {},
   "outputs": [
    {
     "name": "stdout",
     "output_type": "stream",
     "text": [
      "0 epoch, accuracy: 26.686656671664167%\n",
      ">> 333 epoch, good accuracy: 75.63718140929535%\n",
      ">> 394 epoch, good accuracy: 75.71214392803599%\n",
      ">> 427 epoch, good accuracy: 75.86206896551724%\n",
      ">> 517 epoch, good accuracy: 75.93703148425787%\n",
      ">> 678 epoch, good accuracy: 76.01199400299849%\n",
      ">> 850 epoch, good accuracy: 76.08695652173914%\n",
      ">> 994 epoch, good accuracy: 76.16191904047976%\n",
      "1000 epoch, accuracy: 76.16191904047976%\n",
      ">> 1177 epoch, good accuracy: 76.2368815592204%\n",
      ">> 1259 epoch, good accuracy: 76.31184407796103%\n",
      ">> 1695 epoch, good accuracy: 76.38680659670165%\n",
      ">> 1765 epoch, good accuracy: 76.46176911544228%\n",
      "2000 epoch, accuracy: 76.46176911544228%\n",
      ">> 2178 epoch, good accuracy: 76.53673163418291%\n",
      ">> 2660 epoch, good accuracy: 76.61169415292353%\n",
      ">> 2730 epoch, good accuracy: 76.68665667166417%\n",
      ">> 2762 epoch, good accuracy: 76.7616191904048%\n",
      "3000 epoch, accuracy: 76.7616191904048%\n",
      ">> 3073 epoch, good accuracy: 76.83658170914542%\n",
      ">> 3474 epoch, good accuracy: 76.91154422788605%\n",
      "4000 epoch, accuracy: 76.83658170914542%\n",
      "5000 epoch, accuracy: 76.83658170914542%\n",
      "6000 epoch, accuracy: 76.7616191904048%\n",
      "7000 epoch, accuracy: 76.68665667166417%\n",
      "8000 epoch, accuracy: 76.46176911544228%\n",
      "9000 epoch, accuracy: 76.61169415292353%\n"
     ]
    }
   ],
   "source": [
    "import torch.optim as optim\n",
    "\n",
    "model = Model()\n",
    "optimizer = optim.SGD(model.parameters(), lr=0.01, momentum=0.9)\n",
    "trainLoader = DataLoader(mode=\"train\",shuffle=True, batch_size=50)\n",
    "pre_acc = 0.\n",
    "pre_model = None\n",
    "for i in range(10000):\n",
    "    trainLoader.reset()\n",
    "    for x,y in trainLoader():\n",
    "        loss = model(x, y)\n",
    "        optimizer.zero_grad()\n",
    "        loss.backward()\n",
    "        optimizer.step()\n",
    "    acc = accuracy(model,\"valid\")\n",
    "    if acc > pre_acc:\n",
    "        pre_model = copy.deepcopy(model)\n",
    "        if i > 100: print(f\">> {i} epoch, good accuracy: {acc*100}%\")\n",
    "        pre_acc = acc\n",
    "    if i%1000 == 0: print(f\"{i} epoch, accuracy: {acc*100}%\")"
   ]
  },
  {
   "cell_type": "code",
   "execution_count": 29,
   "metadata": {},
   "outputs": [
    {
     "data": {
      "text/plain": [
       "0.7886056971514243"
      ]
     },
     "execution_count": 29,
     "metadata": {},
     "output_type": "execute_result"
    }
   ],
   "source": [
    "accuracy(pre_model, \"test\")"
   ]
  },
  {
   "cell_type": "markdown",
   "metadata": {},
   "source": [
    "## 74. 正解率の計測\n",
    "問題73で求めた行列を用いて学習データおよび評価データの事例を分類したとき，その正解率をそれぞれ求めよ．"
   ]
  },
  {
   "cell_type": "markdown",
   "metadata": {},
   "source": [
    "上記"
   ]
  },
  {
   "cell_type": "markdown",
   "metadata": {},
   "source": [
    "## 75. 損失と正解率のプロット\n",
    "問題73のコードを改変し，各エポックのパラメータ更新が完了するたびに，訓練データでの損失，正解率，検証データでの損失，正解率をグラフにプロットし，学習の進捗状況を確認できるようにせよ．"
   ]
  },
  {
   "cell_type": "code",
   "execution_count": 30,
   "metadata": {},
   "outputs": [
    {
     "name": "stderr",
     "output_type": "stream",
     "text": [
      "/home/maruyama.y/_/lib/python3.8/site-packages/japanize_matplotlib/japanize_matplotlib.py:15: MatplotlibDeprecationWarning: \n",
      "The createFontList function was deprecated in Matplotlib 3.2 and will be removed two minor releases later. Use FontManager.addfont instead.\n",
      "  font_list = font_manager.createFontList(font_files)\n"
     ]
    }
   ],
   "source": [
    "import matplotlib.pyplot as plt\n",
    "import japanize_matplotlib\n",
    "\n",
    "def disp(epoch, loss,train_acc,valid_loss,valid_acc):\n",
    "    for elm in [\"epoch\",\"loss\",\"train_acc\",\"valid_loss\",\"valid_acc\"]:\n",
    "        record[elm].append(eval(elm))\n",
    "    \n",
    "    fig = plt.figure(figsize=(14,6))\n",
    "    lossfig = fig.add_subplot(1,2,1)\n",
    "    lossfig.set_title(\"loss\")\n",
    "    lossfig.plot(record[\"epoch\"], record[\"loss\"], label=\"train\")\n",
    "    lossfig.plot(record[\"epoch\"], record[\"valid_loss\"], label=\"valid\")\n",
    "    accfig = fig.add_subplot(1,2,2)\n",
    "    accfig.set_title(\"accuracy\")\n",
    "    accfig.plot(record[\"epoch\"], record[\"train_acc\"], label=\"train\")\n",
    "    accfig.plot(record[\"epoch\"], record[\"valid_acc\"], label=\"valid\")\n",
    "    plt.legend()\n",
    "    plt.show()"
   ]
  },
  {
   "cell_type": "code",
   "execution_count": 31,
   "metadata": {},
   "outputs": [
    {
     "data": {
      "image/png": "[encoded data removed]",
      "text/plain": [
       "<Figure size 1008x432 with 2 Axes>"
      ]
     },
     "metadata": {
      "needs_background": "light"
     },
     "output_type": "display_data"
    }
   ],
   "source": [
    "from IPython.display import clear_output\n",
    "model = Model()\n",
    "optimizer = optim.SGD(model.parameters(), lr=0.01, momentum=0.9)\n",
    "trainLoader = DataLoader(mode=\"train\",shuffle=True, batch_size=50)\n",
    "validLoader = DataLoader(mode=\"valid\",shuffle=True, batch_size=len(valid_X))\n",
    "pre_loss = 1000000.\n",
    "count = 0\n",
    "pre_model = None\n",
    "record = {\"epoch\":[],\"loss\":[], \"train_acc\":[], \"valid_loss\":[], \"valid_acc\":[]}\n",
    "for i in range(10000):\n",
    "    trainLoader.reset()\n",
    "    for x,y in trainLoader():\n",
    "        loss = model(x, y)\n",
    "        optimizer.zero_grad()\n",
    "        loss.backward()\n",
    "        optimizer.step()\n",
    "    train_acc = accuracy(model,\"train\")\n",
    "    \n",
    "    validLoader.reset()\n",
    "    x,y = validLoader().__next__()\n",
    "    valid_loss = model(x, y)\n",
    "    valid_acc = accuracy(model,\"valid\")\n",
    "    if valid_loss < pre_loss:\n",
    "        pre_model = copy.deepcopy(model)\n",
    "        pre_loss = valid_loss\n",
    "    else: count += 1\n",
    "    clear_output()\n",
    "    disp(i, loss, train_acc, valid_loss, valid_acc)  \n",
    "    if count > 100: break"
   ]
  },
  {
   "cell_type": "markdown",
   "metadata": {},
   "source": [
    "## 76. チェックポイント\n",
    "問題75のコードを改変し，各エポックのパラメータ更新が完了するたびに，チェックポイント（学習途中のパラメータ（重み行列など）の値や最適化アルゴリズムの内部状態）をファイルに書き出せ．"
   ]
  },
  {
   "cell_type": "code",
   "execution_count": 32,
   "metadata": {},
   "outputs": [],
   "source": [
    "import os\n",
    "model = Model()\n",
    "optimizer = optim.SGD(model.parameters(), lr=0.01, momentum=0.9)\n",
    "trainLoader = DataLoader(mode=\"train\",shuffle=True, batch_size=50)\n",
    "validLoader = DataLoader(mode=\"valid\",shuffle=True, batch_size=len(valid_X))\n",
    "pre_loss = 100000.\n",
    "count = 0\n",
    "for i in range(10000):\n",
    "    trainLoader.reset()\n",
    "    for x,y in trainLoader():\n",
    "        loss = model(x, y)\n",
    "        optimizer.zero_grad()\n",
    "        loss.backward()\n",
    "        optimizer.step()\n",
    "    train_acc = accuracy(model,\"train\")\n",
    "    \n",
    "    validLoader.reset()\n",
    "    x,y = validLoader().__next__()\n",
    "    valid_loss = model(x, y)\n",
    "    valid_acc = accuracy(model,\"valid\")\n",
    "    if i>200 and valid_loss < pre_loss:\n",
    "        os.makedirs('models',exist_ok=True)\n",
    "        with open(f\"models/model_e{i}.pickle\",'wb') as f: pickle.dump(model, f)\n",
    "        with open(f\"models/optimizer_e{i}.pickle\",'wb') as f: pickle.dump(optimizer, f)\n",
    "        pre_loss = valid_loss\n",
    "    else: count += 1 \n",
    "    if count > 100: break"
   ]
  },
  {
   "cell_type": "markdown",
   "metadata": {},
   "source": [
    "## 77. ミニバッチ化\n",
    "問題76のコードを改変し，B事例ごとに損失・勾配を計算し，行列Wの値を更新せよ（ミニバッチ化）．Bの値を1,2,4,8,…と変化させながら，1エポックの学習に要する時間を比較せよ．"
   ]
  },
  {
   "cell_type": "code",
   "execution_count": 33,
   "metadata": {},
   "outputs": [],
   "source": [
    "import time\n",
    "model = Model()\n",
    "optimizer = optim.SGD(model.parameters(), lr=0.01, momentum=0.9)\n",
    "validLoader = DataLoader(mode=\"valid\",shuffle=True, batch_size=len(valid_X))\n",
    "pre_loss = 100000.\n",
    "count = 0\n",
    "Bs = []\n",
    "times = []\n",
    "for b in range(14):\n",
    "    B = 2**b\n",
    "    start = time.time()\n",
    "    for i in range(1000):\n",
    "        trainLoader = DataLoader(mode=\"train\",shuffle=True, batch_size=B).reset()\n",
    "        for x,y in trainLoader():\n",
    "            loss = model(x, y)\n",
    "            optimizer.zero_grad()\n",
    "            loss.backward()\n",
    "            optimizer.step()\n",
    "    end = time.time()\n",
    "    Bs.append(B)\n",
    "    times.append(end-start)"
   ]
  },
  {
   "cell_type": "code",
   "execution_count": 34,
   "metadata": {},
   "outputs": [
    {
     "data": {
      "text/plain": [
       "[<matplotlib.lines.Line2D at 0x7f76957c9610>]"
      ]
     },
     "execution_count": 34,
     "metadata": {},
     "output_type": "execute_result"
    },
    {
     "data": {
      "image/png": "[encoded data removed]",
      "text/plain": [
       "<Figure size 432x288 with 1 Axes>"
      ]
     },
     "metadata": {
      "needs_background": "light"
     },
     "output_type": "display_data"
    }
   ],
   "source": [
    "plt.plot(Bs,times)"
   ]
  },
  {
   "cell_type": "markdown",
   "metadata": {},
   "source": [
    "## 78. GPU上での学習\n",
    "問題77のコードを改変し，GPU上で学習を実行せよ．"
   ]
  },
  {
   "cell_type": "code",
   "execution_count": 35,
   "metadata": {},
   "outputs": [],
   "source": [
    "model = Model().cuda()\n",
    "optimizer = optim.SGD(model.parameters(), lr=0.01, momentum=0.9)\n",
    "validLoader = DataLoader(mode=\"valid\",shuffle=True, batch_size=len(valid_X))\n",
    "pre_loss = 100000.\n",
    "count = 0\n",
    "Bs = []\n",
    "times = []\n",
    "for b in range(14):\n",
    "    B = 2**b\n",
    "    start = time.time()\n",
    "    for i in range(1000):\n",
    "        trainLoader = DataLoader(mode=\"train\",shuffle=True, batch_size=B).reset()\n",
    "        for x,y in trainLoader():\n",
    "            x = x.cuda(); y = y.cuda()\n",
    "            loss = model(x, y)\n",
    "            optimizer.zero_grad()\n",
    "            loss.backward()\n",
    "            optimizer.step()\n",
    "    end = time.time()\n",
    "    Bs.append(B)\n",
    "    times.append(end-start)"
   ]
  },
  {
   "cell_type": "code",
   "execution_count": 36,
   "metadata": {},
   "outputs": [
    {
     "data": {
      "text/plain": [
       "[<matplotlib.lines.Line2D at 0x7f76969cbd60>]"
      ]
     },
     "execution_count": 36,
     "metadata": {},
     "output_type": "execute_result"
    },
    {
     "data": {
      "image/png": "[encoded data removed]",
      "text/plain": [
       "<Figure size 432x288 with 1 Axes>"
      ]
     },
     "metadata": {
      "needs_background": "light"
     },
     "output_type": "display_data"
    }
   ],
   "source": [
    "plt.plot(Bs,times)"
   ]
  },
  {
   "cell_type": "markdown",
   "metadata": {},
   "source": [
    "## 79. 多層ニューラルネットワーク\n",
    "問題78のコードを改変し，バイアス項の導入や多層化など，ニューラルネットワークの形状を変更しながら，高性能なカテゴリ分類器を構築せよ．"
   ]
  },
  {
   "cell_type": "code",
   "execution_count": 37,
   "metadata": {},
   "outputs": [],
   "source": [
    "class MModel(nn.Module):\n",
    "    def __init__(self):\n",
    "        super(MModel, self).__init__()\n",
    "        self.lin1 = nn.Linear(300,60).double()\n",
    "        self.lin2 = nn.Linear(60,4).double()\n",
    "        self.losslayer = nn.CrossEntropyLoss()\n",
    "    \n",
    "    def predict(self,x):\n",
    "        x = F.relu(self.lin1(x))\n",
    "        x = F.relu(self.lin2(x))\n",
    "        return x\n",
    "    \n",
    "    def forward(self,x,y):\n",
    "        pred_y = self.predict(x)\n",
    "        loss = self.losslayer(pred_y, y)\n",
    "        return loss"
   ]
  },
  {
   "cell_type": "code",
   "execution_count": 38,
   "metadata": {},
   "outputs": [
    {
     "data": {
      "image/png": "[encoded data removed]",
      "text/plain": [
       "<Figure size 1008x432 with 2 Axes>"
      ]
     },
     "metadata": {
      "needs_background": "light"
     },
     "output_type": "display_data"
    }
   ],
   "source": [
    "model = MModel()\n",
    "optimizer = optim.SGD(model.parameters(), lr=0.01, momentum=0.9)\n",
    "trainLoader = DataLoader(mode=\"train\",shuffle=True, batch_size=50)\n",
    "validLoader = DataLoader(mode=\"valid\",shuffle=True, batch_size=len(valid_X))\n",
    "pre_loss = 1000000.\n",
    "count = 0\n",
    "pre_model = None\n",
    "record = {\"epoch\":[],\"loss\":[], \"train_acc\":[], \"valid_loss\":[], \"valid_acc\":[]}\n",
    "for i in range(10000):\n",
    "    trainLoader.reset()\n",
    "    for x,y in trainLoader():\n",
    "        loss = model(x, y)\n",
    "        optimizer.zero_grad()\n",
    "        loss.backward()\n",
    "        optimizer.step()\n",
    "    train_acc = accuracy(model,\"train\")\n",
    "    \n",
    "    validLoader.reset()\n",
    "    x,y = validLoader().__next__()\n",
    "    valid_loss = model(x, y)\n",
    "    valid_acc = accuracy(model,\"valid\")\n",
    "    if valid_loss < pre_loss:\n",
    "        pre_model = copy.deepcopy(model)\n",
    "        pre_loss = valid_loss\n",
    "    else: count += 1\n",
    "    clear_output()\n",
    "    disp(i, loss, train_acc, valid_loss, valid_acc)  \n",
    "    if count > 1000: break"
   ]
  },
  {
   "cell_type": "code",
   "execution_count": null,
   "metadata": {},
   "outputs": [],
   "source": []
  }
 ],
 "metadata": {
  "kernelspec": {
   "display_name": "Python 3",
   "language": "python",
   "name": "python3"
  },
  "language_info": {
   "codemirror_mode": {
    "name": "ipython",
    "version": 3
   },
   "file_extension": ".py",
   "mimetype": "text/x-python",
   "name": "python",
   "nbconvert_exporter": "python",
   "pygments_lexer": "ipython3",
   "version": "3.8.2"
  }
 },
 "nbformat": 4,
 "nbformat_minor": 4
}
