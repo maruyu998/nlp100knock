{
 "cells": [
  {
   "cell_type": "markdown",
   "metadata": {},
   "source": [
    "# 第7章: 単語ベクトル\n",
    "単語の意味を実ベクトルで表現する単語ベクトル（単語埋め込み）に関して，以下の処理を行うプログラムを作成せよ．"
   ]
  },
  {
   "cell_type": "markdown",
   "metadata": {},
   "source": [
    "## 60. 単語ベクトルの読み込みと表示\n",
    "Google Newsデータセット（約1,000億単語）での[学習済み単語ベクトル](https://drive.google.com/file/d/0B7XkCwpI5KDYNlNUTTlSS21pQmM/edit?usp=sharing)（300万単語・フレーズ，300次元）をダウンロードし，”United States”の単語ベクトルを表示せよ．ただし，”United States”は内部的には”United_States”と表現されていることに注意せよ．"
   ]
  },
  {
   "cell_type": "markdown",
   "metadata": {},
   "source": [
    "参考 https://radimrehurek.com/gensim/models/keyedvectors.html#how-to-obtain-word-vectors"
   ]
  },
  {
   "cell_type": "markdown",
   "metadata": {},
   "source": [
    "I tried to get from [google drive](https://drive.google.com/file/d/0B7XkCwpI5KDYNlNUTTlSS21pQmM/edit) but I couldn't so I fetch the file from amazon aws"
   ]
  },
  {
   "cell_type": "code",
   "execution_count": null,
   "metadata": {},
   "outputs": [],
   "source": [
    "!rm GoogleNews-vectors-negative300.bin.gz GoogleNews-vectors-negative300.bin\n",
    "!wget -q https://s3.amazonaws.com/dl4j-distribution/GoogleNews-vectors-negative300.bin.gz\n",
    "!gunzip GoogleNews-vectors-negative300.bin.gz"
   ]
  },
  {
   "cell_type": "code",
   "execution_count": 1,
   "metadata": {},
   "outputs": [
    {
     "name": "stderr",
     "output_type": "stream",
     "text": [
      "unable to import 'smart_open.gcs', disabling that module\n"
     ]
    }
   ],
   "source": [
    "from gensim.models import KeyedVectors\n",
    "w2v = KeyedVectors.load_word2vec_format('GoogleNews-vectors-negative300.bin', binary=True)"
   ]
  },
  {
   "cell_type": "markdown",
   "metadata": {},
   "source": [
    "#### methods\n",
    "https://radimrehurek.com/gensim/models/keyedvectors.html#gensim.models.keyedvectors.Word2VecKeyedVectors\n",
    "https://radimrehurek.com/gensim/models/keyedvectors.html#gensim.models.keyedvectors.WordEmbeddingsKeyedVectors\n",
    "\n",
    "- 使いそうなもの\n",
    "    - accuracy(questions(PATH), restrict_vocab=30000, most_similar=<function WordEmbeddingsKeyedVectors.most_similar>, case_insensitive=True)\n",
    "        - requires 4-tuples of words in path file\n",
    "    - evaluate_word_analogies(analogies(PATH), restrict_vocab=300000, case_insensitive=True, dummy4unknown=False)\n",
    "        - Compute performance of the model on an analogy test set.\n",
    "        - requires 4-tuples of words in path file\n",
    "    - evaluate_word_pairs(pairs(PATH), delimiter='\\t', restrict_vocab=300000, case_insensitive=True, dummy4unknown=False)\n",
    "        - Compute correlation of the model with human similarity judgments.\n",
    "        - requires 3-tuples of words in path file\n",
    "    - distance(w1, w2)\n",
    "    - get_vector(word)\n",
    "    - most_similar(positive=None, negative=None, topn=10, restrict_vocab=None, indexer=None)\n",
    "    - rank(entity1, entity2)\n",
    "    - similar_by_vector(vector, topn=10, restrict_vocab=None)\n",
    "    - similar_by_word(word, topn=10, restrict_vocab=None)\n",
    "    - similarity(w1, w2)"
   ]
  },
  {
   "cell_type": "code",
   "execution_count": 2,
   "metadata": {
    "scrolled": true
   },
   "outputs": [
    {
     "data": {
      "text/plain": [
       "array([-3.61328125e-02, -4.83398438e-02,  2.35351562e-01,  1.74804688e-01,\n",
       "       -1.46484375e-01, -7.42187500e-02, -1.01562500e-01, -7.71484375e-02,\n",
       "        1.09375000e-01, -5.71289062e-02, -1.48437500e-01, -6.00585938e-02,\n",
       "        1.74804688e-01, -7.71484375e-02,  2.58789062e-02, -7.66601562e-02,\n",
       "       -3.80859375e-02,  1.35742188e-01,  3.75976562e-02, -4.19921875e-02,\n",
       "       -3.56445312e-02,  5.34667969e-02,  3.68118286e-04, -1.66992188e-01,\n",
       "       -1.17187500e-01,  1.41601562e-01, -1.69921875e-01, -6.49414062e-02,\n",
       "       -1.66992188e-01,  1.00585938e-01,  1.15722656e-01, -2.18750000e-01,\n",
       "       -9.86328125e-02, -2.56347656e-02,  1.23046875e-01, -3.54003906e-02,\n",
       "       -1.58203125e-01, -1.60156250e-01,  2.94189453e-02,  8.15429688e-02,\n",
       "        6.88476562e-02,  1.87500000e-01,  6.49414062e-02,  1.15234375e-01,\n",
       "       -2.27050781e-02,  3.32031250e-01, -3.27148438e-02,  1.77734375e-01,\n",
       "       -2.08007812e-01,  4.54101562e-02, -1.23901367e-02,  1.19628906e-01,\n",
       "        7.44628906e-03, -9.03320312e-03,  1.14257812e-01,  1.69921875e-01,\n",
       "       -2.38281250e-01, -2.79541016e-02, -1.21093750e-01,  2.47802734e-02,\n",
       "        7.71484375e-02, -2.81982422e-02, -4.71191406e-02,  1.78222656e-02,\n",
       "       -1.23046875e-01, -5.32226562e-02,  2.68554688e-02, -3.11279297e-02,\n",
       "       -5.59082031e-02, -5.00488281e-02, -3.73535156e-02,  1.25976562e-01,\n",
       "        5.61523438e-02,  1.51367188e-01,  4.29687500e-02, -2.08007812e-01,\n",
       "       -4.78515625e-02,  2.78320312e-02,  1.81640625e-01,  2.20703125e-01,\n",
       "       -3.61328125e-02, -8.39843750e-02, -3.69548798e-05, -9.52148438e-02,\n",
       "       -1.25000000e-01, -1.95312500e-01, -1.50390625e-01, -4.15039062e-02,\n",
       "        1.31835938e-01,  1.17675781e-01,  1.91650391e-02,  5.51757812e-02,\n",
       "       -9.42382812e-02, -1.08886719e-01,  7.32421875e-02, -1.15234375e-01,\n",
       "        8.93554688e-02, -1.40625000e-01,  1.45507812e-01,  4.49218750e-02,\n",
       "       -1.10473633e-02, -1.62353516e-02,  4.05883789e-03,  3.75976562e-02,\n",
       "       -6.98242188e-02, -5.46875000e-02,  2.17285156e-02, -9.47265625e-02,\n",
       "        4.24804688e-02,  1.81884766e-02, -1.73339844e-02,  4.63867188e-02,\n",
       "       -1.42578125e-01,  1.99218750e-01,  1.10839844e-01,  2.58789062e-02,\n",
       "       -7.08007812e-02, -5.54199219e-02,  3.45703125e-01,  1.61132812e-01,\n",
       "       -2.44140625e-01, -2.59765625e-01, -9.71679688e-02,  8.00781250e-02,\n",
       "       -8.78906250e-02, -7.22656250e-02,  1.42578125e-01, -8.54492188e-02,\n",
       "       -3.18359375e-01,  8.30078125e-02,  6.34765625e-02,  1.64062500e-01,\n",
       "       -1.92382812e-01, -1.17675781e-01, -5.41992188e-02, -1.56250000e-01,\n",
       "       -1.21582031e-01, -4.95605469e-02,  1.20117188e-01, -3.83300781e-02,\n",
       "        5.51757812e-02, -8.97216797e-03,  4.32128906e-02,  6.93359375e-02,\n",
       "        8.93554688e-02,  2.53906250e-01,  1.65039062e-01,  1.64062500e-01,\n",
       "       -1.41601562e-01,  4.58984375e-02,  1.97265625e-01, -8.98437500e-02,\n",
       "        3.90625000e-02, -1.51367188e-01, -8.60595703e-03, -1.17675781e-01,\n",
       "       -1.97265625e-01, -1.12792969e-01,  1.29882812e-01,  1.96289062e-01,\n",
       "        1.56402588e-03,  3.93066406e-02,  2.17773438e-01, -1.43554688e-01,\n",
       "        6.03027344e-02, -1.35742188e-01,  1.16210938e-01, -1.59912109e-02,\n",
       "        2.79296875e-01,  1.46484375e-01, -1.19628906e-01,  1.76757812e-01,\n",
       "        1.28906250e-01, -1.49414062e-01,  6.93359375e-02, -1.72851562e-01,\n",
       "        9.22851562e-02,  1.33056641e-02, -2.00195312e-01, -9.76562500e-02,\n",
       "       -1.65039062e-01, -2.46093750e-01, -2.35595703e-02, -2.11914062e-01,\n",
       "        1.84570312e-01, -1.85546875e-02,  2.16796875e-01,  5.05371094e-02,\n",
       "        2.02636719e-02,  4.25781250e-01,  1.28906250e-01, -2.77099609e-02,\n",
       "        1.29882812e-01, -1.15722656e-01, -2.05078125e-02,  1.49414062e-01,\n",
       "        7.81250000e-03, -2.05078125e-01, -8.05664062e-02, -2.67578125e-01,\n",
       "       -2.29492188e-02, -8.20312500e-02,  8.64257812e-02,  7.61718750e-02,\n",
       "       -3.66210938e-02,  5.22460938e-02, -1.22070312e-01, -1.44042969e-02,\n",
       "       -2.69531250e-01,  8.44726562e-02, -2.52685547e-02, -2.96630859e-02,\n",
       "       -1.68945312e-01,  1.93359375e-01, -1.08398438e-01,  1.94091797e-02,\n",
       "       -1.80664062e-01,  1.93359375e-01, -7.08007812e-02,  5.85937500e-02,\n",
       "       -1.01562500e-01, -1.31835938e-01,  7.51953125e-02, -7.66601562e-02,\n",
       "        3.37219238e-03, -8.59375000e-02,  1.25000000e-01,  2.92968750e-02,\n",
       "        1.70898438e-01, -9.37500000e-02, -1.09375000e-01, -2.50244141e-02,\n",
       "        2.11914062e-01, -4.44335938e-02,  6.12792969e-02,  2.62451172e-02,\n",
       "       -1.77734375e-01,  1.23046875e-01, -7.42187500e-02, -1.67968750e-01,\n",
       "       -1.08886719e-01, -9.04083252e-04, -7.37304688e-02,  5.49316406e-02,\n",
       "        6.03027344e-02,  8.39843750e-02,  9.17968750e-02, -1.32812500e-01,\n",
       "        1.22070312e-01, -8.78906250e-03,  1.19140625e-01, -1.94335938e-01,\n",
       "       -6.64062500e-02, -2.07031250e-01,  7.37304688e-02,  8.93554688e-02,\n",
       "        1.81884766e-02, -1.20605469e-01, -2.61230469e-02,  2.67333984e-02,\n",
       "        7.76367188e-02, -8.30078125e-02,  6.78710938e-02, -3.54003906e-02,\n",
       "        3.10546875e-01, -2.42919922e-02, -1.41601562e-01, -2.08007812e-01,\n",
       "       -4.57763672e-03, -6.54296875e-02, -4.95605469e-02,  2.22656250e-01,\n",
       "        1.53320312e-01, -1.38671875e-01, -5.24902344e-02,  4.24804688e-02,\n",
       "       -2.38281250e-01,  1.56250000e-01,  5.83648682e-04, -1.20605469e-01,\n",
       "       -9.22851562e-02, -4.44335938e-02,  3.61328125e-02, -1.86767578e-02,\n",
       "       -8.25195312e-02, -8.25195312e-02, -4.05273438e-02,  1.19018555e-02,\n",
       "        1.69921875e-01, -2.80761719e-02,  3.03649902e-03,  9.32617188e-02,\n",
       "       -8.49609375e-02,  1.57470703e-02,  7.03125000e-02,  1.62353516e-02,\n",
       "       -2.27050781e-02,  3.51562500e-02,  2.47070312e-01, -2.67333984e-02],\n",
       "      dtype=float32)"
      ]
     },
     "execution_count": 2,
     "metadata": {},
     "output_type": "execute_result"
    }
   ],
   "source": [
    "w2v.get_vector(\"United_States\")"
   ]
  },
  {
   "cell_type": "markdown",
   "metadata": {},
   "source": [
    "## 61. 単語の類似度\n",
    "“United States”と”U.S.”のコサイン類似度を計算せよ．"
   ]
  },
  {
   "cell_type": "code",
   "execution_count": 3,
   "metadata": {},
   "outputs": [
    {
     "data": {
      "text/plain": [
       "0.73107743"
      ]
     },
     "execution_count": 3,
     "metadata": {},
     "output_type": "execute_result"
    }
   ],
   "source": [
    "w2v.similarity(\"U.S.\",\"United_States\")"
   ]
  },
  {
   "cell_type": "markdown",
   "metadata": {},
   "source": [
    "## 62. 類似度の高い単語10件\n",
    "“United States”とコサイン類似度が高い10語と，その類似度を出力せよ．"
   ]
  },
  {
   "cell_type": "code",
   "execution_count": 4,
   "metadata": {},
   "outputs": [
    {
     "data": {
      "text/plain": [
       "[('Unites_States', 0.7877248525619507),\n",
       " ('Untied_States', 0.7541370391845703),\n",
       " ('United_Sates', 0.74007248878479),\n",
       " ('U.S.', 0.7310774326324463),\n",
       " ('theUnited_States', 0.6404393911361694),\n",
       " ('America', 0.6178410053253174),\n",
       " ('UnitedStates', 0.6167312264442444),\n",
       " ('Europe', 0.6132988929748535),\n",
       " ('countries', 0.6044804453849792),\n",
       " ('Canada', 0.6019070148468018)]"
      ]
     },
     "execution_count": 4,
     "metadata": {},
     "output_type": "execute_result"
    }
   ],
   "source": [
    "w2v.similar_by_word(\"United_States\",topn=10)"
   ]
  },
  {
   "cell_type": "markdown",
   "metadata": {},
   "source": [
    "## 63. 加法構成性によるアナロジー\n",
    "“Spain”の単語ベクトルから”Madrid”のベクトルを引き，”Athens”のベクトルを足したベクトルを計算し，そのベクトルと類似度の高い10語とその類似度を出力せよ．"
   ]
  },
  {
   "cell_type": "code",
   "execution_count": 5,
   "metadata": {},
   "outputs": [
    {
     "data": {
      "text/plain": [
       "[('Greece', 0.6898481249809265),\n",
       " ('Aristeidis_Grigoriadis', 0.5606848001480103),\n",
       " ('Ioannis_Drymonakos', 0.5552908778190613),\n",
       " ('Greeks', 0.545068621635437),\n",
       " ('Ioannis_Christou', 0.5400862693786621),\n",
       " ('Hrysopiyi_Devetzi', 0.5248444676399231),\n",
       " ('Heraklio', 0.5207759737968445),\n",
       " ('Athens_Greece', 0.516880989074707),\n",
       " ('Lithuania', 0.5166866183280945),\n",
       " ('Iraklion', 0.5146791934967041)]"
      ]
     },
     "execution_count": 5,
     "metadata": {},
     "output_type": "execute_result"
    }
   ],
   "source": [
    "w2v.most_similar(positive=['Spain', 'Athens'], negative=['Madrid'], topn=10)"
   ]
  },
  {
   "cell_type": "markdown",
   "metadata": {},
   "source": [
    "## 64. アナロジーデータでの実験\n",
    "[単語アナロジーの評価データ](http://download.tensorflow.org/data/questions-words.txt)をダウンロードし，vec(2列目の単語) - vec(1列目の単語) + vec(3列目の単語)を計算し，そのベクトルと類似度が最も高い単語と，その類似度を求めよ．求めた単語と類似度は，各事例の末尾に追記せよ．"
   ]
  },
  {
   "cell_type": "code",
   "execution_count": 7,
   "metadata": {},
   "outputs": [],
   "source": [
    "!wget -q http://download.tensorflow.org/data/questions-words.txt"
   ]
  },
  {
   "cell_type": "code",
   "execution_count": 8,
   "metadata": {},
   "outputs": [],
   "source": [
    "with open('questions-words.txt') as f, open('questions-words-write.txt','w') as fw:\n",
    "    for line in f:\n",
    "        if line[:2]==\": \": fw.write(line); continue\n",
    "        A, B, C, D = line.rstrip().split(\" \")\n",
    "        top, similarity = w2v.most_similar(positive=[B, C], negative=[A], topn=1)[0]\n",
    "        fw.write(\"{} {} {} {} {} {}\\n\".format(A,B,C,D,top,similarity))"
   ]
  },
  {
   "cell_type": "markdown",
   "metadata": {},
   "source": [
    "## 65. アナロジータスクでの正解率\n",
    "64の実行結果を用い，意味的アナロジー（semantic analogy）と文法的アナロジー（syntactic analogy）の正解率を測定せよ．"
   ]
  },
  {
   "cell_type": "code",
   "execution_count": 9,
   "metadata": {},
   "outputs": [
    {
     "name": "stdout",
     "output_type": "stream",
     "text": [
      "0.7469648230777213\n"
     ]
    }
   ],
   "source": [
    "print(w2v.evaluate_word_analogies('questions-words.txt',case_insensitive=False)[0])"
   ]
  },
  {
   "cell_type": "code",
   "execution_count": 11,
   "metadata": {},
   "outputs": [
    {
     "name": "stdout",
     "output_type": "stream",
     "text": [
      "0.735389, 14382 / 19557\r"
     ]
    }
   ],
   "source": [
    "accurate = 0\n",
    "with open('questions-words-write.txt') as f:\n",
    "    for i, line in enumerate(f):\n",
    "        if line[:2]==\": \": continue\n",
    "        A, B, C, D, E, sim = line.rstrip().split(\" \")\n",
    "        if D == E: accurate += 1\n",
    "        print(\"{:6f}, {} / {}\".format(accurate/i,accurate,i),end=\"\\r\")"
   ]
  },
  {
   "cell_type": "markdown",
   "metadata": {},
   "source": [
    "## 66. WordSimilarity-353での評価\n",
    "[The WordSimilarity-353 Test Collection](http://www.gabrilovich.com/resources/data/wordsim353/wordsim353.html)の評価データをダウンロードし，単語ベクトルにより計算される類似度のランキングと，人間の類似度判定のランキングの間のスピアマン相関係数を計算せよ．"
   ]
  },
  {
   "cell_type": "markdown",
   "metadata": {},
   "source": [
    "***identical numbers in the two sets do not necessarily correspond to the same individual."
   ]
  },
  {
   "cell_type": "code",
   "execution_count": 12,
   "metadata": {},
   "outputs": [
    {
     "name": "stdout",
     "output_type": "stream",
     "text": [
      "rm: cannot remove 'wordsim353.zip': No such file or directory\n",
      "Archive:  wordsim353.zip\n",
      "  inflating: combined.csv            \n",
      "  inflating: set1.csv                \n",
      "  inflating: set2.csv                \n",
      "  inflating: combined.tab            \n",
      "  inflating: set1.tab                \n",
      "  inflating: set2.tab                \n",
      "  inflating: instructions.txt        \n"
     ]
    }
   ],
   "source": [
    "!rm wordsim353.zip\n",
    "!wget -q http://www.gabrilovich.com/resources/data/wordsim353/wordsim353.zip\n",
    "!unzip -n wordsim353.zip"
   ]
  },
  {
   "cell_type": "code",
   "execution_count": 3,
   "metadata": {},
   "outputs": [],
   "source": [
    "import pandas as pd"
   ]
  },
  {
   "cell_type": "code",
   "execution_count": 7,
   "metadata": {},
   "outputs": [],
   "source": [
    "def tmp(fname, wfname):\n",
    "    df = pd.read_csv(fname)\n",
    "    df['w2v_r'] = df.apply(lambda w: w2v.rank(w['Word 1'],w['Word 2']), axis=1)\n",
    "    df['w2v_l'] = df.apply(lambda w: w2v.rank(w['Word 2'],w['Word 1']), axis=1)\n",
    "    df.to_csv(wfname,index=False)\n",
    "tmp('set1.csv','set1_w2v.csv')\n",
    "tmp('set2.csv','set2_w2v.csv')"
   ]
  },
  {
   "cell_type": "markdown",
   "metadata": {},
   "source": [
    "$\\displaystyle piason:r_{xy} =\\frac{S_{xy}}{\\sqrt{S_xS_Y}}=\\frac{\\frac{1}{n}\\sum_i{(x_i-\\bar{x})(y_i-\\bar{y})}}{\\sqrt{\\frac{1}{n}\\sum_i{(x_i-\\bar{x})^2}\\frac{1}{n}\\sum_i{(y_i-\\bar{y})^2}}}=\\frac{\\frac{1}{n}\\sum_i{(x_iy_i-\\bar{x}\\bar{y})}}{\\sqrt{\\frac{1}{n}\\sum_i{(x_i^2-\\bar{x}^2)}\\frac{1}{n}\\sum_i{(y_i^2-\\bar{y}^2)}}}\n",
    "=\\frac{\\sum_i\\frac{x_iy_i}{n}-\\sum_i\\frac{x_i}{n}\\sum_i\\frac{y_i}{n}}{\\sqrt{(\\sum_i\\frac{x_i^2}{n}-(\\sum_i\\frac{x_i}{n})^2)(\\sum_i\\frac{y_i^2}{n}-(\\sum_i\\frac{y_i}{n})^2)}}$\n",
    "\n",
    "\n",
    "ここで、$\\sum_i{x_i}=\\sum_i{y_i}=\\frac{n(n+1)}{2}, \\sum_i{x_i^2}=\\sum_i{y_i^2}=\\frac{n(n+1)(2n+2)}{6}$とすれば、\n",
    "\n",
    "\n",
    "$\\displaystyle spiaman:r_{xy}=\\frac{\\sum_i\\frac{x_iy_i}{n}-\\frac{(n+1)^2}{4}}{\\frac{(n+1)(2n+1)}{6}-\\frac{(n+1)^2}{4}}$\n",
    "\n",
    "$\\displaystyle=\\frac{12\\sum_i{x_iy_i}-3n(n+1)^2}{n(n^2-1)}=\\frac{12\\sum_i{x_iy_i}-(3n(n+1)^2-n(n^2-1)+n(n^2-1))}{n(n^2-1)}=\\frac{12\\sum_i{x_iy_i}-(2n(n+1)(2n+1)+n(n^2-1))}{n(n^2-1)}$\n",
    "\n",
    "$\\displaystyle=1+\\frac{12\\sum_i{x_iy_i}-2n(n+1)(2n+1)}{n(n^2-1)}=1+\\frac{12\\sum_i{x_iy_i}-6\\sum_i{x_i^2}-6\\sum_i{y_i^2}}{n(n^2-1)}=1-\\frac{6\\sum_i{(x_i-y_i)^2}}{n(n^2-1)}$"
   ]
  },
  {
   "cell_type": "markdown",
   "metadata": {},
   "source": [
    "※ スピアマン相関係数は比較する際に1元的な順位へと置き換えるべき($\\sum{x_i}=\\frac{n(n+1)}{2}$等の前提を利用するため)"
   ]
  },
  {
   "cell_type": "code",
   "execution_count": 4,
   "metadata": {},
   "outputs": [],
   "source": [
    "wordsim_1 = pd.read_csv('set1_w2v.csv')\n",
    "wordsim_2 = pd.read_csv('set2_w2v.csv')\n",
    "pd.set_option('display.max_columns', 30)"
   ]
  },
  {
   "cell_type": "code",
   "execution_count": 5,
   "metadata": {},
   "outputs": [],
   "source": [
    "import math\n",
    "def trim(df):\n",
    "    return df.loc[:,('0'<=df.columns.str[0]) & (df.columns.str[0]<='9')]\n",
    "def calc(series,df,f):\n",
    "    return pd.Series([f(series,df['w2v_r']),f(series,df['w2v_l']),f(series,(df['w2v_r']+df['w2v_l'])/2)],index=['right','left','mean'])\n",
    "def Spearman(x,y):\n",
    "    if len(x)!=len(y): raise Exception(\"size of x and y must be same.\")\n",
    "    return 1-sum([(xi-yi)**2 for xi,yi in zip(x,y)])*6/len(x)/(len(x)^2-1)\n",
    "def Pearson(x,y):\n",
    "    if len(x)!=len(y): raise Exception(\"size of x and y must be same.\")\n",
    "    xb = sum(x)/len(x); yb = sum(y)/len(y); xxb = sum(x**2)/len(x); yyb = sum(y**2)/len(y)\n",
    "    return (sum([xi*yi for xi,yi in zip(x,y)])/len(x)-xb*yb) / (math.sqrt((xxb-xb**2)*(yyb-yb**2)))"
   ]
  },
  {
   "cell_type": "markdown",
   "metadata": {},
   "source": [
    "+ スピアマンで一応"
   ]
  },
  {
   "cell_type": "code",
   "execution_count": 6,
   "metadata": {},
   "outputs": [
    {
     "data": {
      "text/html": [
       "<div>\n",
       "<style scoped>\n",
       "    .dataframe tbody tr th:only-of-type {\n",
       "        vertical-align: middle;\n",
       "    }\n",
       "\n",
       "    .dataframe tbody tr th {\n",
       "        vertical-align: top;\n",
       "    }\n",
       "\n",
       "    .dataframe thead th {\n",
       "        text-align: right;\n",
       "    }\n",
       "</style>\n",
       "<table border=\"1\" class=\"dataframe\">\n",
       "  <thead>\n",
       "    <tr style=\"text-align: right;\">\n",
       "      <th></th>\n",
       "      <th>1</th>\n",
       "      <th>2</th>\n",
       "      <th>3</th>\n",
       "      <th>4</th>\n",
       "      <th>5</th>\n",
       "      <th>6</th>\n",
       "      <th>7</th>\n",
       "      <th>8</th>\n",
       "      <th>9</th>\n",
       "      <th>10</th>\n",
       "      <th>11</th>\n",
       "      <th>12</th>\n",
       "      <th>13</th>\n",
       "    </tr>\n",
       "  </thead>\n",
       "  <tbody>\n",
       "    <tr>\n",
       "      <th>right</th>\n",
       "      <td>-1.687550e+10</td>\n",
       "      <td>-1.687552e+10</td>\n",
       "      <td>-1.687555e+10</td>\n",
       "      <td>-1.687555e+10</td>\n",
       "      <td>-1.687554e+10</td>\n",
       "      <td>-1.687554e+10</td>\n",
       "      <td>-1.687557e+10</td>\n",
       "      <td>-1.687557e+10</td>\n",
       "      <td>-1.687556e+10</td>\n",
       "      <td>-1.687557e+10</td>\n",
       "      <td>-1.687553e+10</td>\n",
       "      <td>-1.687557e+10</td>\n",
       "      <td>-1.687557e+10</td>\n",
       "    </tr>\n",
       "    <tr>\n",
       "      <th>left</th>\n",
       "      <td>-1.734218e+10</td>\n",
       "      <td>-1.734220e+10</td>\n",
       "      <td>-1.734222e+10</td>\n",
       "      <td>-1.734222e+10</td>\n",
       "      <td>-1.734222e+10</td>\n",
       "      <td>-1.734222e+10</td>\n",
       "      <td>-1.734225e+10</td>\n",
       "      <td>-1.734225e+10</td>\n",
       "      <td>-1.734224e+10</td>\n",
       "      <td>-1.734224e+10</td>\n",
       "      <td>-1.734220e+10</td>\n",
       "      <td>-1.734225e+10</td>\n",
       "      <td>-1.734224e+10</td>\n",
       "    </tr>\n",
       "    <tr>\n",
       "      <th>mean</th>\n",
       "      <td>-1.684660e+10</td>\n",
       "      <td>-1.684661e+10</td>\n",
       "      <td>-1.684664e+10</td>\n",
       "      <td>-1.684664e+10</td>\n",
       "      <td>-1.684663e+10</td>\n",
       "      <td>-1.684663e+10</td>\n",
       "      <td>-1.684667e+10</td>\n",
       "      <td>-1.684666e+10</td>\n",
       "      <td>-1.684665e+10</td>\n",
       "      <td>-1.684666e+10</td>\n",
       "      <td>-1.684662e+10</td>\n",
       "      <td>-1.684667e+10</td>\n",
       "      <td>-1.684666e+10</td>\n",
       "    </tr>\n",
       "  </tbody>\n",
       "</table>\n",
       "</div>"
      ],
      "text/plain": [
       "                  1             2             3             4             5  \\\n",
       "right -1.687550e+10 -1.687552e+10 -1.687555e+10 -1.687555e+10 -1.687554e+10   \n",
       "left  -1.734218e+10 -1.734220e+10 -1.734222e+10 -1.734222e+10 -1.734222e+10   \n",
       "mean  -1.684660e+10 -1.684661e+10 -1.684664e+10 -1.684664e+10 -1.684663e+10   \n",
       "\n",
       "                  6             7             8             9            10  \\\n",
       "right -1.687554e+10 -1.687557e+10 -1.687557e+10 -1.687556e+10 -1.687557e+10   \n",
       "left  -1.734222e+10 -1.734225e+10 -1.734225e+10 -1.734224e+10 -1.734224e+10   \n",
       "mean  -1.684663e+10 -1.684667e+10 -1.684666e+10 -1.684665e+10 -1.684666e+10   \n",
       "\n",
       "                 11            12            13  \n",
       "right -1.687553e+10 -1.687557e+10 -1.687557e+10  \n",
       "left  -1.734220e+10 -1.734225e+10 -1.734224e+10  \n",
       "mean  -1.684662e+10 -1.684667e+10 -1.684666e+10  "
      ]
     },
     "execution_count": 6,
     "metadata": {},
     "output_type": "execute_result"
    }
   ],
   "source": [
    "trim(wordsim_1).apply(lambda x:calc(x,wordsim_1,Spearman),result_type=\"expand\")"
   ]
  },
  {
   "cell_type": "code",
   "execution_count": 7,
   "metadata": {},
   "outputs": [
    {
     "data": {
      "text/html": [
       "<div>\n",
       "<style scoped>\n",
       "    .dataframe tbody tr th:only-of-type {\n",
       "        vertical-align: middle;\n",
       "    }\n",
       "\n",
       "    .dataframe tbody tr th {\n",
       "        vertical-align: top;\n",
       "    }\n",
       "\n",
       "    .dataframe thead th {\n",
       "        text-align: right;\n",
       "    }\n",
       "</style>\n",
       "<table border=\"1\" class=\"dataframe\">\n",
       "  <thead>\n",
       "    <tr style=\"text-align: right;\">\n",
       "      <th></th>\n",
       "      <th>1</th>\n",
       "      <th>2</th>\n",
       "      <th>3</th>\n",
       "      <th>4</th>\n",
       "      <th>5</th>\n",
       "      <th>6</th>\n",
       "      <th>7</th>\n",
       "      <th>8</th>\n",
       "      <th>9</th>\n",
       "      <th>10</th>\n",
       "      <th>11</th>\n",
       "      <th>12</th>\n",
       "      <th>13</th>\n",
       "      <th>14</th>\n",
       "      <th>15</th>\n",
       "      <th>16</th>\n",
       "    </tr>\n",
       "  </thead>\n",
       "  <tbody>\n",
       "    <tr>\n",
       "      <th>right</th>\n",
       "      <td>-9.959273e+09</td>\n",
       "      <td>-9.959317e+09</td>\n",
       "      <td>-9.959286e+09</td>\n",
       "      <td>-9.959312e+09</td>\n",
       "      <td>-9.959270e+09</td>\n",
       "      <td>-9.959288e+09</td>\n",
       "      <td>-9.959315e+09</td>\n",
       "      <td>-9.959292e+09</td>\n",
       "      <td>-9.959316e+09</td>\n",
       "      <td>-9.959298e+09</td>\n",
       "      <td>-9.959302e+09</td>\n",
       "      <td>-9.959297e+09</td>\n",
       "      <td>-9.959293e+09</td>\n",
       "      <td>-9.959310e+09</td>\n",
       "      <td>-9.959272e+09</td>\n",
       "      <td>-9.959299e+09</td>\n",
       "    </tr>\n",
       "    <tr>\n",
       "      <th>left</th>\n",
       "      <td>-1.018277e+10</td>\n",
       "      <td>-1.018282e+10</td>\n",
       "      <td>-1.018278e+10</td>\n",
       "      <td>-1.018281e+10</td>\n",
       "      <td>-1.018276e+10</td>\n",
       "      <td>-1.018278e+10</td>\n",
       "      <td>-1.018281e+10</td>\n",
       "      <td>-1.018279e+10</td>\n",
       "      <td>-1.018281e+10</td>\n",
       "      <td>-1.018280e+10</td>\n",
       "      <td>-1.018280e+10</td>\n",
       "      <td>-1.018279e+10</td>\n",
       "      <td>-1.018279e+10</td>\n",
       "      <td>-1.018281e+10</td>\n",
       "      <td>-1.018277e+10</td>\n",
       "      <td>-1.018280e+10</td>\n",
       "    </tr>\n",
       "    <tr>\n",
       "      <th>mean</th>\n",
       "      <td>-9.756405e+09</td>\n",
       "      <td>-9.756449e+09</td>\n",
       "      <td>-9.756419e+09</td>\n",
       "      <td>-9.756444e+09</td>\n",
       "      <td>-9.756400e+09</td>\n",
       "      <td>-9.756419e+09</td>\n",
       "      <td>-9.756447e+09</td>\n",
       "      <td>-9.756424e+09</td>\n",
       "      <td>-9.756447e+09</td>\n",
       "      <td>-9.756430e+09</td>\n",
       "      <td>-9.756434e+09</td>\n",
       "      <td>-9.756429e+09</td>\n",
       "      <td>-9.756426e+09</td>\n",
       "      <td>-9.756441e+09</td>\n",
       "      <td>-9.756403e+09</td>\n",
       "      <td>-9.756430e+09</td>\n",
       "    </tr>\n",
       "  </tbody>\n",
       "</table>\n",
       "</div>"
      ],
      "text/plain": [
       "                  1             2             3             4             5  \\\n",
       "right -9.959273e+09 -9.959317e+09 -9.959286e+09 -9.959312e+09 -9.959270e+09   \n",
       "left  -1.018277e+10 -1.018282e+10 -1.018278e+10 -1.018281e+10 -1.018276e+10   \n",
       "mean  -9.756405e+09 -9.756449e+09 -9.756419e+09 -9.756444e+09 -9.756400e+09   \n",
       "\n",
       "                  6             7             8             9            10  \\\n",
       "right -9.959288e+09 -9.959315e+09 -9.959292e+09 -9.959316e+09 -9.959298e+09   \n",
       "left  -1.018278e+10 -1.018281e+10 -1.018279e+10 -1.018281e+10 -1.018280e+10   \n",
       "mean  -9.756419e+09 -9.756447e+09 -9.756424e+09 -9.756447e+09 -9.756430e+09   \n",
       "\n",
       "                 11            12            13            14            15  \\\n",
       "right -9.959302e+09 -9.959297e+09 -9.959293e+09 -9.959310e+09 -9.959272e+09   \n",
       "left  -1.018280e+10 -1.018279e+10 -1.018279e+10 -1.018281e+10 -1.018277e+10   \n",
       "mean  -9.756434e+09 -9.756429e+09 -9.756426e+09 -9.756441e+09 -9.756403e+09   \n",
       "\n",
       "                 16  \n",
       "right -9.959299e+09  \n",
       "left  -1.018280e+10  \n",
       "mean  -9.756430e+09  "
      ]
     },
     "execution_count": 7,
     "metadata": {},
     "output_type": "execute_result"
    }
   ],
   "source": [
    "trim(wordsim_2).apply(lambda x:calc(x,wordsim_2,Spearman),result_type=\"expand\")"
   ]
  },
  {
   "cell_type": "markdown",
   "metadata": {},
   "source": [
    "+ ピアソン"
   ]
  },
  {
   "cell_type": "code",
   "execution_count": 8,
   "metadata": {},
   "outputs": [
    {
     "data": {
      "text/html": [
       "<div>\n",
       "<style scoped>\n",
       "    .dataframe tbody tr th:only-of-type {\n",
       "        vertical-align: middle;\n",
       "    }\n",
       "\n",
       "    .dataframe tbody tr th {\n",
       "        vertical-align: top;\n",
       "    }\n",
       "\n",
       "    .dataframe thead th {\n",
       "        text-align: right;\n",
       "    }\n",
       "</style>\n",
       "<table border=\"1\" class=\"dataframe\">\n",
       "  <thead>\n",
       "    <tr style=\"text-align: right;\">\n",
       "      <th></th>\n",
       "      <th>1</th>\n",
       "      <th>2</th>\n",
       "      <th>3</th>\n",
       "      <th>4</th>\n",
       "      <th>5</th>\n",
       "      <th>6</th>\n",
       "      <th>7</th>\n",
       "      <th>8</th>\n",
       "      <th>9</th>\n",
       "      <th>10</th>\n",
       "      <th>11</th>\n",
       "      <th>12</th>\n",
       "      <th>13</th>\n",
       "    </tr>\n",
       "  </thead>\n",
       "  <tbody>\n",
       "    <tr>\n",
       "      <th>right</th>\n",
       "      <td>-0.562715</td>\n",
       "      <td>-0.475703</td>\n",
       "      <td>-0.620895</td>\n",
       "      <td>-0.554495</td>\n",
       "      <td>-0.353812</td>\n",
       "      <td>-0.678381</td>\n",
       "      <td>-0.683313</td>\n",
       "      <td>-0.620428</td>\n",
       "      <td>-0.634369</td>\n",
       "      <td>-0.544170</td>\n",
       "      <td>-0.437468</td>\n",
       "      <td>-0.547112</td>\n",
       "      <td>-0.603471</td>\n",
       "    </tr>\n",
       "    <tr>\n",
       "      <th>left</th>\n",
       "      <td>-0.558293</td>\n",
       "      <td>-0.464705</td>\n",
       "      <td>-0.617768</td>\n",
       "      <td>-0.523332</td>\n",
       "      <td>-0.366412</td>\n",
       "      <td>-0.637644</td>\n",
       "      <td>-0.666215</td>\n",
       "      <td>-0.623811</td>\n",
       "      <td>-0.631209</td>\n",
       "      <td>-0.542827</td>\n",
       "      <td>-0.408290</td>\n",
       "      <td>-0.544441</td>\n",
       "      <td>-0.595173</td>\n",
       "    </tr>\n",
       "    <tr>\n",
       "      <th>mean</th>\n",
       "      <td>-0.566071</td>\n",
       "      <td>-0.474854</td>\n",
       "      <td>-0.625487</td>\n",
       "      <td>-0.544192</td>\n",
       "      <td>-0.363731</td>\n",
       "      <td>-0.664450</td>\n",
       "      <td>-0.681433</td>\n",
       "      <td>-0.628321</td>\n",
       "      <td>-0.639079</td>\n",
       "      <td>-0.548905</td>\n",
       "      <td>-0.427008</td>\n",
       "      <td>-0.551202</td>\n",
       "      <td>-0.605265</td>\n",
       "    </tr>\n",
       "  </tbody>\n",
       "</table>\n",
       "</div>"
      ],
      "text/plain": [
       "              1         2         3         4         5         6         7  \\\n",
       "right -0.562715 -0.475703 -0.620895 -0.554495 -0.353812 -0.678381 -0.683313   \n",
       "left  -0.558293 -0.464705 -0.617768 -0.523332 -0.366412 -0.637644 -0.666215   \n",
       "mean  -0.566071 -0.474854 -0.625487 -0.544192 -0.363731 -0.664450 -0.681433   \n",
       "\n",
       "              8         9        10        11        12        13  \n",
       "right -0.620428 -0.634369 -0.544170 -0.437468 -0.547112 -0.603471  \n",
       "left  -0.623811 -0.631209 -0.542827 -0.408290 -0.544441 -0.595173  \n",
       "mean  -0.628321 -0.639079 -0.548905 -0.427008 -0.551202 -0.605265  "
      ]
     },
     "execution_count": 8,
     "metadata": {},
     "output_type": "execute_result"
    }
   ],
   "source": [
    "trim(wordsim_1).apply(lambda x:calc(x,wordsim_1,Pearson),result_type=\"expand\")"
   ]
  },
  {
   "cell_type": "code",
   "execution_count": 9,
   "metadata": {},
   "outputs": [
    {
     "data": {
      "text/html": [
       "<div>\n",
       "<style scoped>\n",
       "    .dataframe tbody tr th:only-of-type {\n",
       "        vertical-align: middle;\n",
       "    }\n",
       "\n",
       "    .dataframe tbody tr th {\n",
       "        vertical-align: top;\n",
       "    }\n",
       "\n",
       "    .dataframe thead th {\n",
       "        text-align: right;\n",
       "    }\n",
       "</style>\n",
       "<table border=\"1\" class=\"dataframe\">\n",
       "  <thead>\n",
       "    <tr style=\"text-align: right;\">\n",
       "      <th></th>\n",
       "      <th>1</th>\n",
       "      <th>2</th>\n",
       "      <th>3</th>\n",
       "      <th>4</th>\n",
       "      <th>5</th>\n",
       "      <th>6</th>\n",
       "      <th>7</th>\n",
       "      <th>8</th>\n",
       "      <th>9</th>\n",
       "      <th>10</th>\n",
       "      <th>11</th>\n",
       "      <th>12</th>\n",
       "      <th>13</th>\n",
       "      <th>14</th>\n",
       "      <th>15</th>\n",
       "      <th>16</th>\n",
       "    </tr>\n",
       "  </thead>\n",
       "  <tbody>\n",
       "    <tr>\n",
       "      <th>right</th>\n",
       "      <td>-0.325669</td>\n",
       "      <td>-0.399663</td>\n",
       "      <td>-0.313496</td>\n",
       "      <td>-0.285563</td>\n",
       "      <td>-0.203311</td>\n",
       "      <td>-0.364148</td>\n",
       "      <td>-0.290892</td>\n",
       "      <td>-0.376048</td>\n",
       "      <td>-0.352637</td>\n",
       "      <td>-0.323906</td>\n",
       "      <td>-0.306278</td>\n",
       "      <td>-0.394912</td>\n",
       "      <td>-0.338288</td>\n",
       "      <td>-0.182783</td>\n",
       "      <td>-0.394668</td>\n",
       "      <td>-0.359312</td>\n",
       "    </tr>\n",
       "    <tr>\n",
       "      <th>left</th>\n",
       "      <td>-0.383933</td>\n",
       "      <td>-0.440455</td>\n",
       "      <td>-0.369470</td>\n",
       "      <td>-0.313555</td>\n",
       "      <td>-0.187152</td>\n",
       "      <td>-0.395339</td>\n",
       "      <td>-0.324992</td>\n",
       "      <td>-0.420095</td>\n",
       "      <td>-0.381215</td>\n",
       "      <td>-0.368651</td>\n",
       "      <td>-0.333927</td>\n",
       "      <td>-0.418002</td>\n",
       "      <td>-0.389149</td>\n",
       "      <td>-0.199978</td>\n",
       "      <td>-0.413949</td>\n",
       "      <td>-0.384440</td>\n",
       "    </tr>\n",
       "    <tr>\n",
       "      <th>mean</th>\n",
       "      <td>-0.362560</td>\n",
       "      <td>-0.429134</td>\n",
       "      <td>-0.348950</td>\n",
       "      <td>-0.306026</td>\n",
       "      <td>-0.199311</td>\n",
       "      <td>-0.387925</td>\n",
       "      <td>-0.314611</td>\n",
       "      <td>-0.406693</td>\n",
       "      <td>-0.374825</td>\n",
       "      <td>-0.353803</td>\n",
       "      <td>-0.327004</td>\n",
       "      <td>-0.415174</td>\n",
       "      <td>-0.371637</td>\n",
       "      <td>-0.195509</td>\n",
       "      <td>-0.412964</td>\n",
       "      <td>-0.379867</td>\n",
       "    </tr>\n",
       "  </tbody>\n",
       "</table>\n",
       "</div>"
      ],
      "text/plain": [
       "              1         2         3         4         5         6         7  \\\n",
       "right -0.325669 -0.399663 -0.313496 -0.285563 -0.203311 -0.364148 -0.290892   \n",
       "left  -0.383933 -0.440455 -0.369470 -0.313555 -0.187152 -0.395339 -0.324992   \n",
       "mean  -0.362560 -0.429134 -0.348950 -0.306026 -0.199311 -0.387925 -0.314611   \n",
       "\n",
       "              8         9        10        11        12        13        14  \\\n",
       "right -0.376048 -0.352637 -0.323906 -0.306278 -0.394912 -0.338288 -0.182783   \n",
       "left  -0.420095 -0.381215 -0.368651 -0.333927 -0.418002 -0.389149 -0.199978   \n",
       "mean  -0.406693 -0.374825 -0.353803 -0.327004 -0.415174 -0.371637 -0.195509   \n",
       "\n",
       "             15        16  \n",
       "right -0.394668 -0.359312  \n",
       "left  -0.413949 -0.384440  \n",
       "mean  -0.412964 -0.379867  "
      ]
     },
     "execution_count": 9,
     "metadata": {},
     "output_type": "execute_result"
    }
   ],
   "source": [
    "trim(wordsim_2).apply(lambda x:calc(x,wordsim_2,Pearson),result_type=\"expand\")"
   ]
  },
  {
   "cell_type": "markdown",
   "metadata": {},
   "source": [
    "## 67. k-meansクラスタリング\n",
    "国名に関する単語ベクトルを抽出し，k-meansクラスタリングをクラスタ数k=5として実行せよ．"
   ]
  },
  {
   "cell_type": "markdown",
   "metadata": {},
   "source": [
    "参考 https://qiita.com/kujirahand/items/bdc574102148c7f1f041"
   ]
  },
  {
   "cell_type": "code",
   "execution_count": 10,
   "metadata": {},
   "outputs": [
    {
     "name": "stdout",
     "output_type": "stream",
     "text": [
      "{'Sweden', 'Norway', 'Greece', 'Cuba', 'Germany', 'France', 'Egypt', 'Iran', 'Australia', 'England', 'China', 'Afghanistan', 'Russia', 'Switzerland', 'Italy', 'Iraq', 'Spain', 'Thailand', 'Finland', 'Japan', 'Canada', 'Vietnam', 'Pakistan'}\n"
     ]
    }
   ],
   "source": [
    "countries = set()\n",
    "flg = False\n",
    "with open('questions-words.txt') as f:\n",
    "    for line in f:\n",
    "        line = line.rstrip()\n",
    "        if line[:2] == \": \":\n",
    "            if line[2:] == \"capital-common-countries\": flg=True\n",
    "            else: flg=False\n",
    "            continue\n",
    "        if not flg: continue\n",
    "        countries.add(line.split()[1])\n",
    "        countries.add(line.split()[3])\n",
    "print(countries)"
   ]
  },
  {
   "cell_type": "code",
   "execution_count": 11,
   "metadata": {},
   "outputs": [],
   "source": [
    "country_df = pd.DataFrame([[country,w2v.get_vector(country)] for country in countries],columns=['country','vector'])"
   ]
  },
  {
   "cell_type": "code",
   "execution_count": 13,
   "metadata": {},
   "outputs": [
    {
     "data": {
      "image/png": "[encoded data removed]",
      "text/plain": [
       "<Figure size 432x288 with 2 Axes>"
      ]
     },
     "metadata": {
      "needs_background": "light"
     },
     "output_type": "display_data"
    }
   ],
   "source": [
    "from sklearn.cluster import KMeans\n",
    "from sklearn.manifold import TSNE\n",
    "km = KMeans(n_clusters=5, random_state=0).fit(list(country_df['vector']))\n",
    "tsne = TSNE(n_components=2,random_state=0).fit(list(country_df['vector']))\n",
    "country_df['label'] = km.labels_\n",
    "country_df['color'] = country_df['label'].apply(lambda x:['red','green','pink','blue','black'][x])\n",
    "country_df['tsne_X'] = tsne.embedding_.T[0]\n",
    "country_df['tsne_Y'] = tsne.embedding_.T[1]\n",
    "scatter = country_df.plot.scatter(x='tsne_X',y='tsne_Y',c='color')\n",
    "for _,v in country_df.iterrows():\n",
    "    scatter.annotate(v['country'],xy=(v['tsne_X'],v['tsne_Y']))"
   ]
  },
  {
   "cell_type": "markdown",
   "metadata": {},
   "source": [
    "## 68. Ward法によるクラスタリング\n",
    "国名に関する単語ベクトルに対し，Ward法による階層型クラスタリングを実行せよ．さらに，クラスタリング結果をデンドログラムとして可視化せよ．"
   ]
  },
  {
   "cell_type": "markdown",
   "metadata": {},
   "source": [
    "参考 https://gomiba.co.in/blog/archives/705"
   ]
  },
  {
   "cell_type": "code",
   "execution_count": 17,
   "metadata": {},
   "outputs": [
    {
     "data": {
      "text/plain": [
       "[]"
      ]
     },
     "execution_count": 17,
     "metadata": {},
     "output_type": "execute_result"
    },
    {
     "data": {
      "image/png": "[encoded data removed]",
      "text/plain": [
       "<Figure size 432x288 with 1 Axes>"
      ]
     },
     "metadata": {
      "needs_background": "light"
     },
     "output_type": "display_data"
    }
   ],
   "source": [
    "from scipy.cluster.hierarchy import linkage, dendrogram\n",
    "import matplotlib.pyplot as plt\n",
    "linkage_result = linkage(country_df['vector'].tolist(), method='ward', metric='euclidean')\n",
    "dendrogram(linkage_result, labels=list(country_df['country']))\n",
    "plt.plot()"
   ]
  },
  {
   "cell_type": "markdown",
   "metadata": {},
   "source": [
    "## 69. t-SNEによる可視化\n",
    "国名に関する単語ベクトルのベクトル空間をt-SNEで可視化せよ．"
   ]
  },
  {
   "cell_type": "code",
   "execution_count": 19,
   "metadata": {},
   "outputs": [
    {
     "data": {
      "image/png": "[encoded data removed]",
      "text/plain": [
       "<Figure size 432x288 with 2 Axes>"
      ]
     },
     "metadata": {
      "needs_background": "light"
     },
     "output_type": "display_data"
    }
   ],
   "source": [
    "km = KMeans(n_clusters=5, random_state=0).fit(list(country_df['vector']))\n",
    "tsne = TSNE(n_components=2,random_state=0).fit(list(country_df['vector']))\n",
    "country_df['label'] = km.labels_\n",
    "country_df['color'] = country_df['label'].apply(lambda x:['red','green','pink','blue','black'][x])\n",
    "country_df['tsne_X'] = tsne.embedding_.T[0]\n",
    "country_df['tsne_Y'] = tsne.embedding_.T[1]\n",
    "scatter = country_df.plot.scatter(x='tsne_X',y='tsne_Y',c='color')\n",
    "for _,v in country_df.iterrows():\n",
    "    scatter.annotate(v['country'],xy=(v['tsne_X'],v['tsne_Y']))"
   ]
  }
 ],
 "metadata": {
  "kernelspec": {
   "display_name": "Python 3",
   "language": "python",
   "name": "python3"
  },
  "language_info": {
   "codemirror_mode": {
    "name": "ipython",
    "version": 3
   },
   "file_extension": ".py",
   "mimetype": "text/x-python",
   "name": "python",
   "nbconvert_exporter": "python",
   "pygments_lexer": "ipython3",
   "version": "3.8.2"
  }
 },
 "nbformat": 4,
 "nbformat_minor": 4
}
