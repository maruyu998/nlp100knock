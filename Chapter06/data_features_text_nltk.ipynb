{
 "cells": [
  {
   "cell_type": "code",
   "execution_count": 4,
   "metadata": {},
   "outputs": [
    {
     "name": "stderr",
     "output_type": "stream",
     "text": [
      "[nltk_data] Downloading package punkt to /home/maruyama.y/nltk_data...\n",
      "[nltk_data]   Package punkt is already up-to-date!\n",
      "[nltk_data] Downloading package averaged_perceptron_tagger to\n",
      "[nltk_data]     /home/maruyama.y/nltk_data...\n",
      "[nltk_data]   Package averaged_perceptron_tagger is already up-to-\n",
      "[nltk_data]       date!\n",
      "[nltk_data] Downloading package maxent_ne_chunker to\n",
      "[nltk_data]     /home/maruyama.y/nltk_data...\n",
      "[nltk_data]   Package maxent_ne_chunker is already up-to-date!\n",
      "[nltk_data] Downloading package words to /home/maruyama.y/nltk_data...\n",
      "[nltk_data]   Package words is already up-to-date!\n",
      "[nltk_data] Downloading package stopwords to\n",
      "[nltk_data]     /home/maruyama.y/nltk_data...\n",
      "[nltk_data]   Unzipping corpora/stopwords.zip.\n"
     ]
    },
    {
     "data": {
      "text/plain": [
       "True"
      ]
     },
     "execution_count": 4,
     "metadata": {},
     "output_type": "execute_result"
    }
   ],
   "source": [
    "import pandas as pd\n",
    "import nltk\n",
    "nltk.download('punkt')\n",
    "nltk.download('averaged_perceptron_tagger')\n",
    "nltk.download('maxent_ne_chunker')\n",
    "nltk.download('words')\n",
    "nltk.download('stopwords')"
   ]
  },
  {
   "cell_type": "raw",
   "metadata": {},
   "source": [
    "https://www.nltk.org/book/ch07.html"
   ]
  },
  {
   "cell_type": "code",
   "execution_count": 5,
   "metadata": {},
   "outputs": [],
   "source": [
    "news = pd.read_csv('news_mod_0.csv',index_col=\"ID\")"
   ]
  },
  {
   "cell_type": "code",
   "execution_count": 6,
   "metadata": {},
   "outputs": [
    {
     "data": {
      "text/html": [
       "<div>\n",
       "<style scoped>\n",
       "    .dataframe tbody tr th:only-of-type {\n",
       "        vertical-align: middle;\n",
       "    }\n",
       "\n",
       "    .dataframe tbody tr th {\n",
       "        vertical-align: top;\n",
       "    }\n",
       "\n",
       "    .dataframe thead th {\n",
       "        text-align: right;\n",
       "    }\n",
       "</style>\n",
       "<table border=\"1\" class=\"dataframe\">\n",
       "  <thead>\n",
       "    <tr style=\"text-align: right;\">\n",
       "      <th></th>\n",
       "      <th>CATEGORY</th>\n",
       "      <th>PUBLISHER</th>\n",
       "      <th>genre</th>\n",
       "      <th>TITLE</th>\n",
       "      <th>uri</th>\n",
       "      <th>story</th>\n",
       "      <th>uri_features</th>\n",
       "      <th>month</th>\n",
       "      <th>date</th>\n",
       "      <th>day</th>\n",
       "      <th>time</th>\n",
       "      <th>ts</th>\n",
       "    </tr>\n",
       "    <tr>\n",
       "      <th>ID</th>\n",
       "      <th></th>\n",
       "      <th></th>\n",
       "      <th></th>\n",
       "      <th></th>\n",
       "      <th></th>\n",
       "      <th></th>\n",
       "      <th></th>\n",
       "      <th></th>\n",
       "      <th></th>\n",
       "      <th></th>\n",
       "      <th></th>\n",
       "      <th></th>\n",
       "    </tr>\n",
       "  </thead>\n",
       "  <tbody>\n",
       "    <tr>\n",
       "      <th>13</th>\n",
       "      <td>b</td>\n",
       "      <td>Reuters</td>\n",
       "      <td>article</td>\n",
       "      <td>Europe reaches crunch point on banking union</td>\n",
       "      <td>eu,banks,resoluton</td>\n",
       "      <td>0</td>\n",
       "      <td>INL6N0M71NJ</td>\n",
       "      <td>3</td>\n",
       "      <td>10</td>\n",
       "      <td>Mon</td>\n",
       "      <td>0</td>\n",
       "      <td>8640.0</td>\n",
       "    </tr>\n",
       "    <tr>\n",
       "      <th>14</th>\n",
       "      <td>b</td>\n",
       "      <td>Reuters</td>\n",
       "      <td>article</td>\n",
       "      <td>ECB FOCUS-Stronger euro drowns out ECB's messa...</td>\n",
       "      <td>ecb,policy</td>\n",
       "      <td>0</td>\n",
       "      <td>INL6N0M71K3</td>\n",
       "      <td>3</td>\n",
       "      <td>10</td>\n",
       "      <td>Mon</td>\n",
       "      <td>0</td>\n",
       "      <td>8640.0</td>\n",
       "    </tr>\n",
       "    <tr>\n",
       "      <th>20</th>\n",
       "      <td>b</td>\n",
       "      <td>Businessweek</td>\n",
       "      <td>news</td>\n",
       "      <td>Euro Anxieties Wane as Bunds Top Treasuries, S...</td>\n",
       "      <td>german,bonds,beat,treasuries,with,yield,spread...</td>\n",
       "      <td>0</td>\n",
       "      <td>NaN</td>\n",
       "      <td>3</td>\n",
       "      <td>10</td>\n",
       "      <td>Mon</td>\n",
       "      <td>0</td>\n",
       "      <td>8640.0</td>\n",
       "    </tr>\n",
       "    <tr>\n",
       "      <th>21</th>\n",
       "      <td>b</td>\n",
       "      <td>Businessweek</td>\n",
       "      <td>news</td>\n",
       "      <td>Noyer Says Strong Euro Creates Unwarranted Eco...</td>\n",
       "      <td>noyer,says,stronger,euro,creates,unwarranted,p...</td>\n",
       "      <td>0</td>\n",
       "      <td>NaN</td>\n",
       "      <td>3</td>\n",
       "      <td>10</td>\n",
       "      <td>Mon</td>\n",
       "      <td>0</td>\n",
       "      <td>8640.0</td>\n",
       "    </tr>\n",
       "    <tr>\n",
       "      <th>30</th>\n",
       "      <td>b</td>\n",
       "      <td>Reuters</td>\n",
       "      <td>article</td>\n",
       "      <td>REFILE-Bad loan triggers key feature in ECB ba...</td>\n",
       "      <td>eurozone,bank,tests</td>\n",
       "      <td>0</td>\n",
       "      <td>INL6N0M71F0</td>\n",
       "      <td>3</td>\n",
       "      <td>10</td>\n",
       "      <td>Mon</td>\n",
       "      <td>0</td>\n",
       "      <td>8640.0</td>\n",
       "    </tr>\n",
       "    <tr>\n",
       "      <th>...</th>\n",
       "      <td>...</td>\n",
       "      <td>...</td>\n",
       "      <td>...</td>\n",
       "      <td>...</td>\n",
       "      <td>...</td>\n",
       "      <td>...</td>\n",
       "      <td>...</td>\n",
       "      <td>...</td>\n",
       "      <td>...</td>\n",
       "      <td>...</td>\n",
       "      <td>...</td>\n",
       "      <td>...</td>\n",
       "    </tr>\n",
       "    <tr>\n",
       "      <th>422819</th>\n",
       "      <td>m</td>\n",
       "      <td>Huffington Post</td>\n",
       "      <td>hp</td>\n",
       "      <td>UN: Ebola Could Eventually Infect 20000 People</td>\n",
       "      <td>ebola,20000,people</td>\n",
       "      <td>4577</td>\n",
       "      <td>NaN</td>\n",
       "      <td>8</td>\n",
       "      <td>28</td>\n",
       "      <td>Thu</td>\n",
       "      <td>0</td>\n",
       "      <td>254880.0</td>\n",
       "    </tr>\n",
       "    <tr>\n",
       "      <th>422820</th>\n",
       "      <td>m</td>\n",
       "      <td>Reuters</td>\n",
       "      <td>article</td>\n",
       "      <td>Ebola toll tops 1550, continues to accelerate ...</td>\n",
       "      <td>health,ebola,toll</td>\n",
       "      <td>4577</td>\n",
       "      <td>INL5N0QY2GR</td>\n",
       "      <td>8</td>\n",
       "      <td>28</td>\n",
       "      <td>Thu</td>\n",
       "      <td>0</td>\n",
       "      <td>254880.0</td>\n",
       "    </tr>\n",
       "    <tr>\n",
       "      <th>422821</th>\n",
       "      <td>m</td>\n",
       "      <td>Reuters</td>\n",
       "      <td>article</td>\n",
       "      <td>UPDATE 1-Ebola toll tops 1550, outbreak accele...</td>\n",
       "      <td>health,ebola,toll</td>\n",
       "      <td>4577</td>\n",
       "      <td>INL5N0QY2J7</td>\n",
       "      <td>8</td>\n",
       "      <td>28</td>\n",
       "      <td>Thu</td>\n",
       "      <td>0</td>\n",
       "      <td>254880.0</td>\n",
       "    </tr>\n",
       "    <tr>\n",
       "      <th>422828</th>\n",
       "      <td>m</td>\n",
       "      <td>Businessweek</td>\n",
       "      <td>news</td>\n",
       "      <td>Ebola Cases May Surpass 20000, WHO Says in Upd...</td>\n",
       "      <td>ebola,cases,may,surpass,20,000,who,says,in,upd...</td>\n",
       "      <td>4577</td>\n",
       "      <td>NaN</td>\n",
       "      <td>8</td>\n",
       "      <td>28</td>\n",
       "      <td>Thu</td>\n",
       "      <td>0</td>\n",
       "      <td>254880.0</td>\n",
       "    </tr>\n",
       "    <tr>\n",
       "      <th>422838</th>\n",
       "      <td>m</td>\n",
       "      <td>Daily Mail</td>\n",
       "      <td>travel-travel_news</td>\n",
       "      <td>Air France suspends flights to Ebola-hit Sierr...</td>\n",
       "      <td>Citing,Ebola,Air,France,suspends,flights</td>\n",
       "      <td>4577</td>\n",
       "      <td>NaN</td>\n",
       "      <td>8</td>\n",
       "      <td>28</td>\n",
       "      <td>Thu</td>\n",
       "      <td>2120</td>\n",
       "      <td>256160.0</td>\n",
       "    </tr>\n",
       "  </tbody>\n",
       "</table>\n",
       "<p>13340 rows × 12 columns</p>\n",
       "</div>"
      ],
      "text/plain": [
       "       CATEGORY        PUBLISHER               genre  \\\n",
       "ID                                                     \n",
       "13            b          Reuters             article   \n",
       "14            b          Reuters             article   \n",
       "20            b     Businessweek                news   \n",
       "21            b     Businessweek                news   \n",
       "30            b          Reuters             article   \n",
       "...         ...              ...                 ...   \n",
       "422819        m  Huffington Post                  hp   \n",
       "422820        m          Reuters             article   \n",
       "422821        m          Reuters             article   \n",
       "422828        m     Businessweek                news   \n",
       "422838        m       Daily Mail  travel-travel_news   \n",
       "\n",
       "                                                    TITLE  \\\n",
       "ID                                                          \n",
       "13           Europe reaches crunch point on banking union   \n",
       "14      ECB FOCUS-Stronger euro drowns out ECB's messa...   \n",
       "20      Euro Anxieties Wane as Bunds Top Treasuries, S...   \n",
       "21      Noyer Says Strong Euro Creates Unwarranted Eco...   \n",
       "30      REFILE-Bad loan triggers key feature in ECB ba...   \n",
       "...                                                   ...   \n",
       "422819     UN: Ebola Could Eventually Infect 20000 People   \n",
       "422820  Ebola toll tops 1550, continues to accelerate ...   \n",
       "422821  UPDATE 1-Ebola toll tops 1550, outbreak accele...   \n",
       "422828  Ebola Cases May Surpass 20000, WHO Says in Upd...   \n",
       "422838  Air France suspends flights to Ebola-hit Sierr...   \n",
       "\n",
       "                                                      uri  story uri_features  \\\n",
       "ID                                                                              \n",
       "13                                     eu,banks,resoluton      0  INL6N0M71NJ   \n",
       "14                                             ecb,policy      0  INL6N0M71K3   \n",
       "20      german,bonds,beat,treasuries,with,yield,spread...      0          NaN   \n",
       "21      noyer,says,stronger,euro,creates,unwarranted,p...      0          NaN   \n",
       "30                                    eurozone,bank,tests      0  INL6N0M71F0   \n",
       "...                                                   ...    ...          ...   \n",
       "422819                                 ebola,20000,people   4577          NaN   \n",
       "422820                                  health,ebola,toll   4577  INL5N0QY2GR   \n",
       "422821                                  health,ebola,toll   4577  INL5N0QY2J7   \n",
       "422828  ebola,cases,may,surpass,20,000,who,says,in,upd...   4577          NaN   \n",
       "422838           Citing,Ebola,Air,France,suspends,flights   4577          NaN   \n",
       "\n",
       "        month  date  day  time        ts  \n",
       "ID                                        \n",
       "13          3    10  Mon     0    8640.0  \n",
       "14          3    10  Mon     0    8640.0  \n",
       "20          3    10  Mon     0    8640.0  \n",
       "21          3    10  Mon     0    8640.0  \n",
       "30          3    10  Mon     0    8640.0  \n",
       "...       ...   ...  ...   ...       ...  \n",
       "422819      8    28  Thu     0  254880.0  \n",
       "422820      8    28  Thu     0  254880.0  \n",
       "422821      8    28  Thu     0  254880.0  \n",
       "422828      8    28  Thu     0  254880.0  \n",
       "422838      8    28  Thu  2120  256160.0  \n",
       "\n",
       "[13340 rows x 12 columns]"
      ]
     },
     "execution_count": 6,
     "metadata": {},
     "output_type": "execute_result"
    }
   ],
   "source": [
    "news"
   ]
  },
  {
   "cell_type": "code",
   "execution_count": 18,
   "metadata": {},
   "outputs": [],
   "source": [
    "news['title_parse'] = news['TITLE'].apply(lambda title:nltk.chunk.ne_chunk(nltk.pos_tag(nltk.word_tokenize(title))))"
   ]
  },
  {
   "cell_type": "code",
   "execution_count": 20,
   "metadata": {},
   "outputs": [
    {
     "data": {
      "text/plain": [
       "ID\n",
       "13        [[(Europe, NNP)], (reaches, VBZ), (crunch, NN)...\n",
       "14        [[(ECB, NNP)], (FOCUS-Stronger, NNP), (euro, N...\n",
       "20        [[(Euro, NNP)], [(Anxieties, NNP), (Wane, NNP)...\n",
       "21        [[(Noyer, NNP)], (Says, VBZ), [(Strong, NNP), ...\n",
       "30        [(REFILE-Bad, JJ), (loan, NN), (triggers, NNS)...\n",
       "                                ...                        \n",
       "422819    [(UN, NN), (:, :), [(Ebola, NNP), (Could, NNP)...\n",
       "422820    [[(Ebola, NNP)], (toll, NN), (tops, NN), (1550...\n",
       "422821    [(UPDATE, IN), (1-Ebola, JJ), (toll, NN), (top...\n",
       "422828    [[(Ebola, NNP)], [(Cases, NNP), (May, NNP)], (...\n",
       "422838    [[(Air, NNP)], [(France, NNP)], (suspends, VBZ...\n",
       "Name: title_parse, Length: 13340, dtype: object"
      ]
     },
     "execution_count": 20,
     "metadata": {},
     "output_type": "execute_result"
    }
   ],
   "source": [
    "news['title_parse']"
   ]
  },
  {
   "cell_type": "code",
   "execution_count": 25,
   "metadata": {},
   "outputs": [
    {
     "name": "stdout",
     "output_type": "stream",
     "text": [
      "(S\n",
      "  (GPE Europe/NNP)\n",
      "  reaches/VBZ\n",
      "  crunch/NN\n",
      "  point/NN\n",
      "  on/IN\n",
      "  banking/NN\n",
      "  union/NN)\n"
     ]
    }
   ],
   "source": [
    "print(news.loc[13,'title_parse'])"
   ]
  },
  {
   "cell_type": "code",
   "execution_count": 60,
   "metadata": {},
   "outputs": [
    {
     "data": {
      "text/plain": [
       "[Tree('GPE', [('Europe', 'NNP')]),\n",
       " ('reaches', 'VBZ'),\n",
       " ('crunch', 'NN'),\n",
       " ('point', 'NN'),\n",
       " ('on', 'IN'),\n",
       " ('banking', 'NN'),\n",
       " ('union', 'NN')]"
      ]
     },
     "execution_count": 60,
     "metadata": {},
     "output_type": "execute_result"
    }
   ],
   "source": [
    "list(news.loc[13,'title_parse'])"
   ]
  },
  {
   "cell_type": "markdown",
   "metadata": {},
   "source": [
    "## Named entity\n",
    "GPE() ,PERSON, ORGANIZATION"
   ]
  },
  {
   "cell_type": "code",
   "execution_count": 51,
   "metadata": {},
   "outputs": [],
   "source": [
    "s = set()\n",
    "for tp in news['title_parse']:\n",
    "    for elm in tp:\n",
    "        if type(elm) == tuple: continue\n",
    "        if len(list(elm)[0])<2: print(tp,elm,type(elm),list(elm)[0])\n",
    "        s.add(list(elm)[0][1])"
   ]
  },
  {
   "cell_type": "code",
   "execution_count": 52,
   "metadata": {},
   "outputs": [
    {
     "data": {
      "text/plain": [
       "{'CC',\n",
       " 'CD',\n",
       " 'DT',\n",
       " 'IN',\n",
       " 'JJ',\n",
       " 'JJR',\n",
       " 'JJS',\n",
       " 'MD',\n",
       " 'NN',\n",
       " 'NNP',\n",
       " 'NNPS',\n",
       " 'NNS',\n",
       " 'PRP',\n",
       " 'RB',\n",
       " 'SYM',\n",
       " 'TO',\n",
       " 'VB',\n",
       " 'VBD',\n",
       " 'VBN',\n",
       " 'VBZ'}"
      ]
     },
     "execution_count": 52,
     "metadata": {},
     "output_type": "execute_result"
    }
   ],
   "source": [
    "s"
   ]
  },
  {
   "cell_type": "code",
   "execution_count": 19,
   "metadata": {},
   "outputs": [
    {
     "data": {
      "text/plain": [
       "ID\n",
       "13        [[(Europe, NNP)], (reaches, VBZ), (crunch, NN)...\n",
       "14        [[(ECB, NNP)], (FOCUS-Stronger, NNP), (euro, N...\n",
       "20        [[(Euro, NNP)], [(Anxieties, NNP), (Wane, NNP)...\n",
       "21        [[(Noyer, NNP)], (Says, VBZ), [(Strong, NNP), ...\n",
       "30        [(REFILE-Bad, JJ), (loan, NN), (triggers, NNS)...\n",
       "                                ...                        \n",
       "422819    [(UN, NN), (:, :), [(Ebola, NNP), (Could, NNP)...\n",
       "422820    [[(Ebola, NNP)], (toll, NN), (tops, NN), (1550...\n",
       "422821    [(UPDATE, IN), (1-Ebola, JJ), (toll, NN), (top...\n",
       "422828    [[(Ebola, NNP)], [(Cases, NNP), (May, NNP)], (...\n",
       "422838    [[(Air, NNP)], [(France, NNP)], (suspends, VBZ...\n",
       "Name: title_parse, Length: 13340, dtype: object"
      ]
     },
     "execution_count": 19,
     "metadata": {},
     "output_type": "execute_result"
    }
   ],
   "source": [
    "news['title_parse'].apply(lambda li:[elm for elm in li])"
   ]
  },
  {
   "cell_type": "code",
   "execution_count": null,
   "metadata": {},
   "outputs": [],
   "source": []
  }
 ],
 "metadata": {
  "kernelspec": {
   "display_name": "Python 3",
   "language": "python",
   "name": "python3"
  },
  "language_info": {
   "codemirror_mode": {
    "name": "ipython",
    "version": 3
   },
   "file_extension": ".py",
   "mimetype": "text/x-python",
   "name": "python",
   "nbconvert_exporter": "python",
   "pygments_lexer": "ipython3",
   "version": "3.8.2"
  }
 },
 "nbformat": 4,
 "nbformat_minor": 4
}
