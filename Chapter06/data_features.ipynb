{
 "cells": [
  {
   "cell_type": "markdown",
   "metadata": {},
   "source": [
    "# tableの確認"
   ]
  },
  {
   "cell_type": "code",
   "execution_count": 1,
   "metadata": {},
   "outputs": [
    {
     "name": "stdout",
     "output_type": "stream",
     "text": [
      "<class 'pandas.core.frame.DataFrame'>\n",
      "Int64Index: 13340 entries, 13 to 422838\n",
      "Data columns (total 7 columns):\n",
      " #   Column     Non-Null Count  Dtype \n",
      "---  ------     --------------  ----- \n",
      " 0   TITLE      13340 non-null  object\n",
      " 1   URL        13340 non-null  object\n",
      " 2   PUBLISHER  13340 non-null  object\n",
      " 3   CATEGORY   13340 non-null  object\n",
      " 4   STORY      13340 non-null  object\n",
      " 5   HOSTNAME   13340 non-null  object\n",
      " 6   TIMESTAMP  13340 non-null  int64 \n",
      "dtypes: int64(1), object(6)\n",
      "memory usage: 833.8+ KB\n",
      "None\n"
     ]
    },
    {
     "data": {
      "text/html": [
       "<div>\n",
       "<style scoped>\n",
       "    .dataframe tbody tr th:only-of-type {\n",
       "        vertical-align: middle;\n",
       "    }\n",
       "\n",
       "    .dataframe tbody tr th {\n",
       "        vertical-align: top;\n",
       "    }\n",
       "\n",
       "    .dataframe thead th {\n",
       "        text-align: right;\n",
       "    }\n",
       "</style>\n",
       "<table border=\"1\" class=\"dataframe\">\n",
       "  <thead>\n",
       "    <tr style=\"text-align: right;\">\n",
       "      <th></th>\n",
       "      <th>TITLE</th>\n",
       "      <th>URL</th>\n",
       "      <th>PUBLISHER</th>\n",
       "      <th>CATEGORY</th>\n",
       "      <th>STORY</th>\n",
       "      <th>HOSTNAME</th>\n",
       "      <th>TIMESTAMP</th>\n",
       "    </tr>\n",
       "    <tr>\n",
       "      <th>ID</th>\n",
       "      <th></th>\n",
       "      <th></th>\n",
       "      <th></th>\n",
       "      <th></th>\n",
       "      <th></th>\n",
       "      <th></th>\n",
       "      <th></th>\n",
       "    </tr>\n",
       "  </thead>\n",
       "  <tbody>\n",
       "    <tr>\n",
       "      <th>41481</th>\n",
       "      <td>WRAPUP 2-Bullish consumers, rising home prices...</td>\n",
       "      <td>http://www.reuters.com/article/2014/03/25/usa-...</td>\n",
       "      <td>Reuters</td>\n",
       "      <td>b</td>\n",
       "      <td>dfBS3RPqkm4eq8MhSZx-pHIez0eqM</td>\n",
       "      <td>www.reuters.com</td>\n",
       "      <td>1395770054245</td>\n",
       "    </tr>\n",
       "    <tr>\n",
       "      <th>128367</th>\n",
       "      <td>Morgan Stanley reduces risky fixed-income asse...</td>\n",
       "      <td>http://in.reuters.com/article/2014/04/17/morga...</td>\n",
       "      <td>Reuters</td>\n",
       "      <td>b</td>\n",
       "      <td>d8yYZMW1FZ9vgCM4auekiP0m2XHKM</td>\n",
       "      <td>in.reuters.com</td>\n",
       "      <td>1397762473985</td>\n",
       "    </tr>\n",
       "    <tr>\n",
       "      <th>37039</th>\n",
       "      <td>MSG Buys 50 Percent Stake in De Niro's Tribeca...</td>\n",
       "      <td>http://www.businessweek.com/news/2014-03-23/ms...</td>\n",
       "      <td>Businessweek</td>\n",
       "      <td>e</td>\n",
       "      <td>dnarXPO3QPc-aCMK1PH3EFV0AN9WM</td>\n",
       "      <td>www.businessweek.com</td>\n",
       "      <td>1395628798677</td>\n",
       "    </tr>\n",
       "    <tr>\n",
       "      <th>281665</th>\n",
       "      <td>Lack of sun raises early death risk for middle...</td>\n",
       "      <td>http://www.dailymail.co.uk/health/article-2656...</td>\n",
       "      <td>Daily Mail</td>\n",
       "      <td>m</td>\n",
       "      <td>dSoXsuZbs3ZDtwMRTEZ16fQD8L0dM</td>\n",
       "      <td>www.dailymail.co.uk</td>\n",
       "      <td>1402691976422</td>\n",
       "    </tr>\n",
       "    <tr>\n",
       "      <th>356202</th>\n",
       "      <td>FDA approves Spectrum Pharma's blood cancer drug</td>\n",
       "      <td>http://in.reuters.com/article/2014/07/03/spect...</td>\n",
       "      <td>Reuters</td>\n",
       "      <td>m</td>\n",
       "      <td>d6K0BWV9rrvMY7MOnPGOJbZdZ4fjM</td>\n",
       "      <td>in.reuters.com</td>\n",
       "      <td>1404474317002</td>\n",
       "    </tr>\n",
       "  </tbody>\n",
       "</table>\n",
       "</div>"
      ],
      "text/plain": [
       "                                                    TITLE  \\\n",
       "ID                                                          \n",
       "41481   WRAPUP 2-Bullish consumers, rising home prices...   \n",
       "128367  Morgan Stanley reduces risky fixed-income asse...   \n",
       "37039   MSG Buys 50 Percent Stake in De Niro's Tribeca...   \n",
       "281665  Lack of sun raises early death risk for middle...   \n",
       "356202   FDA approves Spectrum Pharma's blood cancer drug   \n",
       "\n",
       "                                                      URL     PUBLISHER  \\\n",
       "ID                                                                        \n",
       "41481   http://www.reuters.com/article/2014/03/25/usa-...       Reuters   \n",
       "128367  http://in.reuters.com/article/2014/04/17/morga...       Reuters   \n",
       "37039   http://www.businessweek.com/news/2014-03-23/ms...  Businessweek   \n",
       "281665  http://www.dailymail.co.uk/health/article-2656...    Daily Mail   \n",
       "356202  http://in.reuters.com/article/2014/07/03/spect...       Reuters   \n",
       "\n",
       "       CATEGORY                          STORY              HOSTNAME  \\\n",
       "ID                                                                     \n",
       "41481         b  dfBS3RPqkm4eq8MhSZx-pHIez0eqM       www.reuters.com   \n",
       "128367        b  d8yYZMW1FZ9vgCM4auekiP0m2XHKM        in.reuters.com   \n",
       "37039         e  dnarXPO3QPc-aCMK1PH3EFV0AN9WM  www.businessweek.com   \n",
       "281665        m  dSoXsuZbs3ZDtwMRTEZ16fQD8L0dM   www.dailymail.co.uk   \n",
       "356202        m  d6K0BWV9rrvMY7MOnPGOJbZdZ4fjM        in.reuters.com   \n",
       "\n",
       "            TIMESTAMP  \n",
       "ID                     \n",
       "41481   1395770054245  \n",
       "128367  1397762473985  \n",
       "37039   1395628798677  \n",
       "281665  1402691976422  \n",
       "356202  1404474317002  "
      ]
     },
     "execution_count": 1,
     "metadata": {},
     "output_type": "execute_result"
    }
   ],
   "source": [
    "import pandas as pd\n",
    "news = pd.read_csv('newsCorpora.csv', sep=\"\\t\", header=None, names=[\"ID\",\"TITLE\",\"URL\",\"PUBLISHER\",\"CATEGORY\",\"STORY\",\"HOSTNAME\",\"TIMESTAMP\"],index_col=\"ID\")\n",
    "news = news.query('PUBLISHER in [\"Reuters\",\"Huffington Post\",\"Businessweek\", \"Contactmusic.com\", \"Daily Mail\"]')\n",
    "print(news.info())\n",
    "news.sample(5)"
   ]
  },
  {
   "cell_type": "markdown",
   "metadata": {},
   "source": [
    "# publisher"
   ]
  },
  {
   "cell_type": "code",
   "execution_count": 2,
   "metadata": {},
   "outputs": [
    {
     "data": {
      "text/plain": [
       "Reuters             3902\n",
       "Huffington Post     2455\n",
       "Businessweek        2395\n",
       "Contactmusic.com    2334\n",
       "Daily Mail          2254\n",
       "Name: PUBLISHER, dtype: int64"
      ]
     },
     "execution_count": 2,
     "metadata": {},
     "output_type": "execute_result"
    }
   ],
   "source": [
    "news['PUBLISHER'].value_counts()"
   ]
  },
  {
   "cell_type": "markdown",
   "metadata": {},
   "source": [
    "# category"
   ]
  },
  {
   "cell_type": "markdown",
   "metadata": {},
   "source": [
    "> CATEGORY News category (b = business, t = science and technology, e = entertainment, m = health)"
   ]
  },
  {
   "cell_type": "code",
   "execution_count": 3,
   "metadata": {},
   "outputs": [
    {
     "data": {
      "text/plain": [
       "b    5627\n",
       "e    5279\n",
       "t    1524\n",
       "m     910\n",
       "Name: CATEGORY, dtype: int64"
      ]
     },
     "execution_count": 3,
     "metadata": {},
     "output_type": "execute_result"
    }
   ],
   "source": [
    "news['CATEGORY'].value_counts()"
   ]
  },
  {
   "cell_type": "markdown",
   "metadata": {},
   "source": [
    "# story"
   ]
  },
  {
   "cell_type": "markdown",
   "metadata": {},
   "source": [
    "> STORY Alphanumeric ID of the cluster that includes news about the same story"
   ]
  },
  {
   "cell_type": "code",
   "execution_count": 4,
   "metadata": {},
   "outputs": [
    {
     "data": {
      "text/plain": [
       "d_yCfTJxDUFGs_MQrL1DnBRuBd_eM    31\n",
       "dAZC0aRMk1ONyvMUjTyEB_iZmrZLM    29\n",
       "d3tIMfB2mg-9MZM4G_jGTEiRVl3jM    26\n",
       "dj2gaJQ71DfKWyMRvKbZUWIkrAKLM    26\n",
       "dbfJRt2YOiGnSoMC7S8yBd9gQohiM    24\n",
       "                                 ..\n",
       "d4jO_Xv5xeLPbLMguPw_hiVAOtq4M     1\n",
       "diR1Ucyem6h8QVMKGL6J15wIDCshM     1\n",
       "dGp2UJOLsC2pnvMzfNuy_I6EDFBsM     1\n",
       "dUwrIO6OgjC-0PMW4tA1uUUgcR_DM     1\n",
       "dCHk_KGbLopHziME562ZXs2Z5i51M     1\n",
       "Name: STORY, Length: 4578, dtype: int64"
      ]
     },
     "execution_count": 4,
     "metadata": {},
     "output_type": "execute_result"
    }
   ],
   "source": [
    "news['STORY'].value_counts()"
   ]
  },
  {
   "cell_type": "code",
   "execution_count": 5,
   "metadata": {},
   "outputs": [],
   "source": [
    "news['story'] = news['STORY'].apply(lambda x:str(list(news['STORY'].unique()).index(x)))"
   ]
  },
  {
   "cell_type": "code",
   "execution_count": 6,
   "metadata": {},
   "outputs": [
    {
     "data": {
      "text/plain": [
       "ID\n",
       "13           0\n",
       "14           0\n",
       "20           0\n",
       "21           0\n",
       "30           0\n",
       "          ... \n",
       "422819    4577\n",
       "422820    4577\n",
       "422821    4577\n",
       "422828    4577\n",
       "422838    4577\n",
       "Name: story, Length: 13340, dtype: object"
      ]
     },
     "execution_count": 6,
     "metadata": {},
     "output_type": "execute_result"
    }
   ],
   "source": [
    "news['story']"
   ]
  },
  {
   "cell_type": "code",
   "execution_count": 7,
   "metadata": {},
   "outputs": [],
   "source": [
    "news = news.drop('STORY',axis=1)"
   ]
  },
  {
   "cell_type": "markdown",
   "metadata": {},
   "source": [
    "# hostname"
   ]
  },
  {
   "cell_type": "code",
   "execution_count": 8,
   "metadata": {},
   "outputs": [
    {
     "data": {
      "text/plain": [
       "in.reuters.com            2558\n",
       "www.huffingtonpost.com    2455\n",
       "www.businessweek.com      2395\n",
       "www.contactmusic.com      2334\n",
       "www.dailymail.co.uk       2254\n",
       "www.reuters.com           1344\n",
       "Name: HOSTNAME, dtype: int64"
      ]
     },
     "execution_count": 8,
     "metadata": {},
     "output_type": "execute_result"
    }
   ],
   "source": [
    "news['HOSTNAME'].value_counts()"
   ]
  },
  {
   "cell_type": "markdown",
   "metadata": {},
   "source": [
    "# timestamp"
   ]
  },
  {
   "cell_type": "markdown",
   "metadata": {},
   "source": [
    "> TIMESTAMP Approximate time the news was published, as the number of milliseconds since the epoch 00:00:00 GMT, January 1, 1970"
   ]
  },
  {
   "cell_type": "code",
   "execution_count": 9,
   "metadata": {},
   "outputs": [
    {
     "data": {
      "text/plain": [
       "<matplotlib.collections.PathCollection at 0x7fd0b035e6a0>"
      ]
     },
     "execution_count": 9,
     "metadata": {},
     "output_type": "execute_result"
    },
    {
     "data": {
      "image/png": "[encoded data removed]",
      "text/plain": [
       "<Figure size 432x288 with 1 Axes>"
      ]
     },
     "metadata": {
      "needs_background": "light"
     },
     "output_type": "display_data"
    }
   ],
   "source": [
    "import matplotlib.pyplot as plt\n",
    "plt.scatter(news.index, news['TIMESTAMP'])"
   ]
  },
  {
   "cell_type": "code",
   "execution_count": 10,
   "metadata": {},
   "outputs": [
    {
     "data": {
      "text/plain": [
       "ID\n",
       "13        1394470501755\n",
       "14        1394470501948\n",
       "20        1394470503148\n",
       "21        1394470503366\n",
       "30        1394470505070\n",
       "              ...      \n",
       "422819    1409228423333\n",
       "422820    1409228423827\n",
       "422821    1409228424525\n",
       "422828    1409228426943\n",
       "422838    1409228430383\n",
       "Name: TIMESTAMP, Length: 13340, dtype: int64"
      ]
     },
     "execution_count": 10,
     "metadata": {},
     "output_type": "execute_result"
    }
   ],
   "source": [
    "news['TIMESTAMP']"
   ]
  },
  {
   "cell_type": "code",
   "execution_count": 11,
   "metadata": {},
   "outputs": [],
   "source": [
    "from datetime import datetime\n",
    "get_dt = lambda ts:datetime.fromtimestamp(ts/1000)\n",
    "get_dt_format = lambda ts,form:get_dt(ts).strftime(form)\n",
    "\n",
    "news['month'] = news['TIMESTAMP'].apply(lambda ts:get_dt_format(ts,\"%m\"))\n",
    "news['date'] = news['TIMESTAMP'].apply(lambda ts:get_dt_format(ts,\"%d\"))\n",
    "news['day']  = news['TIMESTAMP'].apply(lambda ts:get_dt_format(ts,\"%a\"))\n",
    "news['time'] = news['TIMESTAMP'].apply(lambda ts:get_dt_format(ts,\"%H%M\"))"
   ]
  },
  {
   "cell_type": "markdown",
   "metadata": {},
   "source": [
    "# url"
   ]
  },
  {
   "cell_type": "markdown",
   "metadata": {},
   "source": [
    "#### データの確認 => data_features_url.ipynbにて"
   ]
  },
  {
   "cell_type": "code",
   "execution_count": 12,
   "metadata": {},
   "outputs": [],
   "source": [
    "from datetime import datetime, date\n",
    "import re"
   ]
  },
  {
   "cell_type": "code",
   "execution_count": 13,
   "metadata": {},
   "outputs": [],
   "source": [
    "news['URL'] = news['URL'].apply(lambda url:url.replace('—','-').replace('–','-'))"
   ]
  },
  {
   "cell_type": "code",
   "execution_count": 14,
   "metadata": {},
   "outputs": [],
   "source": [
    "for url in news['URL']:\n",
    "    for c in url:\n",
    "        if c in \" :/.-_=&;?\\\\+%()\": continue\n",
    "        if 'A'<=c<='Z': continue\n",
    "        if 'a'<=c<='z': continue\n",
    "        if '0'<=c<='9': continue\n",
    "        raise Exception"
   ]
  },
  {
   "cell_type": "markdown",
   "metadata": {},
   "source": [
    "## Reuters"
   ]
  },
  {
   "cell_type": "code",
   "execution_count": 15,
   "metadata": {},
   "outputs": [],
   "source": [
    "def reuters(series, uri_sp):\n",
    "    series['genre'] = uri_sp[0]\n",
    "    if uri_sp[0]==\"article\":\n",
    "        if uri_sp[1] != \"2014\": raise Exception(\"not 2014\")\n",
    "        series['m_month'] = uri_sp[2]\n",
    "        series['m_date']  = uri_sp[3]\n",
    "        other = uri_sp[4].split('-')\n",
    "        ids = other[-1][2:]\n",
    "        series['uri_features'] = ids[:-8] if ids[-8:-3]==\"20140\" else ids\n",
    "        series['uri'] = other[:-1]\n",
    "    elif uri_sp[0]==\"video\":\n",
    "        series['m_month'] = uri_sp[2]\n",
    "        series['m_date']  = uri_sp[3]\n",
    "        series['uri'] = uri_sp[4].split('-')\n",
    "    elif uri_sp[0]==\"news\":\n",
    "        series['uri_features'] = uri_sp[1]+\"-\"+uri_sp[2]\n",
    "    else: raise Exception(\"unknown type\")\n",
    "    return series"
   ]
  },
  {
   "cell_type": "markdown",
   "metadata": {},
   "source": [
    "## Businessweek"
   ]
  },
  {
   "cell_type": "code",
   "execution_count": 16,
   "metadata": {},
   "outputs": [],
   "source": [
    "def businessweek(series, uri_sp):\n",
    "    series['genre'] = uri_sp[0]\n",
    "    dt = uri_sp[1].split(\"-\")\n",
    "    if dt[0] != \"2014\": raise Exception(\"not 2014\")\n",
    "    series['m_month'] = dt[1]\n",
    "    series['m_date']  = dt[2]\n",
    "    series['uri_features'] = None\n",
    "    series['uri'] = uri_sp[2].split(\"-\")\n",
    "    return series"
   ]
  },
  {
   "cell_type": "markdown",
   "metadata": {},
   "source": [
    "## Huffington Post"
   ]
  },
  {
   "cell_type": "code",
   "execution_count": 17,
   "metadata": {},
   "outputs": [],
   "source": [
    "def huffington(series, uri_sp):\n",
    "    if uri_sp[0]==\"2014\":\n",
    "        series['m_month'] = uri_sp[1]\n",
    "        series['m_date']  = uri_sp[2]\n",
    "        series['genre'] = 'hp'\n",
    "        series['uri_features'] = None\n",
    "        series['uri'] = uri_sp[3].split(\"-\")[:-1]+[uri_sp[3].split(\"-\")[-1].split(\"_\")[0]]\n",
    "    elif not not re.match(r'2014\\d{4}',uri_sp[1]):\n",
    "        series['m_month'] = uri_sp[1][4:6]\n",
    "        series['m_date']  = uri_sp[1][6:]\n",
    "        series['genre'] = 'huff-wires'\n",
    "        series['uri_features'] = None\n",
    "        series['uri'] = uri_sp[2].split(\"-\")\n",
    "    else:\n",
    "        series['genre'] = 'hp-other'\n",
    "        series['uri_features'] = None\n",
    "        series['uri'] = uri_sp[0].split(\"-\")+uri_sp[1].split(\"-\")[:-1]+[uri_sp[1].split(\"-\")[-1].split('_')[0]]\n",
    "    return series"
   ]
  },
  {
   "cell_type": "markdown",
   "metadata": {},
   "source": [
    "## Daily Mail"
   ]
  },
  {
   "cell_type": "code",
   "execution_count": 18,
   "metadata": {},
   "outputs": [],
   "source": [
    "def dailymail(series, uri_sp):\n",
    "    if not not re.match(r'article-\\d{7}', uri_sp[1]):\n",
    "        series['genre'] = uri_sp[0]\n",
    "        series['uri_features'] = None\n",
    "        series['uri'] = uri_sp[2].split(\"-\")\n",
    "    elif not not re.match(r'article-\\d{7}', uri_sp[2]):\n",
    "        series['genre'] = uri_sp[0]+\"-\"+uri_sp[1]\n",
    "        series['uri_features'] = None\n",
    "        series['uri'] = uri_sp[3].split(\"-\")\n",
    "    elif not not re.match(r'video-\\d{7}', uri_sp[2]):\n",
    "        series['genre'] = uri_sp[0]+\"-\"+uri_sp[1]\n",
    "        series['uri_features'] = None\n",
    "        series['uri'] = uri_sp[3].split(\"-\")\n",
    "    else: raise Exception(\"UNKNOWN type\")\n",
    "    return series"
   ]
  },
  {
   "cell_type": "markdown",
   "metadata": {},
   "source": [
    "## Contactmusic.com"
   ]
  },
  {
   "cell_type": "code",
   "execution_count": 19,
   "metadata": {},
   "outputs": [],
   "source": [
    "def contactmusic(series, uri_sp):\n",
    "    series['genre'] = uri_sp[0]\n",
    "    series['uri_features'] = None\n",
    "    series['uri'] = uri_sp[1].split(\"-\")[:-1]+[uri_sp[1].split(\"-\")[-1].split('_')[0]]\n",
    "    return series"
   ]
  },
  {
   "cell_type": "markdown",
   "metadata": {},
   "source": [
    "## summary"
   ]
  },
  {
   "cell_type": "code",
   "execution_count": 20,
   "metadata": {},
   "outputs": [],
   "source": [
    "def url_parse(series):\n",
    "    uri = re.sub(r'.*?'+series['HOSTNAME']+'/(.*)',r'\\1',series['URL'])\n",
    "    uri_sp = uri.split('\\\\?')[0].split('/')\n",
    "    if   series['PUBLISHER'] == \"Reuters\":         series = reuters(series, uri_sp)\n",
    "    elif series['PUBLISHER'] == \"Businessweek\":    series = businessweek(series, uri_sp)\n",
    "    elif series['PUBLISHER'] == \"Huffington Post\": series = huffington(series, uri_sp)\n",
    "    elif series['PUBLISHER'] == \"Daily Mail\":      series = dailymail(series, uri_sp)\n",
    "    elif series['PUBLISHER'] == \"Contactmusic.com\":series = contactmusic(series, uri_sp)\n",
    "    else: raise Exception('INVALID PUBLISHER')\n",
    "    return series"
   ]
  },
  {
   "cell_type": "code",
   "execution_count": 21,
   "metadata": {},
   "outputs": [],
   "source": [
    "news = news.apply(url_parse, axis=1)\n",
    "news = news.drop('URL',axis=1)\n",
    "news['uri'] = news['uri'].apply(lambda l:l if type(l) is list else [])\n",
    "news['uri_features'] = news['uri_features'].apply(lambda s:s if type(s) is str else \"\")"
   ]
  },
  {
   "cell_type": "code",
   "execution_count": 22,
   "metadata": {},
   "outputs": [],
   "source": [
    "def recalc_dt(series):\n",
    "    if pd.isna(series['m_month']) and pd.isna(series['m_date']): return series\n",
    "    series['month'] = series['m_month']\n",
    "    series['date']  = series['m_date']\n",
    "    series['day'] = date(2014, int(series['month']), int(series['date'])).strftime(\"%a\")\n",
    "    series['time'] = \"0000\"\n",
    "    series['TIMESTAMP'] = datetime(2014,int(series['month']),int(series['date'])).timestamp()*1000\n",
    "    return series"
   ]
  },
  {
   "cell_type": "code",
   "execution_count": 23,
   "metadata": {},
   "outputs": [],
   "source": [
    "news = news.apply(recalc_dt,axis=1)\n",
    "news['ts'] = (news['TIMESTAMP'] - min(news['TIMESTAMP']))//1000//60\n",
    "news = news.drop(['m_month','m_date','TIMESTAMP','HOSTNAME'],axis=1)"
   ]
  },
  {
   "cell_type": "code",
   "execution_count": 35,
   "metadata": {},
   "outputs": [],
   "source": [
    "news['uri'] = news['uri'].apply(lambda uri:[w.replace('.html','') for w in uri])\n",
    "news['uri'] = news['uri'].apply(lambda uri:[w for w in uri if w != ''])"
   ]
  },
  {
   "cell_type": "code",
   "execution_count": 36,
   "metadata": {},
   "outputs": [
    {
     "data": {
      "text/html": [
       "<div>\n",
       "<style scoped>\n",
       "    .dataframe tbody tr th:only-of-type {\n",
       "        vertical-align: middle;\n",
       "    }\n",
       "\n",
       "    .dataframe tbody tr th {\n",
       "        vertical-align: top;\n",
       "    }\n",
       "\n",
       "    .dataframe thead th {\n",
       "        text-align: right;\n",
       "    }\n",
       "</style>\n",
       "<table border=\"1\" class=\"dataframe\">\n",
       "  <thead>\n",
       "    <tr style=\"text-align: right;\">\n",
       "      <th></th>\n",
       "      <th>CATEGORY</th>\n",
       "      <th>PUBLISHER</th>\n",
       "      <th>TITLE</th>\n",
       "      <th>date</th>\n",
       "      <th>day</th>\n",
       "      <th>genre</th>\n",
       "      <th>month</th>\n",
       "      <th>story</th>\n",
       "      <th>time</th>\n",
       "      <th>uri</th>\n",
       "      <th>uri_features</th>\n",
       "      <th>ts</th>\n",
       "    </tr>\n",
       "    <tr>\n",
       "      <th>ID</th>\n",
       "      <th></th>\n",
       "      <th></th>\n",
       "      <th></th>\n",
       "      <th></th>\n",
       "      <th></th>\n",
       "      <th></th>\n",
       "      <th></th>\n",
       "      <th></th>\n",
       "      <th></th>\n",
       "      <th></th>\n",
       "      <th></th>\n",
       "      <th></th>\n",
       "    </tr>\n",
       "  </thead>\n",
       "  <tbody>\n",
       "    <tr>\n",
       "      <th>13</th>\n",
       "      <td>b</td>\n",
       "      <td>Reuters</td>\n",
       "      <td>Europe reaches crunch point on banking union</td>\n",
       "      <td>10</td>\n",
       "      <td>Mon</td>\n",
       "      <td>article</td>\n",
       "      <td>03</td>\n",
       "      <td>0</td>\n",
       "      <td>0000</td>\n",
       "      <td>[eu, banks, resoluton]</td>\n",
       "      <td>INL6N0M71NJ</td>\n",
       "      <td>8640.0</td>\n",
       "    </tr>\n",
       "    <tr>\n",
       "      <th>14</th>\n",
       "      <td>b</td>\n",
       "      <td>Reuters</td>\n",
       "      <td>ECB FOCUS-Stronger euro drowns out ECB's messa...</td>\n",
       "      <td>10</td>\n",
       "      <td>Mon</td>\n",
       "      <td>article</td>\n",
       "      <td>03</td>\n",
       "      <td>0</td>\n",
       "      <td>0000</td>\n",
       "      <td>[ecb, policy]</td>\n",
       "      <td>INL6N0M71K3</td>\n",
       "      <td>8640.0</td>\n",
       "    </tr>\n",
       "    <tr>\n",
       "      <th>20</th>\n",
       "      <td>b</td>\n",
       "      <td>Businessweek</td>\n",
       "      <td>Euro Anxieties Wane as Bunds Top Treasuries, S...</td>\n",
       "      <td>10</td>\n",
       "      <td>Mon</td>\n",
       "      <td>news</td>\n",
       "      <td>03</td>\n",
       "      <td>0</td>\n",
       "      <td>0000</td>\n",
       "      <td>[german, bonds, beat, treasuries, with, yield,...</td>\n",
       "      <td></td>\n",
       "      <td>8640.0</td>\n",
       "    </tr>\n",
       "    <tr>\n",
       "      <th>21</th>\n",
       "      <td>b</td>\n",
       "      <td>Businessweek</td>\n",
       "      <td>Noyer Says Strong Euro Creates Unwarranted Eco...</td>\n",
       "      <td>10</td>\n",
       "      <td>Mon</td>\n",
       "      <td>news</td>\n",
       "      <td>03</td>\n",
       "      <td>0</td>\n",
       "      <td>0000</td>\n",
       "      <td>[noyer, says, stronger, euro, creates, unwarra...</td>\n",
       "      <td></td>\n",
       "      <td>8640.0</td>\n",
       "    </tr>\n",
       "    <tr>\n",
       "      <th>30</th>\n",
       "      <td>b</td>\n",
       "      <td>Reuters</td>\n",
       "      <td>REFILE-Bad loan triggers key feature in ECB ba...</td>\n",
       "      <td>10</td>\n",
       "      <td>Mon</td>\n",
       "      <td>article</td>\n",
       "      <td>03</td>\n",
       "      <td>0</td>\n",
       "      <td>0000</td>\n",
       "      <td>[eurozone, bank, tests]</td>\n",
       "      <td>INL6N0M71F0</td>\n",
       "      <td>8640.0</td>\n",
       "    </tr>\n",
       "    <tr>\n",
       "      <th>...</th>\n",
       "      <td>...</td>\n",
       "      <td>...</td>\n",
       "      <td>...</td>\n",
       "      <td>...</td>\n",
       "      <td>...</td>\n",
       "      <td>...</td>\n",
       "      <td>...</td>\n",
       "      <td>...</td>\n",
       "      <td>...</td>\n",
       "      <td>...</td>\n",
       "      <td>...</td>\n",
       "      <td>...</td>\n",
       "    </tr>\n",
       "    <tr>\n",
       "      <th>422819</th>\n",
       "      <td>m</td>\n",
       "      <td>Huffington Post</td>\n",
       "      <td>UN: Ebola Could Eventually Infect 20000 People</td>\n",
       "      <td>28</td>\n",
       "      <td>Thu</td>\n",
       "      <td>hp</td>\n",
       "      <td>08</td>\n",
       "      <td>4577</td>\n",
       "      <td>0000</td>\n",
       "      <td>[ebola, 20000, people]</td>\n",
       "      <td></td>\n",
       "      <td>254880.0</td>\n",
       "    </tr>\n",
       "    <tr>\n",
       "      <th>422820</th>\n",
       "      <td>m</td>\n",
       "      <td>Reuters</td>\n",
       "      <td>Ebola toll tops 1550, continues to accelerate ...</td>\n",
       "      <td>28</td>\n",
       "      <td>Thu</td>\n",
       "      <td>article</td>\n",
       "      <td>08</td>\n",
       "      <td>4577</td>\n",
       "      <td>0000</td>\n",
       "      <td>[health, ebola, toll]</td>\n",
       "      <td>INL5N0QY2GR</td>\n",
       "      <td>254880.0</td>\n",
       "    </tr>\n",
       "    <tr>\n",
       "      <th>422821</th>\n",
       "      <td>m</td>\n",
       "      <td>Reuters</td>\n",
       "      <td>UPDATE 1-Ebola toll tops 1550, outbreak accele...</td>\n",
       "      <td>28</td>\n",
       "      <td>Thu</td>\n",
       "      <td>article</td>\n",
       "      <td>08</td>\n",
       "      <td>4577</td>\n",
       "      <td>0000</td>\n",
       "      <td>[health, ebola, toll]</td>\n",
       "      <td>INL5N0QY2J7</td>\n",
       "      <td>254880.0</td>\n",
       "    </tr>\n",
       "    <tr>\n",
       "      <th>422828</th>\n",
       "      <td>m</td>\n",
       "      <td>Businessweek</td>\n",
       "      <td>Ebola Cases May Surpass 20000, WHO Says in Upd...</td>\n",
       "      <td>28</td>\n",
       "      <td>Thu</td>\n",
       "      <td>news</td>\n",
       "      <td>08</td>\n",
       "      <td>4577</td>\n",
       "      <td>0000</td>\n",
       "      <td>[ebola, cases, may, surpass, 20, 000, who, say...</td>\n",
       "      <td></td>\n",
       "      <td>254880.0</td>\n",
       "    </tr>\n",
       "    <tr>\n",
       "      <th>422838</th>\n",
       "      <td>m</td>\n",
       "      <td>Daily Mail</td>\n",
       "      <td>Air France suspends flights to Ebola-hit Sierr...</td>\n",
       "      <td>28</td>\n",
       "      <td>Thu</td>\n",
       "      <td>travel-travel_news</td>\n",
       "      <td>08</td>\n",
       "      <td>4577</td>\n",
       "      <td>2120</td>\n",
       "      <td>[Citing, Ebola, Air, France, suspends, flights]</td>\n",
       "      <td></td>\n",
       "      <td>256160.0</td>\n",
       "    </tr>\n",
       "  </tbody>\n",
       "</table>\n",
       "<p>13340 rows × 12 columns</p>\n",
       "</div>"
      ],
      "text/plain": [
       "       CATEGORY        PUBLISHER  \\\n",
       "ID                                 \n",
       "13            b          Reuters   \n",
       "14            b          Reuters   \n",
       "20            b     Businessweek   \n",
       "21            b     Businessweek   \n",
       "30            b          Reuters   \n",
       "...         ...              ...   \n",
       "422819        m  Huffington Post   \n",
       "422820        m          Reuters   \n",
       "422821        m          Reuters   \n",
       "422828        m     Businessweek   \n",
       "422838        m       Daily Mail   \n",
       "\n",
       "                                                    TITLE date  day  \\\n",
       "ID                                                                    \n",
       "13           Europe reaches crunch point on banking union   10  Mon   \n",
       "14      ECB FOCUS-Stronger euro drowns out ECB's messa...   10  Mon   \n",
       "20      Euro Anxieties Wane as Bunds Top Treasuries, S...   10  Mon   \n",
       "21      Noyer Says Strong Euro Creates Unwarranted Eco...   10  Mon   \n",
       "30      REFILE-Bad loan triggers key feature in ECB ba...   10  Mon   \n",
       "...                                                   ...  ...  ...   \n",
       "422819     UN: Ebola Could Eventually Infect 20000 People   28  Thu   \n",
       "422820  Ebola toll tops 1550, continues to accelerate ...   28  Thu   \n",
       "422821  UPDATE 1-Ebola toll tops 1550, outbreak accele...   28  Thu   \n",
       "422828  Ebola Cases May Surpass 20000, WHO Says in Upd...   28  Thu   \n",
       "422838  Air France suspends flights to Ebola-hit Sierr...   28  Thu   \n",
       "\n",
       "                     genre month story  time  \\\n",
       "ID                                             \n",
       "13                 article    03     0  0000   \n",
       "14                 article    03     0  0000   \n",
       "20                    news    03     0  0000   \n",
       "21                    news    03     0  0000   \n",
       "30                 article    03     0  0000   \n",
       "...                    ...   ...   ...   ...   \n",
       "422819                  hp    08  4577  0000   \n",
       "422820             article    08  4577  0000   \n",
       "422821             article    08  4577  0000   \n",
       "422828                news    08  4577  0000   \n",
       "422838  travel-travel_news    08  4577  2120   \n",
       "\n",
       "                                                      uri uri_features  \\\n",
       "ID                                                                       \n",
       "13                                 [eu, banks, resoluton]  INL6N0M71NJ   \n",
       "14                                          [ecb, policy]  INL6N0M71K3   \n",
       "20      [german, bonds, beat, treasuries, with, yield,...                \n",
       "21      [noyer, says, stronger, euro, creates, unwarra...                \n",
       "30                                [eurozone, bank, tests]  INL6N0M71F0   \n",
       "...                                                   ...          ...   \n",
       "422819                             [ebola, 20000, people]                \n",
       "422820                              [health, ebola, toll]  INL5N0QY2GR   \n",
       "422821                              [health, ebola, toll]  INL5N0QY2J7   \n",
       "422828  [ebola, cases, may, surpass, 20, 000, who, say...                \n",
       "422838    [Citing, Ebola, Air, France, suspends, flights]                \n",
       "\n",
       "              ts  \n",
       "ID                \n",
       "13        8640.0  \n",
       "14        8640.0  \n",
       "20        8640.0  \n",
       "21        8640.0  \n",
       "30        8640.0  \n",
       "...          ...  \n",
       "422819  254880.0  \n",
       "422820  254880.0  \n",
       "422821  254880.0  \n",
       "422828  254880.0  \n",
       "422838  256160.0  \n",
       "\n",
       "[13340 rows x 12 columns]"
      ]
     },
     "execution_count": 36,
     "metadata": {},
     "output_type": "execute_result"
    }
   ],
   "source": [
    "news"
   ]
  },
  {
   "cell_type": "markdown",
   "metadata": {},
   "source": [
    "# title"
   ]
  },
  {
   "cell_type": "code",
   "execution_count": 37,
   "metadata": {},
   "outputs": [],
   "source": [
    "news['TITLE'] = news['TITLE'].apply(lambda url:url.replace('—','-').replace('–','-').replace('`',\"'\").replace('“','\"').replace('\"',\"'\"))\n",
    "news['TITLE'] = news['TITLE'].apply(lambda url:url.replace('\t',' ').replace('\\n',' '))"
   ]
  },
  {
   "cell_type": "code",
   "execution_count": 38,
   "metadata": {},
   "outputs": [],
   "source": [
    "news['TITLE'] = news['TITLE'].apply(lambda title:title if \"\\\\\" not in title else \" \".join([word for word in title.split(\" \") if word[:5]!=\"http:\"]))"
   ]
  },
  {
   "cell_type": "code",
   "execution_count": 39,
   "metadata": {},
   "outputs": [],
   "source": [
    "for title in news['TITLE']:\n",
    "    for c in title:\n",
    "        if c in \" :/.-=&;?+%()',$[]>!#|*…\": continue\n",
    "        if 'A'<=c<='Z': continue\n",
    "        if 'a'<=c<='z': continue\n",
    "        if '0'<=c<='9': continue\n",
    "        if c in 'âáíéœ€™Ã©£@˜äëö': continue\n",
    "        raise Exception(c,title)"
   ]
  },
  {
   "cell_type": "code",
   "execution_count": 40,
   "metadata": {},
   "outputs": [
    {
     "data": {
      "text/plain": [
       "Deals of the day- Mergers and acquisitions                                                7\n",
       "India Morning Call-Global Markets                                                         5\n",
       "The top films at the North American box office                                            5\n",
       "Iraq concerns lift top-rated euro zone bonds but Fed limits gains                         3\n",
       "While no deals are in place yet, Williams and Chris Columbus are in talks to join  ...    3\n",
       "                                                                                         ..\n",
       "Paul McCartney cancels Out There Japan Tour due to virus                                  1\n",
       "Amazon Adds Digital Comic Books to Its Content Super Team                                 1\n",
       "US corn ratings rise above market view, soybean ratings dip                               1\n",
       "China Plans Change to Opening-Price Mechanism of Money Rates (1)                          1\n",
       "Twitter Shares Plunge as Insider Lockup Expires                                           1\n",
       "Name: TITLE, Length: 13085, dtype: int64"
      ]
     },
     "execution_count": 40,
     "metadata": {},
     "output_type": "execute_result"
    }
   ],
   "source": [
    "news['TITLE'].value_counts()"
   ]
  },
  {
   "cell_type": "code",
   "execution_count": 41,
   "metadata": {},
   "outputs": [],
   "source": [
    "def remove_(li):\n",
    "    ret = []\n",
    "    for elm in li:\n",
    "        elm = elm.strip('.,:()<>\\'\"-|')\n",
    "        if elm == \"\": continue\n",
    "        ret.append(elm)\n",
    "    return ret"
   ]
  },
  {
   "cell_type": "markdown",
   "metadata": {},
   "source": [
    "### => natural language toolkitを用いたものはdata_features_text_nltk.ipynb にて"
   ]
  },
  {
   "cell_type": "code",
   "execution_count": 42,
   "metadata": {},
   "outputs": [],
   "source": [
    "news = news[[\"CATEGORY\",\"PUBLISHER\",\"genre\",\"TITLE\",\"uri\",\"story\",\"uri_features\",\"month\",\"date\",\"day\",\"time\",\"ts\"]]"
   ]
  },
  {
   "cell_type": "code",
   "execution_count": 43,
   "metadata": {},
   "outputs": [],
   "source": [
    "news['uri'] = news['uri'].apply(remove_)\n",
    "news['uri'] = news['uri'].apply(lambda uri:','.join(uri))"
   ]
  },
  {
   "cell_type": "code",
   "execution_count": 44,
   "metadata": {},
   "outputs": [],
   "source": [
    "news.to_csv('news_mod_0.csv')"
   ]
  },
  {
   "cell_type": "code",
   "execution_count": 45,
   "metadata": {},
   "outputs": [],
   "source": [
    "news.loc[:,'title'] = news.loc[:,'TITLE'].apply(lambda x:x.split(\" \"))\n",
    "news = news.drop('TITLE',axis=1)"
   ]
  },
  {
   "cell_type": "code",
   "execution_count": 46,
   "metadata": {},
   "outputs": [],
   "source": [
    "news['title'] = news['title'].apply(remove_)\n",
    "news['title'] = news['title'].apply(lambda title:' '.join(title))"
   ]
  },
  {
   "cell_type": "code",
   "execution_count": 47,
   "metadata": {},
   "outputs": [
    {
     "data": {
      "text/html": [
       "<div>\n",
       "<style scoped>\n",
       "    .dataframe tbody tr th:only-of-type {\n",
       "        vertical-align: middle;\n",
       "    }\n",
       "\n",
       "    .dataframe tbody tr th {\n",
       "        vertical-align: top;\n",
       "    }\n",
       "\n",
       "    .dataframe thead th {\n",
       "        text-align: right;\n",
       "    }\n",
       "</style>\n",
       "<table border=\"1\" class=\"dataframe\">\n",
       "  <thead>\n",
       "    <tr style=\"text-align: right;\">\n",
       "      <th></th>\n",
       "      <th>CATEGORY</th>\n",
       "      <th>PUBLISHER</th>\n",
       "      <th>genre</th>\n",
       "      <th>uri</th>\n",
       "      <th>story</th>\n",
       "      <th>uri_features</th>\n",
       "      <th>month</th>\n",
       "      <th>date</th>\n",
       "      <th>day</th>\n",
       "      <th>time</th>\n",
       "      <th>ts</th>\n",
       "      <th>title</th>\n",
       "    </tr>\n",
       "    <tr>\n",
       "      <th>ID</th>\n",
       "      <th></th>\n",
       "      <th></th>\n",
       "      <th></th>\n",
       "      <th></th>\n",
       "      <th></th>\n",
       "      <th></th>\n",
       "      <th></th>\n",
       "      <th></th>\n",
       "      <th></th>\n",
       "      <th></th>\n",
       "      <th></th>\n",
       "      <th></th>\n",
       "    </tr>\n",
       "  </thead>\n",
       "  <tbody>\n",
       "    <tr>\n",
       "      <th>13</th>\n",
       "      <td>b</td>\n",
       "      <td>Reuters</td>\n",
       "      <td>article</td>\n",
       "      <td>eu,banks,resoluton</td>\n",
       "      <td>0</td>\n",
       "      <td>INL6N0M71NJ</td>\n",
       "      <td>03</td>\n",
       "      <td>10</td>\n",
       "      <td>Mon</td>\n",
       "      <td>0000</td>\n",
       "      <td>8640.0</td>\n",
       "      <td>Europe reaches crunch point on banking union</td>\n",
       "    </tr>\n",
       "    <tr>\n",
       "      <th>14</th>\n",
       "      <td>b</td>\n",
       "      <td>Reuters</td>\n",
       "      <td>article</td>\n",
       "      <td>ecb,policy</td>\n",
       "      <td>0</td>\n",
       "      <td>INL6N0M71K3</td>\n",
       "      <td>03</td>\n",
       "      <td>10</td>\n",
       "      <td>Mon</td>\n",
       "      <td>0000</td>\n",
       "      <td>8640.0</td>\n",
       "      <td>ECB FOCUS-Stronger euro drowns out ECB's messa...</td>\n",
       "    </tr>\n",
       "    <tr>\n",
       "      <th>20</th>\n",
       "      <td>b</td>\n",
       "      <td>Businessweek</td>\n",
       "      <td>news</td>\n",
       "      <td>german,bonds,beat,treasuries,with,yield,spread...</td>\n",
       "      <td>0</td>\n",
       "      <td></td>\n",
       "      <td>03</td>\n",
       "      <td>10</td>\n",
       "      <td>Mon</td>\n",
       "      <td>0000</td>\n",
       "      <td>8640.0</td>\n",
       "      <td>Euro Anxieties Wane as Bunds Top Treasuries Sp...</td>\n",
       "    </tr>\n",
       "    <tr>\n",
       "      <th>21</th>\n",
       "      <td>b</td>\n",
       "      <td>Businessweek</td>\n",
       "      <td>news</td>\n",
       "      <td>noyer,says,stronger,euro,creates,unwarranted,p...</td>\n",
       "      <td>0</td>\n",
       "      <td></td>\n",
       "      <td>03</td>\n",
       "      <td>10</td>\n",
       "      <td>Mon</td>\n",
       "      <td>0000</td>\n",
       "      <td>8640.0</td>\n",
       "      <td>Noyer Says Strong Euro Creates Unwarranted Eco...</td>\n",
       "    </tr>\n",
       "    <tr>\n",
       "      <th>30</th>\n",
       "      <td>b</td>\n",
       "      <td>Reuters</td>\n",
       "      <td>article</td>\n",
       "      <td>eurozone,bank,tests</td>\n",
       "      <td>0</td>\n",
       "      <td>INL6N0M71F0</td>\n",
       "      <td>03</td>\n",
       "      <td>10</td>\n",
       "      <td>Mon</td>\n",
       "      <td>0000</td>\n",
       "      <td>8640.0</td>\n",
       "      <td>REFILE-Bad loan triggers key feature in ECB ba...</td>\n",
       "    </tr>\n",
       "    <tr>\n",
       "      <th>...</th>\n",
       "      <td>...</td>\n",
       "      <td>...</td>\n",
       "      <td>...</td>\n",
       "      <td>...</td>\n",
       "      <td>...</td>\n",
       "      <td>...</td>\n",
       "      <td>...</td>\n",
       "      <td>...</td>\n",
       "      <td>...</td>\n",
       "      <td>...</td>\n",
       "      <td>...</td>\n",
       "      <td>...</td>\n",
       "    </tr>\n",
       "    <tr>\n",
       "      <th>422819</th>\n",
       "      <td>m</td>\n",
       "      <td>Huffington Post</td>\n",
       "      <td>hp</td>\n",
       "      <td>ebola,20000,people</td>\n",
       "      <td>4577</td>\n",
       "      <td></td>\n",
       "      <td>08</td>\n",
       "      <td>28</td>\n",
       "      <td>Thu</td>\n",
       "      <td>0000</td>\n",
       "      <td>254880.0</td>\n",
       "      <td>UN Ebola Could Eventually Infect 20000 People</td>\n",
       "    </tr>\n",
       "    <tr>\n",
       "      <th>422820</th>\n",
       "      <td>m</td>\n",
       "      <td>Reuters</td>\n",
       "      <td>article</td>\n",
       "      <td>health,ebola,toll</td>\n",
       "      <td>4577</td>\n",
       "      <td>INL5N0QY2GR</td>\n",
       "      <td>08</td>\n",
       "      <td>28</td>\n",
       "      <td>Thu</td>\n",
       "      <td>0000</td>\n",
       "      <td>254880.0</td>\n",
       "      <td>Ebola toll tops 1550 continues to accelerate WHO</td>\n",
       "    </tr>\n",
       "    <tr>\n",
       "      <th>422821</th>\n",
       "      <td>m</td>\n",
       "      <td>Reuters</td>\n",
       "      <td>article</td>\n",
       "      <td>health,ebola,toll</td>\n",
       "      <td>4577</td>\n",
       "      <td>INL5N0QY2J7</td>\n",
       "      <td>08</td>\n",
       "      <td>28</td>\n",
       "      <td>Thu</td>\n",
       "      <td>0000</td>\n",
       "      <td>254880.0</td>\n",
       "      <td>UPDATE 1-Ebola toll tops 1550 outbreak acceler...</td>\n",
       "    </tr>\n",
       "    <tr>\n",
       "      <th>422828</th>\n",
       "      <td>m</td>\n",
       "      <td>Businessweek</td>\n",
       "      <td>news</td>\n",
       "      <td>ebola,cases,may,surpass,20,000,who,says,in,upd...</td>\n",
       "      <td>4577</td>\n",
       "      <td></td>\n",
       "      <td>08</td>\n",
       "      <td>28</td>\n",
       "      <td>Thu</td>\n",
       "      <td>0000</td>\n",
       "      <td>254880.0</td>\n",
       "      <td>Ebola Cases May Surpass 20000 WHO Says in Upda...</td>\n",
       "    </tr>\n",
       "    <tr>\n",
       "      <th>422838</th>\n",
       "      <td>m</td>\n",
       "      <td>Daily Mail</td>\n",
       "      <td>travel-travel_news</td>\n",
       "      <td>Citing,Ebola,Air,France,suspends,flights</td>\n",
       "      <td>4577</td>\n",
       "      <td></td>\n",
       "      <td>08</td>\n",
       "      <td>28</td>\n",
       "      <td>Thu</td>\n",
       "      <td>2120</td>\n",
       "      <td>256160.0</td>\n",
       "      <td>Air France suspends flights to Ebola-hit Sierr...</td>\n",
       "    </tr>\n",
       "  </tbody>\n",
       "</table>\n",
       "<p>13340 rows × 12 columns</p>\n",
       "</div>"
      ],
      "text/plain": [
       "       CATEGORY        PUBLISHER               genre  \\\n",
       "ID                                                     \n",
       "13            b          Reuters             article   \n",
       "14            b          Reuters             article   \n",
       "20            b     Businessweek                news   \n",
       "21            b     Businessweek                news   \n",
       "30            b          Reuters             article   \n",
       "...         ...              ...                 ...   \n",
       "422819        m  Huffington Post                  hp   \n",
       "422820        m          Reuters             article   \n",
       "422821        m          Reuters             article   \n",
       "422828        m     Businessweek                news   \n",
       "422838        m       Daily Mail  travel-travel_news   \n",
       "\n",
       "                                                      uri story uri_features  \\\n",
       "ID                                                                             \n",
       "13                                     eu,banks,resoluton     0  INL6N0M71NJ   \n",
       "14                                             ecb,policy     0  INL6N0M71K3   \n",
       "20      german,bonds,beat,treasuries,with,yield,spread...     0                \n",
       "21      noyer,says,stronger,euro,creates,unwarranted,p...     0                \n",
       "30                                    eurozone,bank,tests     0  INL6N0M71F0   \n",
       "...                                                   ...   ...          ...   \n",
       "422819                                 ebola,20000,people  4577                \n",
       "422820                                  health,ebola,toll  4577  INL5N0QY2GR   \n",
       "422821                                  health,ebola,toll  4577  INL5N0QY2J7   \n",
       "422828  ebola,cases,may,surpass,20,000,who,says,in,upd...  4577                \n",
       "422838           Citing,Ebola,Air,France,suspends,flights  4577                \n",
       "\n",
       "       month date  day  time        ts  \\\n",
       "ID                                       \n",
       "13        03   10  Mon  0000    8640.0   \n",
       "14        03   10  Mon  0000    8640.0   \n",
       "20        03   10  Mon  0000    8640.0   \n",
       "21        03   10  Mon  0000    8640.0   \n",
       "30        03   10  Mon  0000    8640.0   \n",
       "...      ...  ...  ...   ...       ...   \n",
       "422819    08   28  Thu  0000  254880.0   \n",
       "422820    08   28  Thu  0000  254880.0   \n",
       "422821    08   28  Thu  0000  254880.0   \n",
       "422828    08   28  Thu  0000  254880.0   \n",
       "422838    08   28  Thu  2120  256160.0   \n",
       "\n",
       "                                                    title  \n",
       "ID                                                         \n",
       "13           Europe reaches crunch point on banking union  \n",
       "14      ECB FOCUS-Stronger euro drowns out ECB's messa...  \n",
       "20      Euro Anxieties Wane as Bunds Top Treasuries Sp...  \n",
       "21      Noyer Says Strong Euro Creates Unwarranted Eco...  \n",
       "30      REFILE-Bad loan triggers key feature in ECB ba...  \n",
       "...                                                   ...  \n",
       "422819      UN Ebola Could Eventually Infect 20000 People  \n",
       "422820   Ebola toll tops 1550 continues to accelerate WHO  \n",
       "422821  UPDATE 1-Ebola toll tops 1550 outbreak acceler...  \n",
       "422828  Ebola Cases May Surpass 20000 WHO Says in Upda...  \n",
       "422838  Air France suspends flights to Ebola-hit Sierr...  \n",
       "\n",
       "[13340 rows x 12 columns]"
      ]
     },
     "execution_count": 47,
     "metadata": {},
     "output_type": "execute_result"
    }
   ],
   "source": [
    "news"
   ]
  },
  {
   "cell_type": "code",
   "execution_count": 48,
   "metadata": {},
   "outputs": [],
   "source": [
    "news.to_csv('news_mod_1.csv')"
   ]
  },
  {
   "cell_type": "code",
   "execution_count": null,
   "metadata": {},
   "outputs": [],
   "source": []
  },
  {
   "cell_type": "code",
   "execution_count": null,
   "metadata": {},
   "outputs": [],
   "source": []
  },
  {
   "cell_type": "markdown",
   "metadata": {},
   "source": [
    "# ================= ここまで。下は残骸、メモのため残しているだけ"
   ]
  },
  {
   "cell_type": "markdown",
   "metadata": {},
   "source": [
    "### tf-idfを考える\n",
    "しかし、tfについてはタイトル中に複数回、重要語が出てくるわけではない(接続詞や助詞が回数多くなる)ため、idfのみを考えることにする"
   ]
  },
  {
   "cell_type": "code",
   "execution_count": 53,
   "metadata": {},
   "outputs": [],
   "source": [
    "import math\n",
    "def gen_idf(df,colname):\n",
    "    dic = {}\n",
    "    for _, row in news.iterrows():\n",
    "        if type(row[colname])!=list and math.isnan(row[colname]): row[colname] = []\n",
    "        for word in row[colname]:\n",
    "            dic.setdefault(word,0)\n",
    "            dic[word] += 1\n",
    "    s = sum(dic.values())\n",
    "    return lambda word:{k:math.log(s/v) for k,v in dic.items()}[word]"
   ]
  },
  {
   "cell_type": "code",
   "execution_count": 51,
   "metadata": {},
   "outputs": [],
   "source": [
    "idf_title = gen_idf(news,'title')\n",
    "idf_url   = gen_idf(news,'bow')"
   ]
  },
  {
   "cell_type": "code",
   "execution_count": null,
   "metadata": {},
   "outputs": [],
   "source": [
    "s = set()\n",
    "for _, row in news.iterrows():\n",
    "    for title in row['title']:\n",
    "        print(title)\n",
    "        break\n",
    "        s |= set([w for w in title])"
   ]
  },
  {
   "cell_type": "code",
   "execution_count": 57,
   "metadata": {},
   "outputs": [
    {
     "name": "stdout",
     "output_type": "stream",
     "text": [
      "7.972163366380657\n"
     ]
    },
    {
     "ename": "KeyError",
     "evalue": "'y'",
     "output_type": "error",
     "traceback": [
      "\u001b[0;31m---------------------------------------------------------------------------\u001b[0m",
      "\u001b[0;31mKeyError\u001b[0m                                  Traceback (most recent call last)",
      "\u001b[0;32m<ipython-input-57-9c181295dde8>\u001b[0m in \u001b[0;36m<module>\u001b[0;34m\u001b[0m\n\u001b[1;32m      1\u001b[0m \u001b[0;32mfor\u001b[0m \u001b[0mw\u001b[0m \u001b[0;32min\u001b[0m \u001b[0ms\u001b[0m\u001b[0;34m:\u001b[0m\u001b[0;34m\u001b[0m\u001b[0;34m\u001b[0m\u001b[0m\n\u001b[0;32m----> 2\u001b[0;31m     \u001b[0mprint\u001b[0m\u001b[0;34m(\u001b[0m\u001b[0midf_title\u001b[0m\u001b[0;34m(\u001b[0m\u001b[0mw\u001b[0m\u001b[0;34m)\u001b[0m\u001b[0;34m)\u001b[0m\u001b[0;34m\u001b[0m\u001b[0;34m\u001b[0m\u001b[0m\n\u001b[0m",
      "\u001b[0;32m<ipython-input-49-65593a4fe36b>\u001b[0m in \u001b[0;36m<lambda>\u001b[0;34m(word)\u001b[0m\n\u001b[1;32m      7\u001b[0m             \u001b[0mdic\u001b[0m\u001b[0;34m[\u001b[0m\u001b[0mword\u001b[0m\u001b[0;34m]\u001b[0m \u001b[0;34m+=\u001b[0m \u001b[0;36m1\u001b[0m\u001b[0;34m\u001b[0m\u001b[0;34m\u001b[0m\u001b[0m\n\u001b[1;32m      8\u001b[0m     \u001b[0ms\u001b[0m \u001b[0;34m=\u001b[0m \u001b[0msum\u001b[0m\u001b[0;34m(\u001b[0m\u001b[0mdic\u001b[0m\u001b[0;34m.\u001b[0m\u001b[0mvalues\u001b[0m\u001b[0;34m(\u001b[0m\u001b[0;34m)\u001b[0m\u001b[0;34m)\u001b[0m\u001b[0;34m\u001b[0m\u001b[0;34m\u001b[0m\u001b[0m\n\u001b[0;32m----> 9\u001b[0;31m     \u001b[0;32mreturn\u001b[0m \u001b[0;32mlambda\u001b[0m \u001b[0mword\u001b[0m\u001b[0;34m:\u001b[0m\u001b[0;34m{\u001b[0m\u001b[0mk\u001b[0m\u001b[0;34m:\u001b[0m\u001b[0mmath\u001b[0m\u001b[0;34m.\u001b[0m\u001b[0mlog\u001b[0m\u001b[0;34m(\u001b[0m\u001b[0ms\u001b[0m\u001b[0;34m/\u001b[0m\u001b[0mv\u001b[0m\u001b[0;34m)\u001b[0m \u001b[0;32mfor\u001b[0m \u001b[0mk\u001b[0m\u001b[0;34m,\u001b[0m\u001b[0mv\u001b[0m \u001b[0;32min\u001b[0m \u001b[0mdic\u001b[0m\u001b[0;34m.\u001b[0m\u001b[0mitems\u001b[0m\u001b[0;34m(\u001b[0m\u001b[0;34m)\u001b[0m\u001b[0;34m}\u001b[0m\u001b[0;34m[\u001b[0m\u001b[0mword\u001b[0m\u001b[0;34m]\u001b[0m\u001b[0;34m\u001b[0m\u001b[0;34m\u001b[0m\u001b[0m\n\u001b[0m",
      "\u001b[0;31mKeyError\u001b[0m: 'y'"
     ]
    }
   ],
   "source": [
    "for w in s:\n",
    "    print(idf_title(w))"
   ]
  },
  {
   "cell_type": "code",
   "execution_count": null,
   "metadata": {},
   "outputs": [],
   "source": [
    "def gen_tf(dic,word,index):\n",
    "    dic[index][word] = "
   ]
  },
  {
   "cell_type": "markdown",
   "metadata": {},
   "source": [
    "### urlだけ"
   ]
  },
  {
   "cell_type": "code",
   "execution_count": 29,
   "metadata": {},
   "outputs": [
    {
     "name": "stdout",
     "output_type": "stream",
     "text": [
      "log: to and to is same\n",
      "log: markets and markets is same\n",
      "log: To and to is same\n"
     ]
    },
    {
     "ename": "KeyError",
     "evalue": "'to'",
     "output_type": "error",
     "traceback": [
      "\u001b[0;31m---------------------------------------------------------------------------\u001b[0m",
      "\u001b[0;31mKeyError\u001b[0m                                  Traceback (most recent call last)",
      "\u001b[0;32m<ipython-input-29-83b45020c14a>\u001b[0m in \u001b[0;36m<module>\u001b[0;34m\u001b[0m\n\u001b[0;32m----> 1\u001b[0;31m \u001b[0mcheck\u001b[0m\u001b[0;34m(\u001b[0m\u001b[0mdic_url\u001b[0m\u001b[0;34m,\u001b[0m\u001b[0;32mlambda\u001b[0m \u001b[0mx\u001b[0m\u001b[0;34m:\u001b[0m\u001b[0mx\u001b[0m\u001b[0;34m.\u001b[0m\u001b[0mlower\u001b[0m\u001b[0;34m(\u001b[0m\u001b[0;34m)\u001b[0m\u001b[0;34m,\u001b[0m\u001b[0;36m0.01\u001b[0m\u001b[0;34m)\u001b[0m\u001b[0;34m\u001b[0m\u001b[0;34m\u001b[0m\u001b[0m\n\u001b[0m",
      "\u001b[0;32m<ipython-input-28-e092ef5416a6>\u001b[0m in \u001b[0;36mcheck\u001b[0;34m(dic, f, thr)\u001b[0m\n\u001b[1;32m      4\u001b[0m         \u001b[0;32mif\u001b[0m \u001b[0mf\u001b[0m\u001b[0;34m(\u001b[0m\u001b[0mkey\u001b[0m\u001b[0;34m)\u001b[0m \u001b[0;32min\u001b[0m \u001b[0mdic\u001b[0m\u001b[0;34m.\u001b[0m\u001b[0mkeys\u001b[0m\u001b[0;34m(\u001b[0m\u001b[0;34m)\u001b[0m \u001b[0;32mand\u001b[0m \u001b[0mdic\u001b[0m\u001b[0;34m[\u001b[0m\u001b[0mf\u001b[0m\u001b[0;34m(\u001b[0m\u001b[0mkey\u001b[0m\u001b[0;34m)\u001b[0m\u001b[0;34m]\u001b[0m \u001b[0;34m>\u001b[0m \u001b[0mthr\u001b[0m\u001b[0;34m:\u001b[0m\u001b[0;34m\u001b[0m\u001b[0;34m\u001b[0m\u001b[0m\n\u001b[1;32m      5\u001b[0m             \u001b[0mprint\u001b[0m\u001b[0;34m(\u001b[0m\u001b[0;34m'log: {} and {} is same'\u001b[0m\u001b[0;34m.\u001b[0m\u001b[0mformat\u001b[0m\u001b[0;34m(\u001b[0m\u001b[0mkey\u001b[0m\u001b[0;34m,\u001b[0m \u001b[0mf\u001b[0m\u001b[0;34m(\u001b[0m\u001b[0mkey\u001b[0m\u001b[0;34m)\u001b[0m\u001b[0;34m)\u001b[0m\u001b[0;34m)\u001b[0m\u001b[0;34m\u001b[0m\u001b[0;34m\u001b[0m\u001b[0m\n\u001b[0;32m----> 6\u001b[0;31m             \u001b[0mret\u001b[0m\u001b[0;34m[\u001b[0m\u001b[0mf\u001b[0m\u001b[0;34m(\u001b[0m\u001b[0mkey\u001b[0m\u001b[0;34m)\u001b[0m\u001b[0;34m]\u001b[0m\u001b[0;34m+=\u001b[0m\u001b[0mdic\u001b[0m\u001b[0;34m[\u001b[0m\u001b[0mkey\u001b[0m\u001b[0;34m]\u001b[0m\u001b[0;34m\u001b[0m\u001b[0;34m\u001b[0m\u001b[0m\n\u001b[0m\u001b[1;32m      7\u001b[0m             \u001b[0;32mdel\u001b[0m \u001b[0mret\u001b[0m\u001b[0;34m[\u001b[0m\u001b[0mkey\u001b[0m\u001b[0;34m]\u001b[0m\u001b[0;34m\u001b[0m\u001b[0;34m\u001b[0m\u001b[0m\n\u001b[1;32m      8\u001b[0m     \u001b[0;32mreturn\u001b[0m \u001b[0mret\u001b[0m\u001b[0;34m\u001b[0m\u001b[0;34m\u001b[0m\u001b[0m\n",
      "\u001b[0;31mKeyError\u001b[0m: 'to'"
     ]
    }
   ],
   "source": [
    "check(dic_url,lambda x:x.lower(),0.01)"
   ]
  },
  {
   "cell_type": "code",
   "execution_count": null,
   "metadata": {},
   "outputs": [],
   "source": []
  },
  {
   "cell_type": "markdown",
   "metadata": {},
   "source": [
    "### titleだけ"
   ]
  },
  {
   "cell_type": "code",
   "execution_count": 74,
   "metadata": {},
   "outputs": [
    {
     "data": {
      "text/plain": [
       "142057"
      ]
     },
     "execution_count": 74,
     "metadata": {},
     "output_type": "execute_result"
    }
   ],
   "source": [
    "sum(map(lambda x:x[1],dic_title.items()))"
   ]
  },
  {
   "cell_type": "code",
   "execution_count": null,
   "metadata": {
    "scrolled": true
   },
   "outputs": [],
   "source": [
    "dic_title"
   ]
  },
  {
   "cell_type": "code",
   "execution_count": null,
   "metadata": {},
   "outputs": [],
   "source": []
  },
  {
   "cell_type": "code",
   "execution_count": 143,
   "metadata": {},
   "outputs": [],
   "source": [
    "STOPWORDS = [\"\",\"IN\",\"OF\",\"AND\",\"TO\",\"FOR\",\"ON\",\"THE\",\"AS\",\"A\",\"IS\",\"OFF\",\"AT\",\"WITH\",\"AFTER\",\"UP\"]"
   ]
  },
  {
   "cell_type": "code",
   "execution_count": 34,
   "metadata": {},
   "outputs": [],
   "source": [
    "def compare_tuple(a,b):\n",
    "    return sum([i!=j for i,j in zip(a,b)])==0"
   ]
  },
  {
   "cell_type": "code",
   "execution_count": 148,
   "metadata": {},
   "outputs": [],
   "source": [
    "def ext_ngram(text,n,ignore_case=True):\n",
    "    if ignore_case: text = text.upper()\n",
    "    words = list(filter(lambda w:w not in STOPWORDS,set([word.strip('.,:()<>\\'\"—-') for word in text.split(' ')])))\n",
    "    if len(words)<n: return ()\n",
    "    return [tuple(words[i:i+n]) for i in range(len(words)-n+1)]"
   ]
  },
  {
   "cell_type": "code",
   "execution_count": 149,
   "metadata": {},
   "outputs": [],
   "source": [
    "def create_unique_ngram(n,binary_counts=True,ignore_case=True):\n",
    "    dic = {}\n",
    "    for title in news['TITLE']:\n",
    "        ret = ext_ngram(title,n,ignore_case)\n",
    "        if binary_counts: ret = set(ret)\n",
    "        for ngram in ret:\n",
    "            dic.setdefault(ngram,0)\n",
    "            dic[ngram] += 1\n",
    "    return dic"
   ]
  },
  {
   "cell_type": "code",
   "execution_count": 150,
   "metadata": {},
   "outputs": [],
   "source": [
    "def ext_collocation(text,ignore_case=True):\n",
    "    if ignore_case: text = text.upper()\n",
    "    words = list(filter(lambda w:w not in STOPWORDS,set([word.strip('.,:()<>\\'\"—-') for word in text.split(' ')])))\n",
    "    return [(words[i],words[j]) if words[i]<words[j] else (words[j],words[i]) for i in range(len(words)) for j in range(i+1,len(words))]"
   ]
  },
  {
   "cell_type": "code",
   "execution_count": 151,
   "metadata": {},
   "outputs": [],
   "source": [
    "def create_collocation(ignore_case=True):\n",
    "    dic = {}\n",
    "    for title in news['TITLE']:\n",
    "        ret = ext_collocation(title,ignore_case)\n",
    "        for collocation in ret:\n",
    "            dic.setdefault(collocation,0)\n",
    "            dic[collocation] += 1\n",
    "    return dic"
   ]
  },
  {
   "cell_type": "code",
   "execution_count": 175,
   "metadata": {},
   "outputs": [
    {
     "name": "stdout",
     "output_type": "stream",
     "text": [
      "[(('KARDASHIAN', 'KIM'), 233), (('CYRUS', 'MILEY'), 149), (('ST', 'US'), 133), (('UPDATE', 'US'), 126), (('STOCKS', 'US'), 109), (('NEW', 'YORK'), 103), (('KANYE', 'WEST'), 102), (('KANYE', 'KIM'), 101), (('STOCKS-WALL', 'US'), 98), (('ST', 'STOCKS-WALL'), 94)]\n"
     ]
    }
   ],
   "source": [
    "print(list(filter(lambda x:10<x[1],sorted(create_collocation().items(), key=lambda x:x[1], reverse=True)))[:10])"
   ]
  },
  {
   "cell_type": "code",
   "execution_count": 170,
   "metadata": {},
   "outputs": [
    {
     "name": "stdout",
     "output_type": "stream",
     "text": [
      "[(('UPDATE',), 1280), (('US',), 1059), (('NEW',), 651), (('SAYS',), 506), (('FROM',), 474), (('BY',), 419), (('OVER',), 318), (('KARDASHIAN',), 304), (('HER',), 298), (('BE',), 289)]\n"
     ]
    }
   ],
   "source": [
    "print(list(filter(lambda x:10<x[1],sorted(create_unique_ngram(1).items(), key=lambda x:x[1], reverse=True)))[:10])"
   ]
  },
  {
   "cell_type": "code",
   "execution_count": 596,
   "metadata": {},
   "outputs": [
    {
     "data": {
      "text/plain": [
       "59"
      ]
     },
     "execution_count": 596,
     "metadata": {},
     "output_type": "execute_result"
    }
   ],
   "source": [
    "create_unique_ngram(1)[('HONG',)]"
   ]
  },
  {
   "cell_type": "code",
   "execution_count": 171,
   "metadata": {},
   "outputs": [
    {
     "name": "stdout",
     "output_type": "stream",
     "text": [
      "[(('THRONES', 'GAME'), 61), (('HONG', 'KONG'), 50), (('LINDSAY', 'LOHAN'), 48), (('OUTLOOK', 'AFFIRMS'), 40), (('EURO', 'ECB'), 39), (('US', 'SNAPSHOT-WALL'), 36), (('KARDASHIAN', 'WEST'), 35), (('STOCKS', 'ST'), 34), (('CLIMATE', 'CHANGE'), 32), (('STOCKS', 'GLOBAL'), 29)]\n"
     ]
    }
   ],
   "source": [
    "print(list(filter(lambda x:10<x[1],sorted(create_unique_ngram(2).items(), key=lambda x:x[1], reverse=True)))[:10])"
   ]
  },
  {
   "cell_type": "code",
   "execution_count": 172,
   "metadata": {},
   "outputs": [
    {
     "name": "stdout",
     "output_type": "stream",
     "text": [
      "[(('FITCH', 'OUTLOOK', 'AFFIRMS'), 23), (('US', 'SNAPSHOT-WALL', 'OPENS'), 11)]\n"
     ]
    }
   ],
   "source": [
    "print(list(filter(lambda x:10<x[1],sorted(create_unique_ngram(3).items(), key=lambda x:x[1], reverse=True)))[:10])"
   ]
  },
  {
   "cell_type": "code",
   "execution_count": 173,
   "metadata": {},
   "outputs": [
    {
     "name": "stdout",
     "output_type": "stream",
     "text": [
      "[]\n"
     ]
    }
   ],
   "source": [
    "print(list(filter(lambda x:10<x[1],sorted(create_unique_ngram(4).items(), key=lambda x:x[1], reverse=True)))[:10])"
   ]
  },
  {
   "cell_type": "code",
   "execution_count": 31,
   "metadata": {},
   "outputs": [
    {
     "data": {
      "text/plain": [
       "ID\n",
       "13        [[EUROPE, REACHES, CRUNCH], [REACHES, CRUNCH, ...\n",
       "14        [[ECB, FOCUS-STRONGER, EURO], [FOCUS-STRONGER,...\n",
       "20        [[EURO, ANXIETIES, WANE], [ANXIETIES, WANE, AS...\n",
       "21        [[NOYER, SAYS, STRONG], [SAYS, STRONG, EURO], ...\n",
       "30        [[REFILE-BAD, LOAN, TRIGGERS], [LOAN, TRIGGERS...\n",
       "                                ...                        \n",
       "422819    [[UN, EBOLA, COULD], [EBOLA, COULD, EVENTUALLY...\n",
       "422820    [[EBOLA, TOLL, TOPS], [TOLL, TOPS, 1550], [TOP...\n",
       "422821    [[UPDATE, 1-EBOLA, TOLL], [1-EBOLA, TOLL, TOPS...\n",
       "422828    [[EBOLA, CASES, MAY], [CASES, MAY, SURPASS], [...\n",
       "422838    [[AIR, FRANCE, SUSPENDS], [FRANCE, SUSPENDS, F...\n",
       "Name: TITLE, Length: 13340, dtype: object"
      ]
     },
     "execution_count": 31,
     "metadata": {},
     "output_type": "execute_result"
    }
   ],
   "source": [
    "news['TITLE'].apply(lambda x:ext_ngram(x,n=3))"
   ]
  },
  {
   "cell_type": "code",
   "execution_count": null,
   "metadata": {},
   "outputs": [],
   "source": []
  },
  {
   "cell_type": "code",
   "execution_count": null,
   "metadata": {},
   "outputs": [],
   "source": []
  },
  {
   "cell_type": "code",
   "execution_count": null,
   "metadata": {},
   "outputs": [],
   "source": []
  }
 ],
 "metadata": {
  "kernelspec": {
   "display_name": "Python 3",
   "language": "python",
   "name": "python3"
  },
  "language_info": {
   "codemirror_mode": {
    "name": "ipython",
    "version": 3
   },
   "file_extension": ".py",
   "mimetype": "text/x-python",
   "name": "python",
   "nbconvert_exporter": "python",
   "pygments_lexer": "ipython3",
   "version": "3.8.2"
  }
 },
 "nbformat": 4,
 "nbformat_minor": 4
}
