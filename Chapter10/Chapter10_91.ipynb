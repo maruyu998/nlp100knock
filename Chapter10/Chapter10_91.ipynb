{
 "cells": [
  {
   "cell_type": "markdown",
   "metadata": {},
   "source": [
    "# 機械学習\n",
    "<p>本章では，日本語と英語の翻訳コーパスである<a href=\"http://www.phontron.com/kftt/index-ja.html\">京都フリー翻訳タスク (KFTT)</a>を用い，ニューラル機械翻訳モデルを構築する．ニューラル機械翻訳モデルの構築には，<a href=\"https://github.com/pytorch/fairseq\">fairseq</a>，<a href=\"https://github.com/huggingface/transformers\">Hugging Face Transformers</a>，<a href=\"https://github.com/OpenNMT/OpenNMT-py\">OpenNMT-py</a>などの既存のツールを活用せよ．</p>"
   ]
  },
  {
   "cell_type": "markdown",
   "metadata": {},
   "source": [
    "## 91. 機械翻訳モデルの訓練\n",
    "<p>90で準備したデータを用いて，ニューラル機械翻訳のモデルを学習せよ（ニューラルネットワークのモデルはTransformerやLSTMなど適当に選んでよい）．</p>"
   ]
  },
  {
   "cell_type": "markdown",
   "metadata": {},
   "source": [
    "#### load dictionary"
   ]
  },
  {
   "cell_type": "code",
   "execution_count": 1,
   "metadata": {},
   "outputs": [
    {
     "name": "stdout",
     "output_type": "stream",
     "text": [
      "23767 20176\n"
     ]
    }
   ],
   "source": [
    "if __name__ == '__main__':\n",
    "    import pickle\n",
    "    with open('model_logs/ja_dic.pickle', 'rb') as f: ja_dic = pickle.load(f)\n",
    "    with open('model_logs/en_dic.pickle', 'rb') as f: en_dic = pickle.load(f)\n",
    "    ja_dicsize = max(ja_dic.values())+1\n",
    "    en_dicsize = max(en_dic.values())+1\n",
    "    print(ja_dicsize, en_dicsize)"
   ]
  },
  {
   "cell_type": "markdown",
   "metadata": {},
   "source": [
    "#### create model"
   ]
  },
  {
   "cell_type": "code",
   "execution_count": 2,
   "metadata": {},
   "outputs": [],
   "source": [
    "import math\n",
    "import numpy as np\n",
    "import torch\n",
    "import torch.nn as nn\n",
    "import torch.nn.functional as F\n",
    "import torch.optim as optim\n",
    "from IPython.display import clear_output, display\n",
    "import matplotlib\n",
    "import matplotlib.pyplot as plt\n",
    "import warnings; warnings.simplefilter('ignore', matplotlib.MatplotlibDeprecationWarning)\n",
    "from fastai.text.models import PositionalEncoding"
   ]
  },
  {
   "cell_type": "code",
   "execution_count": 3,
   "metadata": {},
   "outputs": [],
   "source": [
    "if __name__ == '__main__':\n",
    "    !ls 20170201.tar.bz2 > /dev/null 2>&1 || ls entity_vector > /dev/null 2>&1 || wget -q http://www.cl.ecei.tohoku.ac.jp/~m-suzuki/jawiki_vector/data/20170201.tar.bz2\n",
    "    !ls 20170201.tar.bz2 > /dev/null 2>&1 && tar -jxvf 20170201.tar.bz2\n",
    "    !ls 20170201.tar.bz2 > /dev/null 2>&1 && rm 20170201.tar.bz2"
   ]
  },
  {
   "cell_type": "code",
   "execution_count": 4,
   "metadata": {},
   "outputs": [],
   "source": [
    "def init_embed(embed, dic, dim, path):\n",
    "    from gensim.models import KeyedVectors\n",
    "    from sklearn.decomposition import PCA\n",
    "    vectors = KeyedVectors.load_word2vec_format(path, binary=True)\n",
    "    pca_ids = []; pca_vecs = []\n",
    "    for k,v in dic.items():\n",
    "        if k in vectors: pca_vecs.append(vectors[k]); pca_ids.append(v)\n",
    "    pca_vecs = PCA(n_components=dim).fit(np.array(pca_vecs)).transform(np.array(pca_vecs))\n",
    "    for i,_id in enumerate(pca_ids):\n",
    "        embed.weight.data[_id] = torch.from_numpy(pca_vecs[i])\n",
    "    return embed\n",
    "def ja_init_embed(ja_dic, embed, dim): init_embed(embed, ja_dic, dim, path='entity_vector/entity_vector.model.bin')\n",
    "def en_init_embed(en_dic, embed, dim): init_embed(embed, en_dic, dim, path='../Chapter07/GoogleNews-vectors-negative300.bin')"
   ]
  },
  {
   "cell_type": "code",
   "execution_count": 5,
   "metadata": {},
   "outputs": [],
   "source": [
    "class Embedding(nn.Module):\n",
    "    def __init__(self, dict_size, hidden_size, output_size, drop, init_func=None, resnet=False, bottleneck=True):\n",
    "        super().__init__()\n",
    "        self.resnet = resnet\n",
    "        self.bottleneck = bottleneck\n",
    "        self.output_size = output_size\n",
    "        self.embedding = nn.Embedding(dict_size, hidden_size if bottleneck else output_size)\n",
    "        if bottleneck:\n",
    "            self.linear = nn.Linear(hidden_size, output_size-hidden_size if resnet else output_size, bias=False)\n",
    "        self.dropout = nn.Dropout(drop)\n",
    "        self.pos_enc = PositionalEncoding(output_size)\n",
    "        if init_func: init_func(self.embedding, hidden_size)\n",
    "        if bottleneck: nn.init.xavier_normal_(self.linear.weight)\n",
    "        \n",
    "    def forward(self, inp):\n",
    "        inp = self.embedding(inp)\n",
    "        if self.bottleneck:\n",
    "            inp = torch.cat((inp, self.linear(inp)), dim=2) if self.resnet else self.linear(inp)\n",
    "        inp = self.dropout(inp)\n",
    "        pos = torch.arange(0, inp.size(1), device=inp.device).float()\n",
    "        inp = self.dropout(inp * math.sqrt(self.output_size) + self.pos_enc(pos))\n",
    "        return inp\n",
    "    \n",
    "class DisEmbedding(nn.Module):\n",
    "    def __init__(self, input_size, hidden_size, output_size, corEmbedding=None, bottleneck=True):\n",
    "        super().__init__()\n",
    "        self.bottleneck = bottleneck\n",
    "        self.linear1 = nn.Linear(input_size, hidden_size if bottleneck else output_size, bias=False)\n",
    "        if bottleneck:\n",
    "            self.linear2 = nn.Linear(hidden_size, output_size, bias=False)\n",
    "        if corEmbedding:\n",
    "            if corEmbedding.resnet: raise Exception(\"this disembedding does not support embedding resnet\")\n",
    "            if bottleneck:\n",
    "                self.linear1.weight = corEmbedding.linear.weight\n",
    "                self.linear1.forward = lambda inp:F.linear(inp, torch.t(self.linear1.weight))\n",
    "                self.linear2.weight = corEmbedding.embedding.weight\n",
    "            else: self.linear1.weight = corEmbedding.embedding.weight\n",
    "        else:\n",
    "            nn.init.xavier_normal_(self.linear1.weight)\n",
    "            if bottleneck:\n",
    "                nn.init.xavier_normal_(self.linear2.weight)\n",
    "        \n",
    "    def forward(self, inp):\n",
    "        return self.linear2(self.linear1(inp)) if self.bottleneck else self.linear1(inp)"
   ]
  },
  {
   "cell_type": "code",
   "execution_count": 6,
   "metadata": {},
   "outputs": [],
   "source": [
    "class Model(nn.Module):\n",
    "    def __init__(self, ja_dicsize, en_dicsize, embdim_m, embdim, drop=0.1, \n",
    "                 resnet=False, bottleneck=True, ja_init_embed=None, en_init_embed=None):\n",
    "        super().__init__(); torch.manual_seed(0); torch.cuda.manual_seed(0)\n",
    "        self.embdim = embdim\n",
    "        self.ja_emb = Embedding(ja_dicsize, embdim_m, embdim, drop, ja_init_embed, resnet, bottleneck)\n",
    "        self.en_emb = Embedding(en_dicsize, embdim_m, embdim, drop, en_init_embed, resnet, bottleneck)\n",
    "        self.en_dec = DisEmbedding(embdim, embdim_m, en_dicsize, self.en_emb, bottleneck)\n",
    "        self.dropout = nn.Dropout(drop)\n",
    "        self.transformer = nn.Transformer(d_model=embdim)\n",
    "        self.criterion = nn.CrossEntropyLoss(ignore_index=0)\n",
    "    \n",
    "    def predict(self, ja_seq, en_seq, *, mask=True):\n",
    "        ja = self.ja_emb(ja_seq)\n",
    "        en = self.en_emb(en_seq)\n",
    "        tgt_mask = self.transformer.generate_square_subsequent_mask(en.size(1)).to(ja.device) if mask else None\n",
    "        transformed = self.transformer(ja.permute(1,0,2), en.permute(1,0,2),\n",
    "                                       tgt_mask=tgt_mask,\n",
    "                                       src_key_padding_mask=(ja_seq==0), \n",
    "                                       tgt_key_padding_mask=(en_seq==0)).permute(1,0,2)\n",
    "        pred = self.en_dec(transformed)\n",
    "        return pred\n",
    "    \n",
    "    def loss(self, pred, en_ans):\n",
    "        batch_size, length = en_ans.shape[0], en_ans.shape[1]\n",
    "        ### train data:  eg. [BOS] I am a ... [PAD] ###\n",
    "        ### answer data: eg. I am a ... [EOS] [PAD] ###\n",
    "        \n",
    "        with torch.no_grad():\n",
    "            accuracy = float(torch.sum((pred.argmax(dim=2)==en_ans) * (en_ans!=0)))/float(torch.sum(en_ans!=0))\n",
    "        pred = pred.view(length*batch_size, -1)\n",
    "        en_ans = torch.reshape(en_ans,(length*batch_size,))\n",
    "        loss = self.criterion(pred, en_ans)\n",
    "        return loss, accuracy\n",
    "    \n",
    "    def forward(self, ja_seq, en_seq, en_ans_seq):\n",
    "        pred = self.predict(ja_seq, en_seq)\n",
    "        return self.loss(pred, en_ans_seq)"
   ]
  },
  {
   "cell_type": "markdown",
   "metadata": {},
   "source": [
    "#### create translator"
   ]
  },
  {
   "cell_type": "code",
   "execution_count": 7,
   "metadata": {},
   "outputs": [],
   "source": [
    "class Translator:\n",
    "    def __init__(self, ja_dic, en_dic, ja_nlp=None, en_nlp=None):\n",
    "        self.ja_dic = ja_dic\n",
    "        self.en_dic = en_dic\n",
    "        self.ja_dic_rev = self.create_rev_dic(ja_dic)\n",
    "        self.en_dic_rev = self.create_rev_dic(en_dic)\n",
    "        if ja_nlp is None: import spacy; self.ja_nlp = spacy.load('ja_ginza')\n",
    "        else: self.ja_nlp = ja_nlp\n",
    "        if en_nlp is None: from spacy.lang.en import English; self.en_nlp = English()\n",
    "        else: self.en_nlp = en_nlp\n",
    "        self.out = lambda seq:\" \".join(self.decode_en(seq))\n",
    "    \n",
    "    def create_rev_dic(self, dic):\n",
    "        lis = []\n",
    "        for k, v in sorted(dic.items(), key=lambda x:x[1]):\n",
    "            while len(lis) < v: lis.append(\"[unused]\")\n",
    "            lis.append(k)\n",
    "        return lis\n",
    "        \n",
    "    def encode(self, dic, nlp, sentence, stop=False):\n",
    "        sentence = [str(w) for w in nlp(sentence)]\n",
    "        sentence = [\"[BOS]\"] + [w if w in dic else \"[UNK]\" for w in sentence] + [\"[EOS]\"]\n",
    "        if not stop: sentence = torch.Tensor([dic[w] for w in sentence]).long()\n",
    "        return sentence\n",
    "    def encode_ja(self, sentence, stop=False): return self.encode(self.ja_dic, self.ja_nlp, sentence, stop)\n",
    "    def encode_en(self, sentence, stop=False): return self.encode(self.en_dic, self.en_nlp, sentence, stop)\n",
    "    def decode(self, rev_dic, ids): return [rev_dic[i] for i in ids]\n",
    "    def decode_ja(self, ids): return self.decode(self.ja_dic_rev, ids)\n",
    "    def decode_en(self, ids): return self.decode(self.en_dic_rev, ids)\n",
    "        \n",
    "    def translate_j2e(self, model, ja_sentence, **kwargs):\n",
    "        return self.translate_j2e_seq(model, self.encode_ja(ja_sentence), **kwargs)\n",
    "    \n",
    "    def _tl_step(self, model, ja_seq, en_cands, device, beam):\n",
    "        if beam<=0: return [], []\n",
    "        ja_seqs = torch.add(torch.zeros(len(en_cands),1,dtype=torch.int,device=device), ja_seq)\n",
    "        en_seqs = torch.LongTensor([[10]+e[0] for e in en_cands]).to(device) # [BOS]:10\n",
    "        with torch.no_grad(): predicts = F.softmax(model.predict(ja_seqs, en_seqs, mask=False)[:,-1,:],dim=1) # 1 word\n",
    "        topk = torch.topk(predicts, k=beam, dim=1)\n",
    "        indices, values = topk.indices.tolist(), topk.values\n",
    "        cands = []\n",
    "        for en_cand, ids, val in zip(en_cands, indices, values):\n",
    "            cands.extend([(en_cand[0]+[i],en_cand[1]+[v]) for i,v in zip(ids,val)])\n",
    "        cands = sorted(cands, key=lambda x:torch.sum(torch.log(torch.Tensor(x[1])))/len(x[1]), reverse=True)[:beam]\n",
    "        newcands, rets = [], []\n",
    "        for c,v in cands:\n",
    "            if c[-1] != 11: newcands.append((c,v))\n",
    "            else: rets.append((c,torch.sum(torch.log(torch.Tensor(v)))/len(v)))\n",
    "        return newcands, rets\n",
    "        \n",
    "    def translate_j2e_seq(self, model, ja_seq, *, length=20, device=torch.device(\"cpu\"), stop=False, beam=1):\n",
    "        is_training = model.training\n",
    "        _device = next(model.parameters()).device\n",
    "        model.eval().to(device)\n",
    "        ja_seq = ja_seq.unsqueeze(0).to(device)\n",
    "        en_cans = [([], [1.])]\n",
    "        en_rets = []\n",
    "        for i in range(length):\n",
    "            en_cans, rets = self._tl_step(model, ja_seq, en_cans, device, beam-len(en_rets))\n",
    "            en_rets.extend(rets)\n",
    "        en_rets.extend([(c,torch.sum(torch.log(torch.Tensor(v)))/len(v)) for c,v in en_cans])\n",
    "        en_rets = sorted(en_rets,key=lambda x:x[1],reverse=True)\n",
    "        if is_training: model.train()\n",
    "        model.to(_device)\n",
    "        if stop: return en_rets\n",
    "        return [self.out(pred) for pred, prob in en_rets]"
   ]
  },
  {
   "cell_type": "code",
   "execution_count": 8,
   "metadata": {},
   "outputs": [
    {
     "name": "stdout",
     "output_type": "stream",
     "text": [
      "['[BOS]', '私', '以外', '私', 'じゃ', 'ない', 'の', '[EOS]']\n",
      "tensor([  10, 1287,  432, 1287, 4161,  148,  100,   11])\n",
      "koshi koshi koshi koshi koshi koshi koshi koshi koshi koshi koshi koshi koshi koshi koshi koshi koshi koshi koshi koshi koshi koshi koshi koshi koshi koshi koshi koshi koshi koshi\n",
      "Ryuju koshi koshi koshi koshi koshi koshi koshi koshi koshi koshi koshi koshi koshi koshi koshi koshi koshi koshi koshi koshi koshi koshi koshi koshi koshi koshi koshi koshi koshi\n",
      "Ryuju Ryuju koshi koshi koshi koshi koshi koshi koshi koshi koshi koshi koshi koshi koshi koshi koshi koshi koshi koshi koshi koshi koshi koshi koshi koshi koshi koshi koshi koshi\n",
      "cuisine cuisine cuisine koshi koshi koshi koshi koshi koshi koshi koshi koshi koshi koshi koshi koshi koshi koshi koshi koshi koshi koshi koshi koshi koshi koshi koshi koshi koshi koshi\n"
     ]
    }
   ],
   "source": [
    "if __name__ == '__main__':\n",
    "    translator = Translator(ja_dic, en_dic)\n",
    "    model = Model(ja_dicsize, en_dicsize, embdim_m=64, embdim=512)\n",
    "    sentence = \"私以外私じゃないの\"\n",
    "    print(translator.encode_ja(sentence, stop=True))\n",
    "    print(translator.encode_ja(sentence))\n",
    "    print(*translator.translate_j2e(model, sentence, length=30, beam=30)[:4],sep=\"\\n\")"
   ]
  },
  {
   "cell_type": "markdown",
   "metadata": {},
   "source": [
    "#### prepare data"
   ]
  },
  {
   "cell_type": "code",
   "execution_count": 9,
   "metadata": {},
   "outputs": [],
   "source": [
    "def load_data(mode, maxlength=1000, minlength=0, pathkey=\"ids\"):\n",
    "    if mode in [\"train\",\"dev\",\"test\"]: mode = f\"kyoto-{mode}\"\n",
    "    langs = [\"ja\",\"en\"]\n",
    "    data = {lang:[] for lang in langs}\n",
    "    for lang in langs:\n",
    "        path = f\"kftt-data-1.0/data/{pathkey}/{mode}.{lang}\"\n",
    "        with open(path) as f:\n",
    "            for line in f:\n",
    "                line = line.rstrip().split(\" \")\n",
    "                data[lang].append(np.array(line, dtype=\"int16\")) # int16 max :32767\n",
    "    ja, en = [], []\n",
    "    for ja_data, en_data in zip(*data.values()):\n",
    "        if len(ja_data) < minlength or len(en_data) < minlength: continue\n",
    "        if len(ja_data) > maxlength or len(en_data) > maxlength: continue\n",
    "        ja.append(ja_data); en.append(en_data)\n",
    "    return ja, en"
   ]
  },
  {
   "cell_type": "code",
   "execution_count": 10,
   "metadata": {},
   "outputs": [],
   "source": [
    "class DataSet(torch.utils.data.Dataset):\n",
    "    def __init__(self, mode, maxlength=1000, minlength=0, pathkey=\"ids\"):\n",
    "        self.ja,self.en = load_data(mode, maxlength, minlength, pathkey)\n",
    "    def __len__(self): return len(self.ja)\n",
    "    def __getitem__(self, idx): return self.ja[idx], self.en[idx][:-1], self.en[idx][1:]\n",
    "#     def __getitem__(self, idx): return self.ja[idx], self.en[idx], np.append(self.en[idx][1:], 0)"
   ]
  },
  {
   "cell_type": "code",
   "execution_count": 11,
   "metadata": {},
   "outputs": [],
   "source": [
    "from torch.nn.utils.rnn import pad_sequence\n",
    "def dataloader(dataset, batch_size=1, shuffle=False, device=torch.device('cpu')):\n",
    "    return torch.utils.data.DataLoader(dataset, \n",
    "                                       batch_size=batch_size, \n",
    "                                       shuffle=shuffle, \n",
    "                                       collate_fn=lambda d:(pad_sequence([\n",
    "                                           torch.Tensor(t) for t in e\n",
    "                                       ], batch_first=True, padding_value=0).long().to(device) for e in zip(*d)))"
   ]
  },
  {
   "cell_type": "markdown",
   "metadata": {},
   "source": [
    "#### create trainer"
   ]
  },
  {
   "cell_type": "code",
   "execution_count": 12,
   "metadata": {},
   "outputs": [],
   "source": [
    "class Callback:\n",
    "    def __init__(self): self.keep = {}\n",
    "    def on_epoch_start(self, **kwargs): self._keep(**kwargs)\n",
    "    def on_epoch_end(self, **kwargs): self._keep(**kwargs)\n",
    "    def on_step_start(self, **kwargs): self._keep(**kwargs)\n",
    "    def on_step_end(self, **kwargs): self._keep(**kwargs)\n",
    "    def on_eval_start(self, **kwargs): self._keep(**kwargs)\n",
    "    def on_eval_end(self, **kwargs): self._keep(**kwargs)\n",
    "    def on_eval_step_start(self, **kwargs): self._keep(**kwargs)\n",
    "    def on_eval_step_end(self, **kwargs): self._keep(**kwargs)\n",
    "    def on_run_end(self, **kwargs): self._keep(**kwargs)\n",
    "    def _keep(self, **kwargs):\n",
    "        for k,v in kwargs.items(): self.keep[k] = v"
   ]
  },
  {
   "cell_type": "code",
   "execution_count": 13,
   "metadata": {},
   "outputs": [],
   "source": [
    "class Trainer:\n",
    "    def __init__(self, translator, trainset, devset, device):\n",
    "        self.trainset, self.devset = trainset, devset\n",
    "        self.device = device\n",
    "        \n",
    "    def run(self, model, optimizer, *, epoch, steps=None, device=None, batch_size=1, \n",
    "            batch_size_eval=None, shuffle=False, scheduler=None, callbacks:[Callback]=[]):\n",
    "        if not batch_size_eval: batch_size_eval = batch_size\n",
    "        model.to(self.device)\n",
    "        stop = False\n",
    "        for epo in range(1,epoch+1):\n",
    "            for cb in callbacks:\n",
    "                cb.on_epoch_start(epoch=epo,epoch_len=epoch)\n",
    "            train_loss, train_acc = self.train(model,optimizer,epoch,steps,device,batch_size,shuffle,scheduler,callbacks)\n",
    "            dev_loss, dev_acc = self.evaluate(model,self.devset,device,batch_size_eval,callbacks)\n",
    "            if scheduler: scheduler.step()\n",
    "            for cb in callbacks:\n",
    "                st = cb.on_epoch_end(t_loss=train_loss,d_loss=dev_loss,t_accuracy=train_acc,d_accuracy=dev_acc)\n",
    "                if st: stop = True\n",
    "            if stop: break\n",
    "        for cb in callbacks: cb.on_run_end()\n",
    "            \n",
    "    def train(self, model, optimizer, epoch, steps=None, device=None, batch_size=1, shuffle=False, scheduler=None, callbacks:[Callback]=[]):\n",
    "        loader = dataloader(self.trainset, batch_size=batch_size, shuffle=shuffle, device=device)\n",
    "        model.train(); count_sum = 0; loss_sum = 0.; acc_sum = 0.\n",
    "        for step, (ja, en, en_ans) in enumerate(loader,1):\n",
    "            for cb in callbacks: cb.on_step_start(step=step,step_len=len(loader))\n",
    "            optimizer.zero_grad()\n",
    "            count = len(ja)\n",
    "            loss, acc = model(ja, en, en_ans)\n",
    "            loss.backward()\n",
    "            optimizer.step()\n",
    "            loss = loss.item()\n",
    "            loss_sum += loss*count\n",
    "            acc_sum += acc*count\n",
    "            count_sum += count\n",
    "            if scheduler: scheduler.step()\n",
    "            for cb in callbacks: cb.on_step_end(loss=loss/count,accuracy=acc,ja_len=ja.shape[1],en_len=en.shape[1])\n",
    "            if steps is not None and step > steps: break\n",
    "        return loss_sum / count_sum, acc_sum / count_sum\n",
    "\n",
    "    def evaluate(self, model, dataset, device, batch_size, callbacks:[Callback]=[]):\n",
    "        loader = dataloader(dataset, batch_size=batch_size, device=device)\n",
    "        model.eval()\n",
    "        with torch.no_grad():\n",
    "            count_sum = 0; loss_sum = 0.; acc_sum = 0.\n",
    "            for cb in callbacks: cb.on_eval_start()\n",
    "            for step, (ja, en, en_ans) in enumerate(loader,1):\n",
    "                for cb in callbacks: cb.on_eval_step_start()\n",
    "                count = len(ja)\n",
    "                count_sum += count\n",
    "                pred = model.predict(ja, en)\n",
    "                loss, acc = model.loss(pred, en_ans)\n",
    "                loss_sum += loss.item()*count\n",
    "                acc_sum += acc*count\n",
    "                for cb in callbacks: cb.on_eval_step_end(predicts=pred, answers=en_ans)\n",
    "            for cb in callbacks: cb.on_eval_end()\n",
    "        return loss_sum / count_sum, acc_sum / count_sum"
   ]
  },
  {
   "cell_type": "code",
   "execution_count": 14,
   "metadata": {},
   "outputs": [],
   "source": [
    "from fairseq.bleu import SacrebleuScorer\n",
    "class forceSacrebleuScorer(SacrebleuScorer):\n",
    "    def result_string(self, order=4):\n",
    "        if order != 4: raise NotImplementedError\n",
    "        return self.sacrebleu.corpus_bleu(self.sys, [self.ref], force=True)  \n",
    "\n",
    "class BleuScore():\n",
    "    def __init__(self, func, eos_idx=11):\n",
    "        self.scorer = forceSacrebleuScorer()\n",
    "        self.eos_idx = eos_idx\n",
    "        self.func = func\n",
    "    def right_strip(self, seq):\n",
    "        ret = []\n",
    "        for s in seq:\n",
    "            if int(s) == self.eos_idx: break\n",
    "            ret.append(int(s))\n",
    "        return ret\n",
    "    def add(self, preds, en_ans):\n",
    "        preds = preds.argmax(dim=2).detach().cpu()\n",
    "        for pred, ans in zip(preds, en_ans):\n",
    "            ans = self.right_strip(ans)\n",
    "            pred = self.right_strip(pred)\n",
    "            self.scorer.add_string(ref=self.func(ans), pred=self.func(pred))\n",
    "    def score(self): return self.scorer.result_string()\n",
    "    def reset(self): self.scorer.reset()"
   ]
  },
  {
   "cell_type": "code",
   "execution_count": 15,
   "metadata": {},
   "outputs": [],
   "source": [
    "class BleuCallback(Callback):\n",
    "    def __init__(self, func, eos_idx=11):\n",
    "        super().__init__()\n",
    "        self.scorer = BleuScore(func, eos_idx)\n",
    "    def on_eval_start(self, **kwargs):\n",
    "        self.scorer.reset()\n",
    "    def on_eval_end(self, **kwargs): \n",
    "        super()._keep(bleu=self.scorer.score())\n",
    "    def on_eval_step_end(self, **kwargs): \n",
    "        self.scorer.add(kwargs['predicts'], kwargs['answers'])"
   ]
  },
  {
   "cell_type": "code",
   "execution_count": 16,
   "metadata": {},
   "outputs": [],
   "source": [
    "class Save(Callback):\n",
    "    def __init__(self, model, savedir):\n",
    "        super().__init__()\n",
    "        self.model = model\n",
    "        savedir = savedir.rstrip(\"/\")\n",
    "        import datetime\n",
    "        savedir += \"_\"+datetime.datetime.now().strftime('%Y%m%d_%H%M%S')\n",
    "        self.savedir = savedir\n",
    "        print(f\"savedir:{savedir}\")\n",
    "        import os; os.makedirs(savedir)\n",
    "    def on_epoch_end(self, **kwargs):\n",
    "        super().on_epoch_end(**kwargs)\n",
    "        epoch = self.keep['epoch']\n",
    "        torch.save(self.model.state_dict(), f\"{self.savedir}/{epoch}_save.t7\")\n",
    "\n",
    "class EarlyStopping(Callback):\n",
    "    def __init__(self, key='d_loss', upper=False, count=1):\n",
    "        super().__init__()\n",
    "        self.key = key\n",
    "        self.upper = upper\n",
    "        self.count_def = count\n",
    "        self.count = count\n",
    "        self.kp = None\n",
    "        self.good = None\n",
    "    def on_epoch_start(self,**kwargs): super().on_epoch_start(**kwargs)\n",
    "    def on_epoch_end(self,**kwargs):\n",
    "        super().on_epoch_end(**kwargs)\n",
    "        new = self.keep[self.key]\n",
    "        if self.kp is not None: print(f\"{self.kp:.5f}\\t{new:.5f}\")\n",
    "        super()._keep(good=(self.kp is None) or (new > self.kp and self.upper) or (new < self.kp and not self.upper))\n",
    "        if self.keep[\"good\"]:\n",
    "            self.kp = new\n",
    "            self.count = self.count_def\n",
    "            super()._keep(es_count=self.count)\n",
    "        else: self.count -= 1\n",
    "        if self.count == 0: return True\n",
    "        \n",
    "### 96 ###\n",
    "from torch.utils.tensorboard import SummaryWriter\n",
    "class Tensorboard(Callback):\n",
    "    def __init__(self, path, tag, bleu=None):\n",
    "        super().__init__()\n",
    "        self.bleu = bleu\n",
    "        self.writer = SummaryWriter(log_dir=path)\n",
    "        import datetime\n",
    "        self.tag = datetime.datetime.now().strftime('%Y%m%d_%H%M%S')+\"_\"+tag\n",
    "        print(f\"tensorboard tagname: {self.tag}\")\n",
    "    def on_epoch_end(self, **kwargs):\n",
    "        super().on_epoch_end(**kwargs)\n",
    "        self.writer.add_scalars(f\"{self.tag}/loss\", {\"train\":self.keep['t_loss'], \"valid\":self.keep['d_loss']}, self.keep['epoch'])\n",
    "        self.writer.add_scalars(f\"{self.tag}/accuracy\", {\"train\":self.keep['t_accuracy'], \"valid\":self.keep['d_accuracy']}, self.keep['epoch'])\n",
    "        if self.bleu:\n",
    "            self.writer.add_scalars(f\"{self.tag}/bleu\", {\"bleu\":self.bleu.keep['bleu'].score}, self.keep['epoch'])\n",
    "    def on_train_end(self):\n",
    "        self.writer.close()"
   ]
  },
  {
   "cell_type": "code",
   "execution_count": 17,
   "metadata": {},
   "outputs": [],
   "source": [
    "class Print(Callback):\n",
    "    class Printer:\n",
    "        def __init__(self, keys, tags=None, pre=None):\n",
    "            self.d = {k:[] for k in keys}\n",
    "            self.keys = keys\n",
    "            if tags: self.keys.insert(0,'__tag__'); self.d['__tag__'] = tags\n",
    "            if pre:\n",
    "                self.keys.insert(0,'__old__'); self.d[\"__old__\"] = []\n",
    "                for k in pre.keys: self.d[\"__old__\"].extend(pre.d[k])\n",
    "        def __call__(self, key, vals:list, printing=True, keyreset=False):\n",
    "            if key not in self.keys: self.keys.append(key)\n",
    "            if keyreset: self.d[key] = []\n",
    "            self.d[key].extend(vals)\n",
    "            if printing: self._print()\n",
    "        def _print(self): \n",
    "            clear_output(True)\n",
    "            for key in self.keys: print(*self.d[key], sep=\"\\n\") if self.d[key] else None\n",
    "        def reset(self, key): self.d[key] = []\n",
    "\n",
    "    def __init__(self, model, translator, device, n=1000, beam=10, print_example=True, examples=None, \n",
    "                 tags:[str]=None, preprinter:Printer=None, early_stopping=None, bleu_callback=None):\n",
    "        super().__init__()\n",
    "        self.translator = translator\n",
    "        self.model = model\n",
    "        self.device = device\n",
    "        self.print_example = print_example\n",
    "        self.es = early_stopping\n",
    "        self.bl = bleu_callback\n",
    "        if print_example:\n",
    "            self.examples = examples\n",
    "            self.exmax = max([len(ex) for ex in examples])\n",
    "            self.ex_seqs = [self.translator.encode_ja(ex) for ex in examples]\n",
    "            self.printer = self.Printer([\"batch_end\",\"step_end\",\"step_example\"],tags,preprinter)\n",
    "            self.pp = lambda ex,eng:\"   {}\\t{}\".format(ex+\"　\"*(self.exmax-len(ex)),eng)\n",
    "            self.tle = lambda:[self.translator.translate_j2e_seq(self.model, seq, device=device, beam=beam, length=15)[0] for seq in self.ex_seqs]\n",
    "        else: self.printer = self.Printer([\"batch_end\",\"step_end\"],tags,preprinter)\n",
    "    \n",
    "    def on_step_start(self, **kwargs): super().on_step_start(**kwargs)\n",
    "    def on_epoch_start(self, **kwargs): super().on_epoch_start(**kwargs)\n",
    "    \n",
    "    def on_step_end(self, **kwargs):\n",
    "        super().on_step_end(**kwargs)\n",
    "        self.printer(\"step_end\", \n",
    "                     [f\"[{self.keep['epoch']:>3}/{self.keep['epoch_len']:>3}]epoch \"\n",
    "                      f\"[{self.keep['step']:>4}/{self.keep['step_len']:>4}]steps:[ja:{self.keep['ja_len']}|en:{self.keep['en_len']}] \"\n",
    "                      f\"loss: {self.keep['loss']:.7f} | acc: {self.keep['accuracy']*100:.5f}%\"],\n",
    "                     printing=False, keyreset=True)\n",
    "        if not self.print_example: self.printer._print(); return\n",
    "        if self.keep['step']%50 != 1: self.printer._print(); return\n",
    "        self.printer(\"step_example\", [self.pp(ex,eng) for ex,eng in zip(self.examples,self.tle())], keyreset=True)\n",
    "        \n",
    "    def on_epoch_end(self, **kwargs):\n",
    "        super().on_epoch_end(**kwargs)\n",
    "        self.printer.reset(\"step_end\")\n",
    "        if self.print_example: self.printer.reset(\"step_example\")\n",
    "        self.printer(\"batch_end\",\n",
    "                     [(\">\" if self.es.keep[\"good\"] else \" \")+(f\"{self.es.count:>2}\" if self.es else \" \")+\n",
    "                      f\"[{self.keep['epoch']:>3}/{self.keep['epoch_len']:>3}]epoch: \"\n",
    "                      f\"loss: {self.keep['t_loss']:.7f}, {self.keep['d_loss']:.7f} | \"\n",
    "                      f\"acc: {self.keep['t_accuracy']*100:.5f}%, {self.keep['d_accuracy']*100:.5f}%\"\n",
    "                      +(f\" | bleu: {self.bl.keep['bleu'].score:.5f}\") if self.bl else \"\"], printing=False)\n",
    "        if not self.print_example: self.printer._print(); return\n",
    "        self.printer(\"batch_end\", [self.pp(ex,eng) for ex,eng in zip(self.examples,self.tle())])"
   ]
  },
  {
   "cell_type": "code",
   "execution_count": 18,
   "metadata": {},
   "outputs": [],
   "source": [
    "def get_param(embdim=512,embdim_m=64,cuda_optim=False,warmup_steps=4000,ja_init_embed=None,en_init_embed=None):\n",
    "    return {\"embdim\":embdim, \"embdim_m\":embdim_m, \"cuda_optim\":cuda_optim, \n",
    "            \"ja_init_embed\":ja_init_embed, \"en_init_embed\":en_init_embed, \"warmup_steps\":warmup_steps}"
   ]
  },
  {
   "cell_type": "code",
   "execution_count": 19,
   "metadata": {},
   "outputs": [],
   "source": [
    "def get_elms(params, device:str, ja_dicsize, en_dicsize, model=None):\n",
    "    torch.backends.cudnn.benchmark = params['cuda_optim']\n",
    "    if model is None:\n",
    "        model = Model(ja_dicsize, en_dicsize, embdim_m=params['embdim_m'], embdim=params['embdim'], \n",
    "                      resnet=params['resnet'] if 'resnet' in params else False, \n",
    "                      bottleneck=params['bottleneck'] if 'bottleneck' in params else True,\n",
    "                      ja_init_embed=params['ja_init_embed'], en_init_embed=params['en_init_embed']).to(torch.float)\n",
    "    optimizer = optim.Adam(model.parameters(),betas=(0.9, 0.98), eps=1e-09)\n",
    "    lrate_lambda = lambda step_num: params['embdim']**(-0.5)*params['lrate_coef']*min((step_num+1)**(-0.5), (step_num+1)*params['warmup_steps']**(-1.5))\n",
    "    scheduler = optim.lr_scheduler.LambdaLR(optimizer, lr_lambda=[lrate_lambda])\n",
    "    device = torch.device(device if torch.cuda.is_available() else \"cpu\")\n",
    "    print(device)\n",
    "    print(sum(p.numel() for p in model.parameters()))\n",
    "    return model, optimizer, scheduler, device"
   ]
  },
  {
   "cell_type": "code",
   "execution_count": 20,
   "metadata": {},
   "outputs": [
    {
     "name": "stdout",
     "output_type": "stream",
     "text": [
      "[NbConvertApp] Converting notebook Chapter10_91.ipynb to python\n",
      "[NbConvertApp] Writing 26736 bytes to Chapter10_91.py\n"
     ]
    }
   ],
   "source": [
    "if __name__ == '__main__':\n",
    "    !jupyter nbconvert --to python Chapter10_91.ipynb"
   ]
  },
  {
   "cell_type": "markdown",
   "metadata": {},
   "source": [
    "----\n",
    "----"
   ]
  },
  {
   "cell_type": "code",
   "execution_count": 1,
   "metadata": {},
   "outputs": [],
   "source": [
    "if __name__ == '__main__':\n",
    "    from Chapter10_91 import Translator, DataSet, dataloader, get_param, get_elms, ja_init_embed, en_init_embed"
   ]
  },
  {
   "cell_type": "code",
   "execution_count": 2,
   "metadata": {},
   "outputs": [],
   "source": [
    "if __name__ == '__main__':\n",
    "    trainset = DataSet(\"train\", maxlength=60)\n",
    "    devset = DataSet(\"dev\", maxlength=60)"
   ]
  },
  {
   "cell_type": "code",
   "execution_count": 3,
   "metadata": {},
   "outputs": [
    {
     "name": "stdout",
     "output_type": "stream",
     "text": [
      "cuda:7\n",
      "47018432\n"
     ]
    }
   ],
   "source": [
    "if __name__ == '__main__':\n",
    "    import pickle\n",
    "    with open('model_logs/ja_dic.pickle', 'rb') as f: ja_dic = pickle.load(f)\n",
    "    with open('model_logs/en_dic.pickle', 'rb') as f: en_dic = pickle.load(f)\n",
    "    ja_dicsize = max(ja_dic.values())+1\n",
    "    en_dicsize = max(en_dic.values())+1\n",
    "    params = get_param()\n",
    "    params['ja_init_embed'] = lambda x,y:ja_init_embed(ja_dic,x,y)\n",
    "    params['en_init_embed'] = lambda x,y:en_init_embed(en_dic,x,y)\n",
    "    batch_size = 64*2\n",
    "    params['lrate_coef'] = 25000/batch_size*2\n",
    "    model, optimizer, scheduler, device = get_elms(params, 'cuda:7', ja_dicsize, en_dicsize)"
   ]
  },
  {
   "cell_type": "code",
   "execution_count": 4,
   "metadata": {},
   "outputs": [
    {
     "name": "stdout",
     "output_type": "stream",
     "text": [
      "savedir:model_logs/91_20200804_140102\n",
      "tensorboard tagname: 20200804_140104_91\n"
     ]
    }
   ],
   "source": [
    "if __name__ == '__main__':\n",
    "    from string import ascii_letters\n",
    "    from random import choices\n",
    "    from Chapter10_91 import EarlyStopping, Save, Tensorboard, BleuCallback, Print\n",
    "    examples = [\"私以外私じゃないの\", \"私は猫です。\", \"日本の水墨画を一変させた。\"]\n",
    "    translator = Translator(ja_dic, en_dic)\n",
    "    \n",
    "    bleu_cb = BleuCallback(lambda seq: \" \".join([translator.en_dic_rev[s] if s!=12 else ''.join(choices(ascii_letters,k=5)) for s in seq]))\n",
    "    es_cb = EarlyStopping(count=10)\n",
    "    save_cb = Save(model,'model_logs/91')\n",
    "    tb_cb = Tensorboard('./tb_logs/','91', bleu_cb)\n",
    "    print_cb = Print(model, translator, device, examples=examples, early_stopping=es_cb, bleu_callback=bleu_cb)\n",
    "    callbacks = [es_cb,bleu_cb,save_cb,tb_cb,print_cb]"
   ]
  },
  {
   "cell_type": "code",
   "execution_count": 5,
   "metadata": {},
   "outputs": [
    {
     "name": "stdout",
     "output_type": "stream",
     "text": [
      ">10[  1/300]epoch: loss: 7.8568187, 5.2145723 | acc: 15.98772%, 27.15024% | bleu: 1.93623\n",
      "   私以外私じゃないの　　　　\tHowever , the [UNK] of the [UNK] , the [UNK] , the [UNK] , the [UNK] of the [UNK] , the [UNK] , the [UNK]\n",
      "   私は猫です。　　　　　　　\tThe \" [UNK] , \" [UNK] , \" [UNK] , \" [UNK] , \" [UNK] , \" [UNK] , \" and \" [UNK] , \"\n",
      "   日本の水墨画を一変させた。\tIn the Meiji period , the Meiji period , the Meiji period , the Meiji period , the Japan , the Japan , and the\n",
      ">10[  2/300]epoch: loss: 4.4883226, 4.1788052 | acc: 31.67517%, 33.92759% | bleu: 4.17812\n",
      "   私以外私じゃないの　　　　\tIt is said that I can not do not do not do you ? ? ? ? ? ? ? ? ? ? ? ?\n",
      "   私は猫です。　　　　　　　\tIt is said that it was not a woman . [EOS]\n",
      "   日本の水墨画を一変させた。\tIn Japan , the Japanese calligraphic style , was changed to Japan 's [UNK] , and the [UNK] . [EOS]\n",
      ">10[  3/300]epoch: loss: 3.7938843, 3.8048528 | acc: 37.60372%, 36.53974% | bleu: 5.70907\n",
      "   私以外私じゃないの　　　　\tThere is a lot of [UNK] . \" [EOS]\n",
      "   私は猫です。　　　　　　　\tIt is said that the [UNK] of the [UNK] of the [UNK] , but it is a [UNK] . [EOS]\n",
      "   日本の水墨画を一変させた。\tIn Japan , it is said that the painting of the Japanese - style painting , and the Japanese - style painting , and the\n",
      ">10[  4/300]epoch: loss: 3.4652866, 3.5552483 | acc: 40.63873%, 39.56713% | bleu: 7.77536\n",
      "   私以外私じゃないの　　　　\tIt is not only , but a [UNK] . [EOS]\n",
      "   私は猫です。　　　　　　　\tIt is said that I did not have a [UNK] . [EOS]\n",
      "   日本の水墨画を一変させた。\tIn Japan , he [UNK] the [UNK] the [UNK] . [EOS]\n",
      ">10[  5/300]epoch: loss: 3.2555332, 3.4090169 | acc: 42.68080%, 40.56620% | bleu: 7.93795\n",
      "   私以外私じゃないの　　　　\tIt is not only the [UNK] . [EOS]\n",
      "   私は猫です。　　　　　　　\tIt is said that I did not have a YAMAZAKI . [EOS]\n",
      "   日本の水墨画を一変させた。\tIn Japan , he [UNK] the [UNK] the [UNK] . [EOS]\n",
      ">10[  6/300]epoch: loss: 3.1032757, 3.2954351 | acc: 44.22554%, 42.20177% | bleu: 9.22136\n",
      "   私以外私じゃないの　　　　\tI are not other than you . ' [EOS]\n",
      "   私は猫です。　　　　　　　\tI did not have a cat . [EOS]\n",
      "   日本の水墨画を一変させた。\tIn Japan , the Japanese painting , which changed the [UNK] . [EOS]\n",
      ">10[  7/300]epoch: loss: 2.9856214, 3.2307486 | acc: 45.43680%, 43.24358% | bleu: 9.86573\n",
      "   私以外私じゃないの　　　　\tI do not other than I . [EOS]\n",
      "   私は猫です。　　　　　　　\tI did not have a cat . [EOS]\n",
      "   日本の水墨画を一変させた。\tJapanese - style paintings were changed , and Japanese - style paintings . [EOS]\n",
      ">10[  8/300]epoch: loss: 2.8930622, 3.1738919 | acc: 46.41804%, 43.76621% | bleu: 10.90714\n",
      "   私以外私じゃないの　　　　\tThose who do not do not do not do you . ' [EOS]\n",
      "   私は猫です。　　　　　　　\tI do n't have a cat . ' [EOS]\n",
      "   日本の水墨画を一変させた。\tIn order to change the Japanese - style paintings . [EOS]\n",
      ">10[  9/300]epoch: loss: 2.8167165, 3.1523919 | acc: 47.23515%, 43.86546% | bleu: 11.04761\n",
      "   私以外私じゃないの　　　　\tYou are not other than you . [EOS]\n",
      "   私は猫です。　　　　　　　\tI did not have a cat . [EOS]\n",
      "   日本の水墨画を一変させた。\tIn order to change the Japanese ink - ink - ink - wash painting in Japan . [EOS]\n",
      ">10[ 10/300]epoch: loss: 2.7516862, 3.1299021 | acc: 47.95086%, 44.41241% | bleu: 11.92061\n",
      "   私以外私じゃないの　　　　\tI do not have any other than you . [EOS]\n",
      "   私は猫です。　　　　　　　\tI do n't have a cat . [EOS]\n",
      "   日本の水墨画を一変させた。\tIn Japan , Chinese - style paintings were gradually changed . [EOS]\n",
      ">10[ 11/300]epoch: loss: 2.6963594, 3.0927309 | acc: 48.59362%, 44.52499% | bleu: 11.84174\n",
      "   私以外私じゃないの　　　　\tI have no other than you . [EOS]\n",
      "   私は猫です。　　　　　　　\tI do not have a cat . [EOS]\n",
      "   日本の水墨画を一変させた。\t[UNK] of Japanese Suiboku - ga . [EOS]\n",
      ">10[ 12/300]epoch: loss: 2.6484113, 3.0831096 | acc: 49.14197%, 44.85580% | bleu: 12.01818\n",
      "   私以外私じゃないの　　　　\tYou do not do not do so . [EOS]\n",
      "   私は猫です。　　　　　　　\tI do n't have a cat . [EOS]\n",
      "   日本の水墨画を一変させた。\t[UNK] Japanese Suiboku - ga . [EOS]\n",
      ">10[ 13/300]epoch: loss: 2.6052857, 3.0530180 | acc: 49.64908%, 45.08998% | bleu: 11.61765\n",
      "   私以外私じゃないの　　　　\tThere is no other than you other than I . [EOS]\n",
      "   私は猫です。　　　　　　　\tI do n't have a cat . [EOS]\n",
      "   日本の水墨画を一変させた。\tJapanese Suiboku - ga gradually changed . [EOS]\n",
      ">10[ 14/300]epoch: loss: 2.5663612, 3.0504318 | acc: 50.11603%, 45.15157% | bleu: 11.82699\n",
      "   私以外私じゃないの　　　　\tI do not have any other than you . [EOS]\n",
      "   私は猫です。　　　　　　　\tI said , \" I am a cat . [EOS]\n",
      "   日本の水墨画を一変させた。\tJapanese Suiboku - ga gradually changed . [EOS]\n",
      ">10[ 15/300]epoch: loss: 2.5309552, 3.0330210 | acc: 50.51949%, 45.27683% | bleu: 12.66871\n",
      "   私以外私じゃないの　　　　\tI do not have any other than you . [EOS]\n",
      "   私は猫です。　　　　　　　\tI do n't have a cat . [EOS]\n",
      "   日本の水墨画を一変させた。\tJapanese Suiboku - ga gradually changed . [EOS]\n",
      ">10[ 16/300]epoch: loss: 2.4977463, 3.0169094 | acc: 50.92936%, 45.64962% | bleu: 12.63587\n",
      "   私以外私じゃないの　　　　\tThere are no other than you who do not . [EOS]\n",
      "   私は猫です。　　　　　　　\tI do n't have a cat . [EOS]\n",
      "   日本の水墨画を一変させた。\tJapanese Suiboku - ga gradually changed . [EOS]\n",
      ">10[ 17/300]epoch: loss: 2.4674518, 3.0046787 | acc: 51.28862%, 45.72697% | bleu: 12.61500\n",
      "   私以外私じゃないの　　　　\tYou other than you ! [EOS]\n",
      "   私は猫です。　　　　　　　\tIf you are a cat ? ' [EOS]\n",
      "   日本の水墨画を一変させた。\tIn Japan , Suiboku - ga gradually [UNK] . [EOS]\n",
      "  9[ 18/300]epoch: loss: 2.4396535, 3.0065777 | acc: 51.64191%, 46.02943% | bleu: 12.81786\n",
      "   私以外私じゃないの　　　　\tYou do not have any other than you . [EOS]\n",
      "   私は猫です。　　　　　　　\tI am a cat , and I am a cat ? ' [EOS]\n",
      "   日本の水墨画を一変させた。\tJapanese Suiboku - ga gradually [UNK] . [EOS]\n",
      "  8[ 19/300]epoch: loss: 2.4131533, 3.0226241 | acc: 51.96108%, 45.90879% | bleu: 12.43656\n",
      "   私以外私じゃないの　　　　\tYou are not other than you . [EOS]\n",
      "   私は猫です。　　　　　　　\tIf you are a cat ? I will be a cat ? ' [EOS]\n",
      "   日本の水墨画を一変させた。\tJapanese Suiboku - ga gradually changed . [EOS]\n",
      ">10[ 20/300]epoch: loss: 2.3878855, 3.0018113 | acc: 52.28599%, 46.00795% | bleu: 13.08906\n",
      "   私以外私じゃないの　　　　\tYou do not have any other than me . [EOS]\n",
      "   私は猫です。　　　　　　　\tI have a cat . [EOS]\n",
      "   日本の水墨画を一変させた。\tJapanese Suiboku - ga gradually changed . [EOS]\n",
      ">10[ 21/300]epoch: loss: 2.3646110, 2.9966053 | acc: 52.54998%, 46.37658% | bleu: 13.04621\n",
      "   私以外私じゃないの　　　　\tThose who do not do not do n't do n't do so . ' [EOS]\n",
      "   私は猫です。　　　　　　　\tDo n't have a cat ? ' [EOS]\n",
      "   日本の水墨画を一変させた。\tJapanese Suiboku - ga gradually changed . [EOS]\n",
      ">10[ 22/300]epoch: loss: 2.3423733, 2.9834036 | acc: 52.83788%, 46.37785% | bleu: 12.65706\n",
      "   私以外私じゃないの　　　　\tThere is no one who does you other than you . [EOS]\n",
      "   私は猫です。　　　　　　　\tI am a cat , and I will be a cat . [EOS]\n",
      "   日本の水墨画を一変させた。\tJapanese Suiboku - ga gradually changed . [EOS]\n",
      "  9[ 23/300]epoch: loss: 2.3211759, 3.0086731 | acc: 53.11540%, 46.43374% | bleu: 13.48271\n",
      "   私以外私じゃないの　　　　\tYou do not have any other than me . [EOS]\n",
      "   私は猫です。　　　　　　　\tDo n't have a cat ? [EOS]\n",
      "   日本の水墨画を一変させた。\tIn Japan , he changed Suiboku - ga . [EOS]\n",
      "  8[ 24/300]epoch: loss: 2.3010570, 2.9909161 | acc: 53.34730%, 46.18375% | bleu: 13.07032\n",
      "   私以外私じゃないの　　　　\tThere is no one who does you other than me . [EOS]\n",
      "   私は猫です。　　　　　　　\tIf you are a cat ? ' [EOS]\n",
      "   日本の水墨画を一変させた。\tJapanese Suiboku - ga changed . [EOS]\n",
      ">10[ 25/300]epoch: loss: 2.2818573, 2.9828340 | acc: 53.61162%, 46.59679% | bleu: 13.63886\n",
      "   私以外私じゃないの　　　　\tI do not have any other than me . [EOS]\n",
      "   私は猫です。　　　　　　　\tDo n't have a cat ? ' [EOS]\n",
      "   日本の水墨画を一変させた。\tJapanese Suiboku - ga changed . [EOS]\n",
      "  9[ 26/300]epoch: loss: 2.2634796, 3.0172869 | acc: 53.85061%, 46.33672% | bleu: 13.53120\n",
      "   私以外私じゃないの　　　　\tI do not have any other than me . [EOS]\n",
      "   私は猫です。　　　　　　　\tI am a cat . [EOS]\n",
      "   日本の水墨画を一変させた。\tIn Japan , he changed Suiboku - ga . [EOS]\n",
      "  8[ 27/300]epoch: loss: 2.2459014, 3.0077934 | acc: 54.06196%, 46.42520% | bleu: 13.50229\n",
      "   私以外私じゃないの　　　　\tThose who do not do not belong to you . [EOS]\n",
      "   私は猫です。　　　　　　　\tI am a cat . ' [EOS]\n",
      "   日本の水墨画を一変させた。\tJapanese Suiboku - ga gradually . [EOS]\n",
      "  7[ 28/300]epoch: loss: 2.2293528, 2.9986822 | acc: 54.30690%, 46.48867% | bleu: 13.48159\n",
      "   私以外私じゃないの　　　　\tThose who do not do not belong to you . [EOS]\n",
      "   私は猫です。　　　　　　　\tThere is a cat , but a cat . ' [EOS]\n",
      "   日本の水墨画を一変させた。\tJapanese ink - wash paintings gradually . [EOS]\n",
      "  6[ 29/300]epoch: loss: 2.2135615, 3.0089027 | acc: 54.48460%, 46.42034% | bleu: 13.39072\n",
      "   私以外私じゃないの　　　　\tI do not have any other than you . [EOS]\n",
      "   私は猫です。　　　　　　　\tI am a cat . [EOS]\n",
      "   日本の水墨画を一変させた。\tIn Japan , Suiboku - ga gradually [UNK] . [EOS]\n",
      "  5[ 30/300]epoch: loss: 2.1978547, 2.9886366 | acc: 54.70012%, 46.64306% | bleu: 13.90805\n",
      "   私以外私じゃないの　　　　\tYou do not have any other than me . [EOS]\n",
      "   私は猫です。　　　　　　　\tDo n't have a cat . [EOS]\n",
      "   日本の水墨画を一変させた。\tThe Japanese Suiboku - ga changed . [EOS]\n",
      "  4[ 31/300]epoch: loss: 2.1833318, 3.0036062 | acc: 54.90371%, 46.69942% | bleu: 13.73985\n",
      "   私以外私じゃないの　　　　\tDo n't have any other than me . [EOS]\n",
      "   私は猫です。　　　　　　　\tDo n't have a cat . [EOS]\n",
      "   日本の水墨画を一変させた。\tJapanese ink - wash paintings gradually . [EOS]\n",
      "  3[ 32/300]epoch: loss: 2.1682676, 3.0199997 | acc: 55.10848%, 46.63992% | bleu: 13.59713\n",
      "   私以外私じゃないの　　　　\tThose who do not have any other than me . [EOS]\n",
      "   私は猫です。　　　　　　　\tYou are [UNK] cats . [EOS]\n",
      "   日本の水墨画を一変させた。\tJapanese ink - wash paintings gradually . [EOS]\n",
      "  2[ 33/300]epoch: loss: 2.1544373, 3.0233046 | acc: 55.28487%, 46.70558% | bleu: 13.64663\n",
      "   私以外私じゃないの　　　　\tThose who do not do not have any other than me . [EOS]\n",
      "   私は猫です。　　　　　　　\tYou have a cat . [EOS]\n",
      "   日本の水墨画を一変させた。\tJapanese ink - wash paintings gradually . [EOS]\n",
      "  1[ 34/300]epoch: loss: 2.1414122, 3.0214883 | acc: 55.47452%, 46.61306% | bleu: 13.23783\n",
      "   私以外私じゃないの　　　　\tYou do not have any other than me . [EOS]\n",
      "   私は猫です。　　　　　　　\tDo n't have a cat . [EOS]\n",
      "   日本の水墨画を一変させた。\tJapanese ink - wash paintings gradually . [EOS]\n",
      "  0[ 35/300]epoch: loss: 2.1280852, 3.0236105 | acc: 55.66280%, 46.52647% | bleu: 13.64164\n",
      "   私以外私じゃないの　　　　\tThose who do not have any other than me . [EOS]\n",
      "   私は猫です。　　　　　　　\tIf you are a cat , I will be [UNK] ? ' [EOS]\n",
      "   日本の水墨画を一変させた。\tJapanese ink - wash paintings gradually . [EOS]\n"
     ]
    }
   ],
   "source": [
    "if __name__ == '__main__':\n",
    "    from Chapter10_91 import Trainer\n",
    "    trainer = Trainer(translator, trainset, devset, device=device)\n",
    "    trainer.run(model, optimizer, epoch=300, device=device, batch_size=batch_size, shuffle=True, scheduler=scheduler, callbacks=callbacks)"
   ]
  },
  {
   "cell_type": "code",
   "execution_count": 1,
   "metadata": {},
   "outputs": [
    {
     "data": {
      "image/png": "[encoded data removed]",
      "text/plain": [
       "<IPython.core.display.Image object>"
      ]
     },
     "execution_count": 1,
     "metadata": {},
     "output_type": "execute_result"
    }
   ],
   "source": [
    "from IPython.display import Image\n",
    "Image(\"imgs/20200804_140104_91.png\")"
   ]
  },
  {
   "cell_type": "code",
   "execution_count": 6,
   "metadata": {},
   "outputs": [
    {
     "name": "stdout",
     "output_type": "stream",
     "text": [
      "[NbConvertApp] Converting notebook Chapter10_91.ipynb to python\n",
      "[NbConvertApp] Writing 26675 bytes to Chapter10_91.py\n"
     ]
    }
   ],
   "source": [
    "if __name__ == '__main__':\n",
    "    !jupyter nbconvert --to python Chapter10_91.ipynb"
   ]
  }
 ],
 "metadata": {
  "kernelspec": {
   "display_name": "Python 3",
   "language": "python",
   "name": "python3"
  },
  "language_info": {
   "codemirror_mode": {
    "name": "ipython",
    "version": 3
   },
   "file_extension": ".py",
   "mimetype": "text/x-python",
   "name": "python",
   "nbconvert_exporter": "python",
   "pygments_lexer": "ipython3",
   "version": "3.8.2"
  }
 },
 "nbformat": 4,
 "nbformat_minor": 4
}
