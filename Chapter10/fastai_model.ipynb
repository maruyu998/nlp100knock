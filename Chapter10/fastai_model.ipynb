{
 "cells": [
  {
   "cell_type": "markdown",
   "metadata": {},
   "source": [
    "##### create model"
   ]
  },
  {
   "cell_type": "code",
   "execution_count": 1,
   "metadata": {},
   "outputs": [],
   "source": [
    "from fastai.text import *\n",
    "import warnings; warnings.simplefilter('ignore')"
   ]
  },
  {
   "cell_type": "code",
   "execution_count": 2,
   "metadata": {},
   "outputs": [],
   "source": [
    "# copy from https://github.com/fastai/course-nlp/blob/master/8-translation-transformer.ipynb\n",
    "class PositionalEncoding(nn.Module):\n",
    "    \"Encode the position with a sinusoid.\"\n",
    "    def __init__(self, d):\n",
    "        super().__init__()\n",
    "        self.register_buffer('freq', 1 / (10000 ** (torch.arange(0., d, 2.)/d)))\n",
    "    \n",
    "    def forward(self, pos):\n",
    "        inp = torch.ger(pos, self.freq)\n",
    "        enc = torch.cat([inp.sin(), inp.cos()], dim=-1)\n",
    "        return enc"
   ]
  },
  {
   "cell_type": "code",
   "execution_count": 3,
   "metadata": {},
   "outputs": [],
   "source": [
    "#[edited] copy from https://github.com/fastai/course-nlp/blob/master/8-translation-transformer.ipynb \n",
    "class TransformerEmbedding(nn.Module):\n",
    "    \"Embedding + positional encoding + dropout\"\n",
    "    def __init__(self, vocab_sz, emb_sz, inp_p=0.):\n",
    "        super().__init__()\n",
    "        self.emb_sz = emb_sz\n",
    "        self.embed = embedding(vocab_sz, emb_sz)\n",
    "        self.pos_enc = PositionalEncoding(emb_sz)\n",
    "        self.drop = nn.Dropout(inp_p)\n",
    "    \n",
    "    def forward(self, inp): \n",
    "        pos = torch.arange(0, inp.size(1), device=inp.device)\n",
    "        return self.drop(self.embed(inp.long()) * math.sqrt(self.emb_sz) + self.pos_enc(pos.float()))"
   ]
  },
  {
   "cell_type": "code",
   "execution_count": 4,
   "metadata": {},
   "outputs": [],
   "source": [
    "# copy from https://github.com/fastai/course-nlp/blob/master/8-translation-transformer.ipynb\n",
    "def feed_forward(d_model, d_ff, ff_p=0., double_drop=True):\n",
    "    layers = [nn.Linear(d_model, d_ff), nn.ReLU()]\n",
    "    if double_drop: layers.append(nn.Dropout(ff_p))\n",
    "    return SequentialEx(*layers, nn.Linear(d_ff, d_model), nn.Dropout(ff_p), MergeLayer(), nn.LayerNorm(d_model))"
   ]
  },
  {
   "cell_type": "code",
   "execution_count": 5,
   "metadata": {},
   "outputs": [],
   "source": [
    "# copy from https://github.com/fastai/course-nlp/blob/master/8-translation-transformer.ipynb \n",
    "class MultiHeadAttention(nn.Module):\n",
    "    def __init__(self, n_heads, d_model, d_head=None, p=0., bias=True, scale=True):\n",
    "        super().__init__()\n",
    "        d_head = ifnone(d_head, d_model//n_heads)\n",
    "        self.n_heads,self.d_head,self.scale = n_heads,d_head,scale\n",
    "        self.q_wgt,self.k_wgt,self.v_wgt = [nn.Linear(\n",
    "            d_model, n_heads * d_head, bias=bias) for o in range(3)]\n",
    "        self.out = nn.Linear(n_heads * d_head, d_model, bias=bias)\n",
    "        self.drop_att,self.drop_res = nn.Dropout(p),nn.Dropout(p)\n",
    "        self.ln = nn.LayerNorm(d_model)\n",
    "        \n",
    "    def forward(self, q, kv, mask=None):\n",
    "        return self.ln(q + self.drop_res(self.out(self._apply_attention(q, kv, mask=mask))))\n",
    "    \n",
    "    def create_attn_mat(self, x, layer, bs):\n",
    "        return layer(x).view(bs, x.size(1), self.n_heads, self.d_head\n",
    "                            ).permute(0, 2, 1, 3)\n",
    "    \n",
    "    def _apply_attention(self, q, kv, mask=None):\n",
    "        bs,seq_len = q.size(0),q.size(1)\n",
    "        wq,wk,wv = map(lambda o: self.create_attn_mat(*o,bs),\n",
    "                       zip((q,kv,kv),(self.q_wgt,self.k_wgt,self.v_wgt)))\n",
    "        attn_score = wq @ wk.transpose(2,3)\n",
    "        if self.scale: attn_score /= math.sqrt(self.d_head)\n",
    "        if mask is not None: \n",
    "            attn_score = attn_score.float().masked_fill(mask, -float('inf')).type_as(attn_score)\n",
    "        attn_prob = self.drop_att(F.softmax(attn_score, dim=-1))\n",
    "        attn_vec = attn_prob @ wv\n",
    "        return attn_vec.permute(0, 2, 1, 3).contiguous().view(bs, seq_len, -1)"
   ]
  },
  {
   "cell_type": "code",
   "execution_count": 6,
   "metadata": {},
   "outputs": [],
   "source": [
    "# copy from https://github.com/fastai/course-nlp/blob/master/8-translation-transformer.ipynb \n",
    "def get_output_mask(inp):\n",
    "    return torch.triu(inp.new_ones(inp.size(1),inp.size(1)), diagonal=1)[None,None].byte()"
   ]
  },
  {
   "cell_type": "code",
   "execution_count": 7,
   "metadata": {},
   "outputs": [],
   "source": [
    "# copy from https://github.com/fastai/course-nlp/blob/master/8-translation-transformer.ipynb \n",
    "class EncoderBlock(nn.Module):\n",
    "    \"Encoder block of a Transformer model.\"\n",
    "    #Can't use Sequential directly cause more than one input...\n",
    "    def __init__(self, n_heads, d_model, d_head, d_inner, p=0., bias=True, scale=True, double_drop=True):\n",
    "        super().__init__()\n",
    "        self.mha = MultiHeadAttention(n_heads, d_model, d_head, p=p, bias=bias, scale=scale)\n",
    "        self.ff  = feed_forward(d_model, d_inner, ff_p=p, double_drop=double_drop)\n",
    "    \n",
    "    def forward(self, x, mask=None): return self.ff(self.mha(x, x, mask=mask))"
   ]
  },
  {
   "cell_type": "code",
   "execution_count": 8,
   "metadata": {},
   "outputs": [],
   "source": [
    "# copy from https://github.com/fastai/course-nlp/blob/master/8-translation-transformer.ipynb \n",
    "class DecoderBlock(nn.Module):\n",
    "    \"Decoder block of a Transformer model.\"\n",
    "    #Can't use Sequential directly cause more than one input...\n",
    "    def __init__(self, n_heads, d_model, d_head, d_inner, p=0., bias=True, scale=True, double_drop=True):\n",
    "        super().__init__()\n",
    "        self.mha1 = MultiHeadAttention(n_heads, d_model, d_head, p=p, bias=bias, scale=scale)\n",
    "        self.mha2 = MultiHeadAttention(n_heads, d_model, d_head, p=p, bias=bias, scale=scale)\n",
    "        self.ff   = feed_forward(d_model, d_inner, ff_p=p, double_drop=double_drop)\n",
    "    \n",
    "    def forward(self, x, enc, mask_out=None): return self.ff(self.mha2(self.mha1(x, x, mask_out), enc))"
   ]
  },
  {
   "cell_type": "code",
   "execution_count": 9,
   "metadata": {},
   "outputs": [],
   "source": [
    "# [edited] copy from https://github.com/fastai/course-nlp/blob/master/8-translation-transformer.ipynb \n",
    "class Model(Module):\n",
    "    def __init__(self, inp_vsz, out_vsz, n_layers=6, n_heads=8, d_model=256, d_head=32, \n",
    "                 d_inner=1024, p=0.1, bias=True, scale=True, double_drop=True, pad_idx=0):\n",
    "        self.enc_emb = TransformerEmbedding(inp_vsz, d_model, p)\n",
    "        self.dec_emb = TransformerEmbedding(out_vsz, d_model, 0.)\n",
    "        args = (n_heads, d_model, d_head, d_inner, p, bias, scale, double_drop)\n",
    "        self.encoder = nn.ModuleList([EncoderBlock(*args) for _ in range(n_layers)])\n",
    "        self.decoder = nn.ModuleList([DecoderBlock(*args) for _ in range(n_layers)])\n",
    "        self.out = nn.Linear(d_model, out_vsz)\n",
    "        self.out.weight = self.dec_emb.embed.weight\n",
    "        self.criterion = CrossEntropyFlat(ignore_index=0)\n",
    "        \n",
    "    def predict(self, inp, out, mask=True):\n",
    "        mask_out = get_output_mask(out) if mask else None\n",
    "        enc,out = self.enc_emb(inp),self.dec_emb(out)\n",
    "        enc = compose(self.encoder)(enc)\n",
    "        out = compose(self.decoder)(out, enc, mask_out)\n",
    "        return self.out(out)\n",
    "    \n",
    "    def loss(self, pred, en_ans):\n",
    "        batch_size, length = en_ans.shape[0], en_ans.shape[1]\n",
    "        # train data:   eg. [BOS] I am a ... [EOS] [PAD]\n",
    "        # ground truth: eg. I am a ... [EOS] [PAD] [PAD]\n",
    "        with torch.no_grad():\n",
    "            accuracy = float(torch.sum((pred.argmax(dim=2)==en_ans) * (en_ans!=0)))/float(torch.sum(en_ans!=0))\n",
    "       \n",
    "        loss = self.criterion(pred, en_ans)\n",
    "        return loss, accuracy\n",
    "    \n",
    "    def forward(self, ja_seq, en_seq, en_ans):\n",
    "        pred = self.predict(ja_seq, en_seq)\n",
    "        return self.loss(pred, en_ans)"
   ]
  },
  {
   "cell_type": "code",
   "execution_count": 10,
   "metadata": {},
   "outputs": [],
   "source": [
    "def get_param(*,cuda_optim=False,n_layers=6,n_heads=8,d_model=256,d_head=32,d_inner=1024,\n",
    "              drop=0.1,bias=True,scale=True,double_drop=True,lrate_coef=1,warmup_steps=4000):\n",
    "    return {'cuda_optim':cuda_optim, 'n_layers':n_layers, 'n_heads':n_heads, 'd_model':d_model, 'd_head':d_head,\n",
    "            'd_inner':d_inner, 'drop':drop, 'bias':bias, 'scale':scale, 'double_drop':double_drop,\n",
    "            'lrate_coef':lrate_coef, 'warmup_steps':warmup_steps }"
   ]
  },
  {
   "cell_type": "code",
   "execution_count": 11,
   "metadata": {},
   "outputs": [],
   "source": [
    "def get_elms(params, device:str, ja_dicsize, en_dicsize, model=None):\n",
    "    torch.backends.cudnn.benchmark = params['cuda_optim']\n",
    "    if model is None:\n",
    "        model = Model(ja_dicsize, en_dicsize, n_layers=params['n_layers'], n_heads=params['n_heads'], \n",
    "                      d_model=params['d_model'], d_head=params['d_head'], d_inner=params['d_inner'], \n",
    "                      p=params['drop'], bias=params['bias'], scale=params['scale'], double_drop=params['double_drop']).to(torch.float)\n",
    "    optimizer = optim.Adam(model.parameters(),betas=(0.9, 0.98), eps=1e-09)\n",
    "    lrate_lambda = lambda step_num: params['d_model']**(-0.5)*params['lrate_coef']*min((step_num+1)**(-0.5), (step_num+1)*params['warmup_steps']**(-1.5))\n",
    "    scheduler = optim.lr_scheduler.LambdaLR(optimizer, lr_lambda=[lrate_lambda])\n",
    "    device = torch.device(device if torch.cuda.is_available() else \"cpu\")\n",
    "    print(device)\n",
    "    print(sum(p.numel() for p in model.parameters()))\n",
    "    return model, optimizer, scheduler, device"
   ]
  },
  {
   "cell_type": "code",
   "execution_count": 12,
   "metadata": {},
   "outputs": [
    {
     "name": "stdout",
     "output_type": "stream",
     "text": [
      "[NbConvertApp] Converting notebook fastai_model.ipynb to python\n",
      "[NbConvertApp] Writing 9798 bytes to fastai_model.py\n"
     ]
    }
   ],
   "source": [
    "if __name__ == '__main__':\n",
    "    !jupyter nbconvert --to python fastai_model.ipynb"
   ]
  },
  {
   "cell_type": "markdown",
   "metadata": {},
   "source": [
    "----\n",
    "----"
   ]
  },
  {
   "cell_type": "code",
   "execution_count": 1,
   "metadata": {},
   "outputs": [],
   "source": [
    "if __name__ == '__main__':\n",
    "    from Chapter10_91 import Translator, DataSet, EarlyStopping, Print, Save, Tensorboard, BleuCallback, Trainer\n",
    "    from fastai_model import get_param, get_elms\n",
    "    import torch\n",
    "    import torch.optim as optim"
   ]
  },
  {
   "cell_type": "code",
   "execution_count": 2,
   "metadata": {},
   "outputs": [
    {
     "name": "stdout",
     "output_type": "stream",
     "text": [
      "23767 20176\n"
     ]
    }
   ],
   "source": [
    "if __name__ == '__main__':\n",
    "    import pickle\n",
    "    with open('model_logs/ja_dic.pickle', 'rb') as f: ja_dic = pickle.load(f)\n",
    "    with open('model_logs/en_dic.pickle', 'rb') as f: en_dic = pickle.load(f)\n",
    "    ja_dicsize = max(ja_dic.values())+1\n",
    "    en_dicsize = max(en_dic.values())+1\n",
    "    print(ja_dicsize, en_dicsize)"
   ]
  },
  {
   "cell_type": "code",
   "execution_count": 3,
   "metadata": {},
   "outputs": [
    {
     "name": "stdout",
     "output_type": "stream",
     "text": [
      "cuda:9\n",
      "44611280\n"
     ]
    }
   ],
   "source": [
    "if __name__ == '__main__':\n",
    "    batch_size = 64*2\n",
    "    lrate_coef =  25000/batch_size\n",
    "    params = get_param(d_model=512, lrate_coef=lrate_coef)\n",
    "    model, optimizer, scheduler, device = get_elms(params, 'cuda:9', ja_dicsize, en_dicsize)"
   ]
  },
  {
   "cell_type": "code",
   "execution_count": 4,
   "metadata": {},
   "outputs": [],
   "source": [
    "if __name__ == '__main__':\n",
    "    translator = Translator(ja_dic, en_dic)\n",
    "    trainset = DataSet(\"train\", maxlength=60, pathkey=\"ids\")\n",
    "    devset = DataSet(\"dev\", maxlength=60, pathkey=\"ids\")"
   ]
  },
  {
   "cell_type": "code",
   "execution_count": 5,
   "metadata": {},
   "outputs": [
    {
     "name": "stdout",
     "output_type": "stream",
     "text": [
      "savedir:model_logs/fastai_20200804_140519\n",
      "tensorboard tagname: 20200804_140521_fastai\n"
     ]
    }
   ],
   "source": [
    "if __name__ == '__main__':\n",
    "    from string import ascii_letters\n",
    "    from random import choices\n",
    "    examples = [\"私以外私じゃないの\", \"私は猫です。\", \"日本の水墨画を一変させた。\"]\n",
    "    \n",
    "    bleu_cb = BleuCallback(lambda seq: \" \".join([translator.en_dic_rev[s] if s!=12 else ''.join(choices(ascii_letters,k=5)) for s in seq]))\n",
    "    es_cb = EarlyStopping(count=10)\n",
    "    save_cb = Save(model,'model_logs/fastai/')\n",
    "    tb_cb = Tensorboard('./tb_logs/', 'fastai', bleu_cb)\n",
    "    print_cb = Print(model, translator, device, examples=examples, early_stopping=es_cb, bleu_callback=bleu_cb)\n",
    "    callbacks = [es_cb,bleu_cb,save_cb,tb_cb,print_cb]"
   ]
  },
  {
   "cell_type": "code",
   "execution_count": 6,
   "metadata": {},
   "outputs": [
    {
     "name": "stdout",
     "output_type": "stream",
     "text": [
      ">10[  1/300]epoch: loss: 5.7504896, 4.4247640 | acc: 22.23026%, 31.50379% | bleu: 3.69683\n",
      "   私以外私じゃないの　　　　\t[UNK] [UNK] [UNK] no no no no no no no no no no [UNK] no no no no no no no no no no no\n",
      "   私は猫です。　　　　　　　\t[UNK] [UNK] [UNK] [UNK] [UNK] [UNK] [UNK] [UNK] [UNK] [UNK] [UNK] [UNK] [UNK] [UNK] . [EOS]\n",
      "   日本の水墨画を一変させた。\tIn Japan Japan Japan [UNK] [UNK] [UNK] [UNK] [UNK] [UNK] [UNK] [UNK] [UNK] [UNK] [UNK] [UNK] . [EOS]\n",
      ">10[  2/300]epoch: loss: 3.6574278, 3.3536151 | acc: 38.76648%, 41.28869% | bleu: 8.28098\n",
      "   私以外私じゃないの　　　　\tI I I I I I I you you you you you you you you you you you you you you you you you you\n",
      "   私は猫です。　　　　　　　\tI I I I I I I I I I I I I I I I I I I I I I I I I\n",
      "   日本の水墨画を一変させた。\tThe Japanese - painting painting painting of Japanese painting painting was changed to [UNK] [UNK] . [EOS]\n",
      ">10[  3/300]epoch: loss: 2.9297309, 2.9189712 | acc: 46.61794%, 46.24513% | bleu: 13.04202\n",
      "   私以外私じゃないの　　　　\tI do do do do not do do do do do do do do do do do do do do do do do do do\n",
      "   私は猫です。　　　　　　　\tI [UNK] [UNK] [UNK] [UNK] [UNK] [UNK] [UNK] [UNK] [UNK] [UNK] [UNK] [UNK] [UNK] . I I I I . I I I I I\n",
      "   日本の水墨画を一変させた。\tJapan ink ink ink ink painting in Japan was changed changed changed . [EOS]\n",
      ">10[  4/300]epoch: loss: 2.5801626, 2.7397113 | acc: 50.72523%, 48.60346% | bleu: 15.41226\n",
      "   私以外私じゃないの　　　　\tI do not do do do do not do do do do do do do do do do do do do do do do do\n",
      "   私は猫です。　　　　　　　\tI is a [UNK] , a [UNK] [UNK] . I I ? I [UNK] my my [UNK] . [EOS]\n",
      "   日本の水墨画を一変させた。\tThe Japanese ink - ink ink painting in Japan changed changed changed changed . [EOS]\n",
      ">10[  5/300]epoch: loss: 2.3803192, 2.6198167 | acc: 53.12661%, 49.96502% | bleu: 15.95756\n",
      "   私以外私じゃないの　　　　\tI do not do do do not do do do do do do do do do do do do do do do do do do\n",
      "   私は猫です。　　　　　　　\tI is a [UNK] , a [UNK] , a [UNK] . I ? I I ? I ? I I [UNK] you ? I I\n",
      "   日本の水墨画を一変させた。\tThe Japanese ink ink painting painting of Japanese ink painting in Japan changed changed changed drastically . [EOS]\n",
      ">10[  6/300]epoch: loss: 2.2476741, 2.5644980 | acc: 54.76192%, 50.42039% | bleu: 16.53896\n",
      "   私以外私じゃないの　　　　\tI do not do do do not do do do do do do do do do do do do do do do do do do\n",
      "   私は猫です。　　　　　　　\tI is a cat [UNK] a [UNK] [UNK] . I ! ! ! I [UNK] ! ! I ! ! I ! ! ! I\n",
      "   日本の水墨画を一変させた。\tThe Japanese ink ink ink ink painting in Japan changed changed drastically . [EOS]\n",
      ">10[  7/300]epoch: loss: 2.1514471, 2.5556599 | acc: 55.98584%, 51.02693% | bleu: 16.76852\n",
      "   私以外私じゃないの　　　　\tI do not do not do any any any any other than I I I do not . [EOS]\n",
      "   私は猫です。　　　　　　　\tI is a cat a cat [UNK] . [EOS]\n",
      "   日本の水墨画を一変させた。\tHe changed the Japanese ink ink - ink painting in Japan changed drastically . [EOS]\n",
      ">10[  8/300]epoch: loss: 2.0757469, 2.5211461 | acc: 56.96154%, 51.11316% | bleu: 17.20148\n",
      "   私以外私じゃないの　　　　\tI I do not do any any any other than I I I do not . [EOS]\n",
      "   私は猫です。　　　　　　　\tI is a cat [UNK] [UNK] [UNK] [UNK] [UNK] [UNK] [UNK] [UNK] [UNK] [UNK] [UNK] [UNK] [UNK] [UNK] [UNK] [UNK] [UNK] [UNK] [UNK] [UNK] [UNK]\n",
      "   日本の水墨画を一変させた。\tHe changed Japanese ink - ink ink painting in Japan changed drastically . [EOS]\n",
      ">10[  9/300]epoch: loss: 2.0149474, 2.5070883 | acc: 57.77366%, 51.68603% | bleu: 17.62529\n",
      "   私以外私じゃないの　　　　\tI I do not do any any any other other than I I I I do not do any any any any any any any\n",
      "   私は猫です。　　　　　　　\tI is a cat a cat [UNK] a cat . [EOS]\n",
      "   日本の水墨画を一変させた。\tHe made Japanese Suiboku - ink painting in Japan completely completely changed . [EOS]\n",
      ">10[ 10/300]epoch: loss: 1.9631538, 2.4892827 | acc: 58.45218%, 52.04043% | bleu: 17.77046\n",
      "   私以外私じゃないの　　　　\tNot any any any other than I I I I do not do any any any any any any other than I I do not\n",
      "   私は猫です。　　　　　　　\tI is a cat a cat [UNK] . [EOS]\n",
      "   日本の水墨画を一変させた。\tHe completely changed the Japanese ink - ink - ink - wash Japanese ink - ink - wash Japanese ink - ink - ink -\n",
      ">10[ 11/300]epoch: loss: 1.9183156, 2.4892296 | acc: 59.10800%, 51.89851% | bleu: 17.87744\n",
      "   私以外私じゃないの　　　　\tI I do not do any any any other other than I I I I I do not I I I do not I do\n",
      "   私は猫です。　　　　　　　\tI am a cat a cat [UNK] a [UNK] . [EOS]\n",
      "   日本の水墨画を一変させた。\tHe completely changed the Japanese ink - ink ink - wash Japanese ink - ink - wash Japanese in Japan completely completely changed . [EOS]\n",
      "  9[ 12/300]epoch: loss: 1.8791935, 2.4982973 | acc: 59.65014%, 52.14346% | bleu: 18.42238\n",
      "   私以外私じゃないの　　　　\tI I do not do any any any other than I I I do not do I do not do any any any any any\n",
      "   私は猫です。　　　　　　　\tI am a cat a cat [UNK] a cat . [EOS]\n",
      "   日本の水墨画を一変させた。\tHe completely changed the Japanese ink - ink ink - wash Japanese ink - ink - ink painting in Japan changed drastically . [EOS]\n",
      "  8[ 13/300]epoch: loss: 1.8443045, 2.4896104 | acc: 60.14161%, 52.15462% | bleu: 18.40627\n",
      "   私以外私じゃないの　　　　\t[UNK] other than I I I I do not I I do not I I do not I do not . I I do not\n",
      "   私は猫です。　　　　　　　\tI am a cat a cat [UNK] a cat . [EOS]\n",
      "   日本の水墨画を一変させた。\tHe completely changed the Japanese ink - ink ink - wash Japanese ink - ink - ink painting in Japan completely changed . [EOS]\n",
      "  7[ 14/300]epoch: loss: 1.8127058, 2.4955348 | acc: 60.61284%, 52.02012% | bleu: 19.87248\n",
      "   私以外私じゃないの　　　　\tI I do not do not I except I I do not I do not . [EOS]\n",
      "   私は猫です。　　　　　　　\tI am a cat a cat [UNK] a cat . [EOS]\n",
      "   日本の水墨画を一変させた。\tHe completely changed the Japanese ink - ink ink - wash Japanese ink - ink painting completely changed . [EOS]\n",
      "  6[ 15/300]epoch: loss: 1.7834514, 2.4937441 | acc: 61.03256%, 52.22665% | bleu: 20.32745\n",
      "   私以外私じゃないの　　　　\tOther than I I I do not even I I do not even I I do not I do not I do I do not\n",
      "   私は猫です。　　　　　　　\tI am a cat a cat [UNK] a cat . [EOS]\n",
      "   日本の水墨画を一変させた。\tHe completely changed the Japanese ink - ink ink - wash Japanese ink - ink - wash Japanese . [EOS]\n",
      "  5[ 16/300]epoch: loss: 1.7572036, 2.5034528 | acc: 61.43833%, 52.02075% | bleu: 19.97861\n",
      "   私以外私じゃないの　　　　\tI I do not I do not I do not I do not I do not . I do not . I do not do\n",
      "   私は猫です。　　　　　　　\tI am a cat a cat [UNK] a cat . [EOS]\n",
      "   日本の水墨画を一変させた。\tHe completely changed the Japanese ink - ink ink - wash Japanese ink - wash Japanese ink - ink painting completely changed . [EOS]\n",
      "  4[ 17/300]epoch: loss: 1.7329246, 2.5051807 | acc: 61.78396%, 52.19642% | bleu: 19.87528\n",
      "   私以外私じゃないの　　　　\tI I do not do not I except I I do not I I do not I do not . I do not I do\n",
      "   私は猫です。　　　　　　　\tI am a cat [UNK] a cat ? I am a cat . I am a cat cat . [EOS]\n",
      "   日本の水墨画を一変させた。\tHe completely completely changed the ink - wash Japanese ink - ink - wash Japanese ink - ink - ink - ink - ink -\n",
      "  3[ 18/300]epoch: loss: 1.7096287, 2.5149392 | acc: 62.14933%, 52.22034% | bleu: 21.16471\n",
      "   私以外私じゃないの　　　　\tI I I do not I I do not I I do not I I do not I I do not I I do not\n",
      "   私は猫です。　　　　　　　\tI am a cats cats ? I am a cat ? [EOS]\n",
      "   日本の水墨画を一変させた。\tHe completely changed the Japanese ink - ink ink - wash Japanese ink - ink - ink - wash Japanese . [EOS]\n",
      "  2[ 19/300]epoch: loss: 1.6889221, 2.5206642 | acc: 62.46609%, 52.30643% | bleu: 20.66936\n",
      "   私以外私じゃないの　　　　\tNo other than I I I do not I I do not I I do not do I do not I do not I do\n",
      "   私は猫です。　　　　　　　\tI am a cat cat I am a cat [UNK] . [EOS]\n",
      "   日本の水墨画を一変させた。\tHe completely completely changed the Japanese ink - ink - ink - wash Japanese ink - ink - ink - ink - ink - Japanese\n",
      "  1[ 20/300]epoch: loss: 1.6683287, 2.5096892 | acc: 62.80595%, 52.41046% | bleu: 20.86027\n",
      "   私以外私じゃないの　　　　\tI I do not do not I except I I do not I I do not I do not I do not I do not\n",
      "   私は猫です。　　　　　　　\tI am a cat [UNK] , but I am a cat . [EOS]\n",
      "   日本の水墨画を一変させた。\tHe completely changed the Japanese ink - ink - ink - wash Japanese ink - ink - wash Japanese . [EOS]\n",
      "  0[ 21/300]epoch: loss: 1.6497557, 2.5342620 | acc: 63.07573%, 52.28938% | bleu: 21.00373\n",
      "   私以外私じゃないの　　　　\tNo other than I I I I I do not I I do not I I do not I I do not I do not\n",
      "   私は猫です。　　　　　　　\tI am a cat cat I am a cat cat . [EOS]\n",
      "   日本の水墨画を一変させた。\tHe drastically drastically changed Japanese ink - ink - wash Japanese ink - ink - ink - wash Japanese . [EOS]\n"
     ]
    }
   ],
   "source": [
    "if __name__ == '__main__':\n",
    "    trainer = Trainer(translator, trainset, devset, device=device)\n",
    "    trainer.run(model, optimizer, epoch=300, device=device, batch_size=batch_size, shuffle=True, scheduler=scheduler, callbacks=callbacks)"
   ]
  },
  {
   "cell_type": "code",
   "execution_count": 1,
   "metadata": {},
   "outputs": [
    {
     "data": {
      "image/png": "[encoded data removed]",
      "text/plain": [
       "<IPython.core.display.Image object>"
      ]
     },
     "execution_count": 1,
     "metadata": {},
     "output_type": "execute_result"
    }
   ],
   "source": [
    "from IPython.display import Image\n",
    "Image(\"imgs/20200804_140521_fastai.png\")"
   ]
  }
 ],
 "metadata": {
  "kernelspec": {
   "display_name": "Python 3",
   "language": "python",
   "name": "python3"
  },
  "language_info": {
   "codemirror_mode": {
    "name": "ipython",
    "version": 3
   },
   "file_extension": ".py",
   "mimetype": "text/x-python",
   "name": "python",
   "nbconvert_exporter": "python",
   "pygments_lexer": "ipython3",
   "version": "3.8.2"
  }
 },
 "nbformat": 4,
 "nbformat_minor": 4
}
