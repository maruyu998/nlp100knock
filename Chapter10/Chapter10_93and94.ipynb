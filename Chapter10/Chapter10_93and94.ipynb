{
 "cells": [
  {
   "cell_type": "markdown",
   "metadata": {},
   "source": [
    "## 93. BLEUスコアの計測\n",
    "<p>91で学習したニューラル機械翻訳モデルの品質を調べるため，評価データにおけるBLEUスコアを測定せよ．</p>"
   ]
  },
  {
   "cell_type": "code",
   "execution_count": 1,
   "metadata": {},
   "outputs": [],
   "source": [
    "from fastai_model import Model, get_param, get_elms\n",
    "from Chapter10_91 import Translator, DataSet, dataloader\n",
    "import torch\n",
    "import pickle\n",
    "if __name__ == '__main__':\n",
    "    with open('model_logs/ja_dic.pickle', 'rb') as f: ja_dic = pickle.load(f)\n",
    "    with open('model_logs/en_dic.pickle', 'rb') as f: en_dic = pickle.load(f)\n",
    "    ja_dicsize = max(ja_dic.values())+1\n",
    "    en_dicsize = max(en_dic.values())+1"
   ]
  },
  {
   "cell_type": "code",
   "execution_count": 2,
   "metadata": {},
   "outputs": [
    {
     "name": "stdout",
     "output_type": "stream",
     "text": [
      "cuda_optim: False\n",
      "n_layers: 6\n",
      "n_heads: 8\n",
      "d_model: 256\n",
      "d_head: 32\n",
      "d_inner: 1024\n",
      "drop: 0.1\n",
      "bias: True\n",
      "scale: True\n",
      "double_drop: True\n",
      "lrate_coef: 1\n",
      "warmup_steps: 4000\n"
     ]
    }
   ],
   "source": [
    "if __name__ == '__main__':\n",
    "    for k,v in get_param().items():\n",
    "        print(f\"{k}: {v}\")"
   ]
  },
  {
   "cell_type": "code",
   "execution_count": 3,
   "metadata": {},
   "outputs": [
    {
     "name": "stdout",
     "output_type": "stream",
     "text": [
      "cuda:9\n",
      "44611280\n"
     ]
    }
   ],
   "source": [
    "if __name__ == '__main__':\n",
    "    params = get_param(d_model=512)\n",
    "    model, optimizer, scheduler, device = get_elms(params, 'cuda:9', ja_dicsize, en_dicsize)\n",
    "    model.load_state_dict(torch.load(\"model_logs/fastai_20200804_140519/18_save.t7\", map_location=lambda storage, loc: storage))"
   ]
  },
  {
   "cell_type": "code",
   "execution_count": 4,
   "metadata": {},
   "outputs": [],
   "source": [
    "if __name__ == '__main__':\n",
    "    devset = DataSet(\"dev\")\n",
    "    testset = DataSet(\"test\")\n",
    "    translator = Translator(ja_dic, en_dic)"
   ]
  },
  {
   "cell_type": "code",
   "execution_count": 5,
   "metadata": {},
   "outputs": [],
   "source": [
    "from tqdm import tqdm\n",
    "import torch\n",
    "from Chapter10_91 import forceSacrebleuScorer\n",
    "\n",
    "def bleu_score(model, dataset, translator, func, device=torch.device('cpu'), beam=1, total=None):\n",
    "    sacrebleu = forceSacrebleuScorer()\n",
    "    loader = dataloader(dataset, batch_size=1, device=device, shuffle=True)\n",
    "    model.to(device)\n",
    "    total = total if total else len(loader)-1\n",
    "    with tqdm(enumerate(loader), total=total, desc=f\"beam={beam:>3}\") as t:\n",
    "        for step,(ja,en,en_ans) in t:\n",
    "            ja, en, en_ans = ja[0], en[0], en_ans[0].tolist()\n",
    "            pred = translator.translate_j2e_seq(model, ja, length=len(en), device=device, stop=True, beam=beam)[0][0]\n",
    "            sacrebleu.add_string(ref=func(en_ans[:-1]), pred=func(pred[:-1]+([] if pred[-1]==11 else [pred[-1]])))\n",
    "            if step == total:\n",
    "                score = sacrebleu.score()\n",
    "                t.postfix = f\"beam={beam}\\t: bleu:{score:.8f}\"\n",
    "                t.update()\n",
    "                return score, sacrebleu.result_string().format()"
   ]
  },
  {
   "cell_type": "code",
   "execution_count": 6,
   "metadata": {},
   "outputs": [
    {
     "name": "stderr",
     "output_type": "stream",
     "text": [
      "beam=  1: 100%|██████████| 1165/1165 [04:06<00:00,  4.73it/s, beam=1\t: bleu:12.99745547]"
     ]
    },
    {
     "name": "stdout",
     "output_type": "stream",
     "text": [
      "bleu:12.99745547, BLEU = 13.00 44.9/19.2/9.6/5.2 (BP = 0.903 ratio = 0.907 hyp_len = 22639 ref_len = 24953)\n"
     ]
    },
    {
     "name": "stderr",
     "output_type": "stream",
     "text": [
      "\n"
     ]
    }
   ],
   "source": [
    "if __name__ == '__main__':\n",
    "    from string import ascii_letters\n",
    "    from random import choices\n",
    "    func = lambda seq: \" \".join([translator.en_dic_rev[s] if s!=12 else ''.join(choices(ascii_letters,k=5)) for s in seq])\n",
    "    score, string = bleu_score(model, devset, translator, func, device=device)\n",
    "    print(f\"bleu:{score:.8f}, {string}\")"
   ]
  },
  {
   "cell_type": "markdown",
   "metadata": {},
   "source": [
    "## 94. ビーム探索\n",
    "<p>91で学習したニューラル機械翻訳モデルで翻訳文をデコードする際に，ビーム探索を導入せよ．ビーム幅を1から100くらいまで適当に変化させながら，開発セット上のBLEUスコアの変化をプロットせよ．</p>"
   ]
  },
  {
   "cell_type": "markdown",
   "metadata": {},
   "source": [
    "### beam search was implemented at \n",
    "[./Chapter10_91.ipynb](Chapter10_91.ipynb)"
   ]
  },
  {
   "cell_type": "code",
   "execution_count": 9,
   "metadata": {},
   "outputs": [],
   "source": [
    "if __name__ == '__main__':\n",
    "    import matplotlib.pyplot as plt\n",
    "    bleus = {}\n",
    "    func = lambda seq: \" \".join([translator.en_dic_rev[s] if s!=12 else ''.join(choices(ascii_letters,k=5)) for s in seq])"
   ]
  },
  {
   "cell_type": "code",
   "execution_count": 18,
   "metadata": {},
   "outputs": [
    {
     "data": {
      "image/png": "[encoded data removed]",
      "text/plain": [
       "<Figure size 432x288 with 1 Axes>"
      ]
     },
     "metadata": {
      "needs_background": "light"
     },
     "output_type": "display_data"
    }
   ],
   "source": [
    "if __name__ == '__main__':\n",
    "    for i in list(range(1,10))+[10,20,30,40,60]:\n",
    "        if i in bleus.keys(): continue\n",
    "        bleus[i] = bleu_score(model, devset, translator, func, device=device, beam=i)\n",
    "    plt.plot(list(bleus.keys()), list(map(lambda x:x[0], bleus.values())), label=\"bleu\")\n",
    "    plt.legend()"
   ]
  },
  {
   "cell_type": "code",
   "execution_count": 19,
   "metadata": {},
   "outputs": [
    {
     "data": {
      "text/plain": [
       "{1: (12.997455471988497,\n",
       "  'BLEU = 13.00 44.9/19.2/9.6/5.2 (BP = 0.903 ratio = 0.907 hyp_len = 22639 ref_len = 24953)'),\n",
       " 2: (13.517700851201953,\n",
       "  'BLEU = 13.52 46.3/20.2/10.3/5.4 (BP = 0.897 ratio = 0.902 hyp_len = 22512 ref_len = 24953)'),\n",
       " 3: (13.657914758702722,\n",
       "  'BLEU = 13.66 46.7/20.7/10.4/5.5 (BP = 0.893 ratio = 0.898 hyp_len = 22409 ref_len = 24953)'),\n",
       " 4: (13.972630602741944,\n",
       "  'BLEU = 13.97 47.1/21.1/10.7/5.7 (BP = 0.892 ratio = 0.898 hyp_len = 22400 ref_len = 24953)'),\n",
       " 5: (13.831063695359758,\n",
       "  'BLEU = 13.83 47.0/20.9/10.6/5.6 (BP = 0.888 ratio = 0.894 hyp_len = 22307 ref_len = 24953)'),\n",
       " 6: (13.853889830690191,\n",
       "  'BLEU = 13.85 47.0/20.9/10.7/5.6 (BP = 0.888 ratio = 0.894 hyp_len = 22310 ref_len = 24953)'),\n",
       " 7: (14.093023960240476,\n",
       "  'BLEU = 14.09 47.4/21.3/10.9/5.8 (BP = 0.886 ratio = 0.892 hyp_len = 22268 ref_len = 24953)'),\n",
       " 8: (13.873522344847736,\n",
       "  'BLEU = 13.87 47.3/21.2/10.7/5.7 (BP = 0.883 ratio = 0.889 hyp_len = 22189 ref_len = 24953)'),\n",
       " 9: (13.87461167230344,\n",
       "  'BLEU = 13.87 47.2/21.1/10.7/5.7 (BP = 0.885 ratio = 0.891 hyp_len = 22228 ref_len = 24953)'),\n",
       " 10: (13.88996455638204,\n",
       "  'BLEU = 13.89 47.3/21.1/10.7/5.7 (BP = 0.885 ratio = 0.891 hyp_len = 22235 ref_len = 24953)'),\n",
       " 20: (14.23172659566346,\n",
       "  'BLEU = 14.23 47.5/21.5/11.1/6.0 (BP = 0.883 ratio = 0.889 hyp_len = 22184 ref_len = 24953)'),\n",
       " 30: (14.241706182423325,\n",
       "  'BLEU = 14.24 47.4/21.5/11.1/6.0 (BP = 0.882 ratio = 0.888 hyp_len = 22161 ref_len = 24953)'),\n",
       " 40: (14.158829379349113,\n",
       "  'BLEU = 14.16 47.4/21.5/11.1/6.0 (BP = 0.878 ratio = 0.885 hyp_len = 22077 ref_len = 24953)'),\n",
       " 60: (14.164595921187336,\n",
       "  'BLEU = 14.16 47.3/21.5/11.1/6.0 (BP = 0.879 ratio = 0.886 hyp_len = 22100 ref_len = 24953)')}"
      ]
     },
     "execution_count": 19,
     "metadata": {},
     "output_type": "execute_result"
    }
   ],
   "source": [
    "if __name__ == '__main__':\n",
    "    bleus"
   ]
  },
  {
   "cell_type": "code",
   "execution_count": 20,
   "metadata": {},
   "outputs": [
    {
     "name": "stdout",
     "output_type": "stream",
     "text": [
      "[NbConvertApp] Converting notebook Chapter10_93and94.ipynb to python\n",
      "[NbConvertApp] Writing 3328 bytes to Chapter10_93and94.py\n"
     ]
    }
   ],
   "source": [
    "if __name__ == '__main__':\n",
    "    !jupyter nbconvert --to python Chapter10_93and94.ipynb"
   ]
  }
 ],
 "metadata": {
  "kernelspec": {
   "display_name": "Python 3",
   "language": "python",
   "name": "python3"
  },
  "language_info": {
   "codemirror_mode": {
    "name": "ipython",
    "version": 3
   },
   "file_extension": ".py",
   "mimetype": "text/x-python",
   "name": "python",
   "nbconvert_exporter": "python",
   "pygments_lexer": "ipython3",
   "version": "3.8.2"
  }
 },
 "nbformat": 4,
 "nbformat_minor": 4
}
